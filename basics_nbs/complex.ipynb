{
 "cells": [
  {
   "cell_type": "markdown",
   "metadata": {},
   "source": [
    "-------------------------------------------------\n",
    "\n",
    "This notebook is part of the [q4p (Quantum Computing for Programmers) series](https://github.com/CarloLepelaars/q4p). The original notebook can be found on [Github](https://github.com/CarloLepelaars/q4p/blob/main/basics_nbs/complex.ipynb).\n",
    "\n",
    "-------------------------------------------------"
   ]
  },
  {
   "cell_type": "markdown",
   "metadata": {},
   "source": [
    "# Introduction to complex numbers"
   ]
  },
  {
   "cell_type": "markdown",
   "metadata": {},
   "source": [
    "This notebook gives you a primer on complex numbers, which are an essential part of quantum computing. Even if you are already familiar with them, this can still serve as a good refresher before diving into the [q4p](https://carlo.ai/q4p) course."
   ]
  },
  {
   "cell_type": "markdown",
   "metadata": {},
   "source": [
    "## Complex number representations\n",
    "\n",
    "Complex numbers are numbers with two components: a real part $x$ and an imaginary part $y$. We can visually represent this as a point on a (unit) circle.\n",
    "\n",
    "# <img src=\"https://upload.wikimedia.org/wikipedia/commons/c/c6/ImaginaryUnit5.svg\" style=\"background-color: white; display: block; margin-left: auto; margin-right: auto; width: 40%;\">\n",
    "\n",
    "The structure of a complex number ($\\mathbb{C}$) is $z = x + yi$, where $x$ and $y$ are real numbers ($x,y \\in \\mathbb{R}$), and $i^2 = -1$. \n",
    "\n",
    "In Python we can use the built-in `complex` type to create a complex number. For example, below we create the complex number $2 + 2i$. In Python and most of engineering $j$ is used instead of $i$. Be aware that $i$ and $j$ refer to the same imaginary number.\n",
    "\n",
    "A definition of $i$ you will often see is $\\sqrt{-1} = i$. This property allows us to take the square root of negative numbers, which is convenient as it extends our number system to handle calculations that would otherwise be undefined. For example, equations like $x^2 = -1$ can now be solved. Quantum states and transformations are defined using complex numbers, so it is important to understand how they work. Below we will analyze the properties of complex numbers in-depth.\n"
   ]
  },
  {
   "cell_type": "code",
   "execution_count": 1,
   "metadata": {},
   "outputs": [],
   "source": [
    "# NumPy for representing vectors and matrices\n",
    "import numpy as np\n",
    "# Matplotlib for visualization\n",
    "import matplotlib.pyplot as plt"
   ]
  },
  {
   "cell_type": "code",
   "execution_count": 2,
   "metadata": {},
   "outputs": [],
   "source": [
    "# Complex number as a standard type in Python\n",
    "z = complex(2 + 1j)"
   ]
  },
  {
   "cell_type": "markdown",
   "metadata": {},
   "source": [
    "If we add a `j` to the number, Python will automatically create a complex number."
   ]
  },
  {
   "cell_type": "code",
   "execution_count": 3,
   "metadata": {},
   "outputs": [
    {
     "data": {
      "text/plain": [
       "(2+1j)"
      ]
     },
     "execution_count": 3,
     "metadata": {},
     "output_type": "execute_result"
    }
   ],
   "source": [
    "py_complex_number = 2 + 1j\n",
    "py_complex_number"
   ]
  },
  {
   "cell_type": "markdown",
   "metadata": {},
   "source": [
    "From this Python object we can select the real and imaginary parts."
   ]
  },
  {
   "cell_type": "code",
   "execution_count": 4,
   "metadata": {},
   "outputs": [
    {
     "data": {
      "text/plain": [
       "(2.0, 1.0)"
      ]
     },
     "execution_count": 4,
     "metadata": {},
     "output_type": "execute_result"
    }
   ],
   "source": [
    "py_complex_number.real, py_complex_number.imag"
   ]
  },
  {
   "cell_type": "markdown",
   "metadata": {},
   "source": [
    "In the [q4p](https://carlo.ai/q4p) course we will mainly use [NumPy](https://numpy.org) to create complex numbers, vectors and matrices. The standard NumPy type for complex numbers is `numpy.complex128`."
   ]
  },
  {
   "cell_type": "code",
   "execution_count": 5,
   "metadata": {},
   "outputs": [],
   "source": [
    "numpy_complex_number = np.complex128(2 + 1j)"
   ]
  },
  {
   "cell_type": "markdown",
   "metadata": {},
   "source": [
    "NumPy has more operations to transform complex numbers. It also allows us to create complex vectors and matrices."
   ]
  },
  {
   "cell_type": "code",
   "execution_count": 6,
   "metadata": {},
   "outputs": [
    {
     "data": {
      "text/plain": [
       "(2.0, 1.0)"
      ]
     },
     "execution_count": 6,
     "metadata": {},
     "output_type": "execute_result"
    }
   ],
   "source": [
    "numpy_complex_number.real, numpy_complex_number.imag"
   ]
  },
  {
   "cell_type": "markdown",
   "metadata": {},
   "source": [
    "A complex number can be viewed as a vector in 2 dimensions. This intuition will be very helpful when we start working with quantum states. Below you can see that $2+1i$ points to $2$ on the X-axis and $1$ on the Y-axis."
   ]
  },
  {
   "cell_type": "code",
   "execution_count": 7,
   "metadata": {},
   "outputs": [
    {
     "data": {
      "image/png": "[encoded data removed]",
      "text/plain": [
       "<Figure size 600x400 with 1 Axes>"
      ]
     },
     "metadata": {},
     "output_type": "display_data"
    }
   ],
   "source": [
    "def plot_complex_number(z: complex):\n",
    "    \"\"\"Plot complex numbers on 2 dimensions.\"\"\"\n",
    "    plt.figure(figsize=(6, 4))\n",
    "    ax = plt.gca()\n",
    "    plt.quiver(0, 0, z.real, z.imag, angles=\"xy\", scale_units=\"xy\", scale=1, color=\"blue\", label=f\"{z}\")\n",
    "    ax.set_aspect(\"equal\")\n",
    "    plt.xlim(-3, 3)\n",
    "    plt.ylim(-3, 3)\n",
    "    plt.axhline(y=0, color=\"k\", linestyle=\"-\", linewidth=0.5)\n",
    "    plt.axvline(x=0, color=\"k\", linestyle=\"-\", linewidth=0.5)\n",
    "    plt.xlabel(\"Real\")\n",
    "    plt.ylabel(\"Imaginary\")\n",
    "    plt.grid(True)\n",
    "    plt.legend()\n",
    "    plt.title(\"Complex Number as a 2D Vector\")\n",
    "\n",
    "\n",
    "plot_complex_number(2 + 1j)"
   ]
  },
  {
   "cell_type": "markdown",
   "metadata": {},
   "source": [
    "Creating a vector out of multiple complex numbers adds to the dimensions. In quantum computing we will mainly use vectors to represent **statevectors**."
   ]
  },
  {
   "cell_type": "code",
   "execution_count": 8,
   "metadata": {},
   "outputs": [
    {
     "data": {
      "text/plain": [
       "array([1.+0.j, 0.+0.j])"
      ]
     },
     "execution_count": 8,
     "metadata": {},
     "output_type": "execute_result"
    }
   ],
   "source": [
    "# Complex vector\n",
    "np.array([1 + 0j, 0 + 0j])"
   ]
  },
  {
   "cell_type": "markdown",
   "metadata": {},
   "source": [
    "Complex matrices are used in quantum computing to represent **operators**. "
   ]
  },
  {
   "cell_type": "code",
   "execution_count": 9,
   "metadata": {},
   "outputs": [
    {
     "data": {
      "text/plain": [
       "array([[ 0.+0.j, -0.-1.j],\n",
       "       [ 0.+1.j,  0.+0.j]])"
      ]
     },
     "execution_count": 9,
     "metadata": {},
     "output_type": "execute_result"
    }
   ],
   "source": [
    "# Complex matrix\n",
    "np.array([[0, -1j], [1j, 0]])"
   ]
  },
  {
   "cell_type": "markdown",
   "metadata": {},
   "source": [
    "By definition of the complex numbers, $\\sqrt{-1} = i$."
   ]
  },
  {
   "cell_type": "code",
   "execution_count": 10,
   "metadata": {},
   "outputs": [
    {
     "data": {
      "text/plain": [
       "1j"
      ]
     },
     "execution_count": 10,
     "metadata": {},
     "output_type": "execute_result"
    }
   ],
   "source": [
    "np.sqrt(-1 + 0j)"
   ]
  },
  {
   "cell_type": "markdown",
   "metadata": {},
   "source": [
    "Make sure that the number is a complex number or you will get a `nan` (not a number) from NumPy."
   ]
  },
  {
   "cell_type": "code",
   "execution_count": 11,
   "metadata": {},
   "outputs": [
    {
     "name": "stderr",
     "output_type": "stream",
     "text": [
      "/var/folders/d5/1qd2ftjn7ts_5_k6w2k2g4c00000gn/T/ipykernel_71088/3438155168.py:1: RuntimeWarning: invalid value encountered in sqrt\n",
      "  np.sqrt(-1)\n"
     ]
    },
    {
     "data": {
      "text/plain": [
       "nan"
      ]
     },
     "execution_count": 11,
     "metadata": {},
     "output_type": "execute_result"
    }
   ],
   "source": [
    "np.sqrt(-1)"
   ]
  },
  {
   "cell_type": "markdown",
   "metadata": {},
   "source": [
    "# Polar form"
   ]
  },
  {
   "cell_type": "markdown",
   "metadata": {},
   "source": [
    "A complex number can be decomposed as follows using a Polar form:\n",
    "\n",
    "$$z = a+bi = r cos(\\theta) + r sin(\\theta) i$$\n",
    "\n",
    "where $r = |z|$ is the magnitude of the complex number and $\\theta = \\arctan(\\frac{\\text{Im}(z)}{\\text{Re}(z)})$ is the angle (theta) in radians.\n",
    "\n"
   ]
  },
  {
   "cell_type": "markdown",
   "metadata": {},
   "source": [
    "Let's decompose the complex number $2+1j$ into its polar form and verify that the formula is correct."
   ]
  },
  {
   "cell_type": "code",
   "execution_count": 12,
   "metadata": {},
   "outputs": [
    {
     "data": {
      "text/plain": [
       "(2+1j)"
      ]
     },
     "execution_count": 12,
     "metadata": {},
     "output_type": "execute_result"
    }
   ],
   "source": [
    "z = 2 + 1j\n",
    "z"
   ]
  },
  {
   "cell_type": "markdown",
   "metadata": {},
   "source": [
    "$r = |z|$ (absolute value of z)"
   ]
  },
  {
   "cell_type": "code",
   "execution_count": 13,
   "metadata": {},
   "outputs": [
    {
     "data": {
      "text/plain": [
       "2.23606797749979"
      ]
     },
     "execution_count": 13,
     "metadata": {},
     "output_type": "execute_result"
    }
   ],
   "source": [
    "r = np.abs(z)\n",
    "r"
   ]
  },
  {
   "cell_type": "markdown",
   "metadata": {},
   "source": [
    "$\\theta = arctan(\\frac{\\text{Im}(z)}{\\text{Re}(z)})$. $Im =$ Imaginary part, $Re =$ Real part"
   ]
  },
  {
   "cell_type": "code",
   "execution_count": 14,
   "metadata": {},
   "outputs": [
    {
     "data": {
      "text/plain": [
       "0.4636476090008061"
      ]
     },
     "execution_count": 14,
     "metadata": {},
     "output_type": "execute_result"
    }
   ],
   "source": [
    "theta = np.arctan2(z.imag, z.real)\n",
    "theta"
   ]
  },
  {
   "cell_type": "markdown",
   "metadata": {},
   "source": [
    "A simplified way to calculate $arctan(\\frac{\\text{Im}(z)}{\\text{Re}(z)})$ is to use NumPy's `angle` function."
   ]
  },
  {
   "cell_type": "code",
   "execution_count": 15,
   "metadata": {},
   "outputs": [
    {
     "data": {
      "text/plain": [
       "0.4636476090008061"
      ]
     },
     "execution_count": 15,
     "metadata": {},
     "output_type": "execute_result"
    }
   ],
   "source": [
    "np.angle(z)"
   ]
  },
  {
   "cell_type": "markdown",
   "metadata": {},
   "source": [
    "We can see that $z = r cos(\\theta) + r sin(\\theta) i$. `np.allclose` is used to check two values. `np.allclose` is `True` if the values are the same and `False` otherwise."
   ]
  },
  {
   "cell_type": "code",
   "execution_count": 16,
   "metadata": {},
   "outputs": [
    {
     "data": {
      "text/plain": [
       "(2+1j)"
      ]
     },
     "execution_count": 16,
     "metadata": {},
     "output_type": "execute_result"
    }
   ],
   "source": [
    "polar_form = r * np.cos(theta) + r * np.sin(theta) * 1j\n",
    "polar_form"
   ]
  },
  {
   "cell_type": "code",
   "execution_count": 17,
   "metadata": {},
   "outputs": [
    {
     "data": {
      "text/plain": [
       "True"
      ]
     },
     "execution_count": 17,
     "metadata": {},
     "output_type": "execute_result"
    }
   ],
   "source": [
    "np.allclose(z, polar_form)"
   ]
  },
  {
   "cell_type": "markdown",
   "metadata": {},
   "source": [
    "# Exponential form"
   ]
  },
  {
   "cell_type": "markdown",
   "metadata": {},
   "source": [
    "Another more compact way to represent a complex number is using its exponential form:\n",
    "\n",
    "$$z = re^{i\\theta}$$\n",
    "\n",
    "Let's also verify that this identity is correct.\n",
    "\n"
   ]
  },
  {
   "cell_type": "code",
   "execution_count": 18,
   "metadata": {},
   "outputs": [
    {
     "data": {
      "text/plain": [
       "(2+1j)"
      ]
     },
     "execution_count": 18,
     "metadata": {},
     "output_type": "execute_result"
    }
   ],
   "source": [
    "z"
   ]
  },
  {
   "cell_type": "markdown",
   "metadata": {},
   "source": [
    "We have already calculated $r$ and $\\theta$ above. We show that indeed $z = re^{i\\theta}$."
   ]
  },
  {
   "cell_type": "code",
   "execution_count": 19,
   "metadata": {},
   "outputs": [
    {
     "data": {
      "text/plain": [
       "(2+1j)"
      ]
     },
     "execution_count": 19,
     "metadata": {},
     "output_type": "execute_result"
    }
   ],
   "source": [
    "exp_form = r * np.exp(1j * theta)\n",
    "exp_form"
   ]
  },
  {
   "cell_type": "code",
   "execution_count": 20,
   "metadata": {},
   "outputs": [
    {
     "data": {
      "text/plain": [
       "True"
      ]
     },
     "execution_count": 20,
     "metadata": {},
     "output_type": "execute_result"
    }
   ],
   "source": [
    "np.allclose(z, exp_form)"
   ]
  },
  {
   "cell_type": "markdown",
   "metadata": {},
   "source": [
    "## Normalized States\n",
    "\n",
    "In quantum computing we generally only encounter vectors where $r=1$, since quantum states must be normalized. This means that we can simplify our equations to:\n"
   ]
  },
  {
   "cell_type": "markdown",
   "metadata": {},
   "source": [
    "$$z = e^{i\\theta} = cos(\\theta) + i sin(\\theta)$$"
   ]
  },
  {
   "cell_type": "markdown",
   "metadata": {},
   "source": [
    "An example of a normalized state you will encounter in quantum computing is the superposition of two states:\n",
    "\n",
    "$$z = \\frac{1}{\\sqrt{2}} + \\frac{1}{\\sqrt{2}}i$$\n",
    "\n",
    "This is the case because $\\sqrt{a^2 + b^2} = 1$ with $z = a + bi$:\n",
    "\n",
    "$$|z| = \\sqrt{\\left(\\frac{1}{\\sqrt{2}}\\right)^2 + \\left(\\frac{1}{\\sqrt{2}}\\right)^2} = \\sqrt{\\frac{1}{2} + \\frac{1}{2}} = \\sqrt{1} = 1$$\n"
   ]
  },
  {
   "cell_type": "code",
   "execution_count": 21,
   "metadata": {},
   "outputs": [
    {
     "data": {
      "text/plain": [
       "(0.7071067811865475+0.7071067811865475j)"
      ]
     },
     "execution_count": 21,
     "metadata": {},
     "output_type": "execute_result"
    }
   ],
   "source": [
    "z = (1 / np.sqrt(2)) + (1 / np.sqrt(2)) * 1j\n",
    "z"
   ]
  },
  {
   "cell_type": "code",
   "execution_count": 22,
   "metadata": {},
   "outputs": [
    {
     "data": {
      "text/plain": [
       "0.7853981633974483"
      ]
     },
     "execution_count": 22,
     "metadata": {},
     "output_type": "execute_result"
    }
   ],
   "source": [
    "theta = np.angle(z)\n",
    "theta"
   ]
  },
  {
   "cell_type": "markdown",
   "metadata": {},
   "source": [
    "First we check that $z = cos(\\theta) + i sin(\\theta)$ for a normalized state:"
   ]
  },
  {
   "cell_type": "code",
   "execution_count": 23,
   "metadata": {},
   "outputs": [
    {
     "data": {
      "text/plain": [
       "(0.7071067811865476+0.7071067811865475j)"
      ]
     },
     "execution_count": 23,
     "metadata": {},
     "output_type": "execute_result"
    }
   ],
   "source": [
    "norm_polar_form = np.cos(theta) + np.sin(theta) * 1j\n",
    "norm_polar_form"
   ]
  },
  {
   "cell_type": "code",
   "execution_count": 24,
   "metadata": {},
   "outputs": [
    {
     "data": {
      "text/plain": [
       "True"
      ]
     },
     "execution_count": 24,
     "metadata": {},
     "output_type": "execute_result"
    }
   ],
   "source": [
    "np.allclose(z, norm_polar_form)"
   ]
  },
  {
   "cell_type": "markdown",
   "metadata": {},
   "source": [
    "Now we check that $z = e^{i\\theta}$ for a normalized state:"
   ]
  },
  {
   "cell_type": "code",
   "execution_count": 25,
   "metadata": {},
   "outputs": [
    {
     "data": {
      "text/plain": [
       "(0.7071067811865476+0.7071067811865475j)"
      ]
     },
     "execution_count": 25,
     "metadata": {},
     "output_type": "execute_result"
    }
   ],
   "source": [
    "norm_exp_form = np.exp(1j * theta)\n",
    "norm_exp_form"
   ]
  },
  {
   "cell_type": "code",
   "execution_count": 26,
   "metadata": {},
   "outputs": [
    {
     "data": {
      "text/plain": [
       "True"
      ]
     },
     "execution_count": 26,
     "metadata": {},
     "output_type": "execute_result"
    }
   ],
   "source": [
    "np.allclose(z, norm_exp_form)"
   ]
  },
  {
   "cell_type": "markdown",
   "metadata": {},
   "source": [
    "## Complex Conjugate ($*$)\n",
    "\n",
    "An operation we often encounter in quantum computing is the complex conjugate ($*$). This simply means that the complex part of the number is flipped. With NumPy we can use the `np.conj` function to get the complex conjugate.\n",
    "\n",
    "$$z = a + bi$$\n",
    "\n",
    "$$z^* = a - bi$$\n"
   ]
  },
  {
   "cell_type": "code",
   "execution_count": 27,
   "metadata": {},
   "outputs": [
    {
     "data": {
      "text/plain": [
       "(3+2j)"
      ]
     },
     "execution_count": 27,
     "metadata": {},
     "output_type": "execute_result"
    }
   ],
   "source": [
    "z = 3 + 2j\n",
    "z"
   ]
  },
  {
   "cell_type": "code",
   "execution_count": 28,
   "metadata": {},
   "outputs": [
    {
     "data": {
      "text/plain": [
       "(3-2j)"
      ]
     },
     "execution_count": 28,
     "metadata": {},
     "output_type": "execute_result"
    }
   ],
   "source": [
    "# 3+2j -> 3-2j\n",
    "np.conj(z)"
   ]
  },
  {
   "cell_type": "markdown",
   "metadata": {},
   "source": [
    "For NumPy numbers and arrays we can call `.conj()` directly on the object."
   ]
  },
  {
   "cell_type": "code",
   "execution_count": 29,
   "metadata": {},
   "outputs": [
    {
     "data": {
      "text/plain": [
       "(3-2j)"
      ]
     },
     "execution_count": 29,
     "metadata": {},
     "output_type": "execute_result"
    }
   ],
   "source": [
    "# 3+2j -> 3-2j\n",
    "np.complex128(z).conj()"
   ]
  },
  {
   "cell_type": "code",
   "execution_count": 30,
   "metadata": {},
   "outputs": [
    {
     "data": {
      "text/plain": [
       "array([1.-2.j, 3.-4.j])"
      ]
     },
     "execution_count": 30,
     "metadata": {},
     "output_type": "execute_result"
    }
   ],
   "source": [
    "# [1+2j, 3+4j] -> [1-2j, 3-4j]\n",
    "np.array([1 + 2j, 3 + 4j]).conj()"
   ]
  },
  {
   "cell_type": "markdown",
   "metadata": {},
   "source": [
    "## Conjugate Transpose ($\\dagger$)\n",
    "\n",
    "Another common quantum computing operation you will encounter is the conjugate transpose ($\\dagger$). This is simply an extension of the complex conjugate where we take both the complex conjugate ($*$) and the transpose $^T$. The conjugate transpose is formally denoted by a dagger ($\\dagger$) and is sometimes called the \"Dagger operation\". In quantum mechanics you may also encounter the terms \"Hermitian conjugate\" or \"Hermitian adjoint\" for this operation. In NumPy we simply add `.T` to our complex conjugate (`.conj().T`) to get the conjugate transpose.\n",
    "\n",
    "For vectors the conjugate transpose simplify flips a row vector into a column vector and vice versa. It also flips the sign of the imaginary part ($*$): \n",
    "$$v = \\begin{bmatrix}\n",
    " a_1 & a_2 & \\cdots & a_n\n",
    "\\end{bmatrix}$$\n",
    "\n",
    "$$v^\\dagger = \\begin{bmatrix}\n",
    "    a_1^* \\\\\n",
    "    a_2^* \\\\\n",
    "    \\vdots \\\\\n",
    "    a_n^*\n",
    "\\end{bmatrix}$$\n",
    "\n",
    "For matrices the conjugate transpose flips the rows and columns and again flips the sign of the imaginary part ($*$):\n",
    "\n",
    "$$A = \\begin{bmatrix}\n",
    "    a_{11} & a_{12} & \\cdots & a_{1n} \\\\\n",
    "    a_{21} & a_{22} & \\cdots & a_{2n} \\\\\n",
    "    \\vdots & \\vdots & \\ddots & \\vdots \\\\\n",
    "    a_{n1} & a_{n2} & \\cdots & a_{nn}\n",
    "\\end{bmatrix}$$\n",
    "\n",
    "$$A^\\dagger = \\begin{bmatrix}\n",
    "    a_{11}^* & a_{21}^* & \\cdots & a_{n1}^* \\\\\n",
    "    a_{12}^* & a_{22}^* & \\cdots & a_{n2}^* \\\\\n",
    "    \\vdots & \\vdots & \\ddots & \\vdots \\\\\n",
    "    a_{1n}^* & a_{2n}^* & \\cdots & a_{nn}^*\n",
    "\\end{bmatrix}$$\n"
   ]
  },
  {
   "cell_type": "code",
   "execution_count": 31,
   "metadata": {},
   "outputs": [
    {
     "data": {
      "text/plain": [
       "array([[1.+2.j, 3.+4.j]])"
      ]
     },
     "execution_count": 31,
     "metadata": {},
     "output_type": "execute_result"
    }
   ],
   "source": [
    "vector = np.array([[1 + 2j, 3 + 4j]])\n",
    "vector"
   ]
  },
  {
   "cell_type": "code",
   "execution_count": 32,
   "metadata": {},
   "outputs": [
    {
     "data": {
      "text/plain": [
       "array([[1.-2.j],\n",
       "       [3.-4.j]])"
      ]
     },
     "execution_count": 32,
     "metadata": {},
     "output_type": "execute_result"
    }
   ],
   "source": [
    "# [[1+2j, 3+4j]] -> [[1-2j,\n",
    "#                    [3-4j]]\n",
    "vector.conj().T"
   ]
  },
  {
   "cell_type": "code",
   "execution_count": 33,
   "metadata": {},
   "outputs": [
    {
     "data": {
      "text/plain": [
       "array([[1.+2.j, 3.+4.j],\n",
       "       [5.+6.j, 7.+8.j]])"
      ]
     },
     "execution_count": 33,
     "metadata": {},
     "output_type": "execute_result"
    }
   ],
   "source": [
    "matrix = np.array([[1 + 2j, 3 + 4j], [5 + 6j, 7 + 8j]])\n",
    "matrix"
   ]
  },
  {
   "cell_type": "code",
   "execution_count": 34,
   "metadata": {},
   "outputs": [
    {
     "data": {
      "text/plain": [
       "array([[1.-2.j, 5.-6.j],\n",
       "       [3.-4.j, 7.-8.j]])"
      ]
     },
     "execution_count": 34,
     "metadata": {},
     "output_type": "execute_result"
    }
   ],
   "source": [
    "# [[1+2j, 3+4j] -> [[1-2j, 5-6j]\n",
    "#  [5+6j, 7+8j]]    [3-4j, 7-8j]]\n",
    "matrix.conj().T"
   ]
  },
  {
   "cell_type": "markdown",
   "metadata": {},
   "source": [
    "That is the core of what you should know about complex numbers to get started with quantum computing! For additional video instruction I would recommend the following videos:\n",
    "- [Quantum Computing Course: 0.1 Introduction to Imaginary and Complex Numbers](https://www.youtube.com/watch?v=8J-H7gbDCos)\n",
    "- [Quantum Computing Course: 0.2 Complex Numbers on the Number Plane](https://www.youtube.com/watch?v=F7vHr7blzJ4)\n",
    "- [Imaginary numbers aren't imaginary](https://www.youtube.com/watch?v=pfIGMWxjFTQ)\n",
    "- [Complex numbers aren't complex](https://www.youtube.com/watch?v=ho3UPqCnzLQ)\n",
    "- [The Square Root of Negative One](https://www.youtube.com/watch?v=lFT2hwsCMls)\n",
    "- [Complex Numbers in Quantum Mechanics](https://www.youtube.com/watch?v=qtIsYbYdzCI)\n",
    "\n",
    "Continue with the q4p course:\n",
    "- [On Github](https://github.com/CarloLepelaars/q4p/blob/main/nbs/00b-marbles.ipynb)\n",
    "- [On Kaggle](https://www.kaggle.com/code/carlolepelaars/q4p-00b-marbles-high-level-overview)\n",
    "\n",
    "**If you are viewing this notebook on Kaggle, consider giving an upvote and leaving a comment. Your feedback is very welcome and I will try to implement your suggestions in this notebook.**\n",
    "\n",
    "**If you are viewing this notebook on Github, please consider giving a star to the repository.**"
   ]
  },
  {
   "cell_type": "markdown",
   "metadata": {},
   "source": [
    "-------------------------------------------------\n",
    "\n",
    "This notebook is part of the [q4p (Quantum Computing for Programmers) series](https://github.com/CarloLepelaars/q4p). The original notebook can be found on [Github](https://github.com/CarloLepelaars/q4p/blob/main/basics_nbs/complex.ipynb).\n",
    "\n",
    "-------------------------------------------------"
   ]
  }
 ],
 "metadata": {
  "kernelspec": {
   "display_name": "py312",
   "language": "python",
   "name": "python3"
  },
  "language_info": {
   "codemirror_mode": {
    "name": "ipython",
    "version": 3
   },
   "file_extension": ".py",
   "mimetype": "text/x-python",
   "name": "python",
   "nbconvert_exporter": "python",
   "pygments_lexer": "ipython3",
   "version": "3.12.0"
  }
 },
 "nbformat": 4,
 "nbformat_minor": 2
}
