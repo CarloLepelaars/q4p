{
 "cells": [
  {
   "cell_type": "markdown",
   "metadata": {},
   "source": [
    "# Work In Progress (WIP)\n",
    "\n"
   ]
  },
  {
   "cell_type": "markdown",
   "metadata": {},
   "source": [
    "# 3. Multi-qubit gates and algorithms"
   ]
  },
  {
   "cell_type": "code",
   "execution_count": 1,
   "metadata": {},
   "outputs": [],
   "source": [
    "# Specific install for Kaggle Notebooks environment\n",
    "import os\n",
    "iskaggle = os.environ.get('KAGGLE_KERNEL_RUN_TYPE', '')\n",
    "\n",
    "# Kaleido is used to convert Plotly to static png\n",
    "!pip install -Uqq kaleido\n",
    "!pip install -Uqq skq"
   ]
  },
  {
   "cell_type": "markdown",
   "metadata": {},
   "source": [
    "# skq"
   ]
  },
  {
   "cell_type": "markdown",
   "metadata": {},
   "source": [
    "In previous notebooks we got an extensive overview of how to work with a single qubit. In this notebook we will generalize to multiple qubits and finally look at meaningful algorithms that quantum computing offers. The previous notebooks gave you a solid toolbox from which to construct these algorithms. From here we will focus more on applying gates to construct quantum circuits.\n",
    "\n",
    "To avoid having to construct gates and concepts from scratch each time we will use the [skq](https://github.com/CarloLepelaars/skq) library. I built this library so you can easily play with quantum concepts (in NumPy) and build your own algorithms. These circuits can then be converted to popular quantum frameworks like [Qiskit](https://github.com/Qiskit/qiskit) and [OpenQASM](https://openqasm.com/intro.html) so you can run them on real quantum computers.\n",
    "\n",
    "All the quantum logic gates we talked about in previous notebooks can be found in the `skq.gates.qubit` module. We will also heavily use `Concat` for multi-qubit gates and `Circuit` for quantum circuits. These are relatively simple objects, but can be extended to any complex circuit."
   ]
  },
  {
   "cell_type": "code",
   "execution_count": 2,
   "metadata": {},
   "outputs": [],
   "source": [
    "import numpy as np\n",
    "\n",
    "from skq.gates.qubit import X, H, I, CX, CCX, SWAP, CSwap, Measure\n",
    "from skq.circuits import Concat, Circuit, BellStates\n",
    "\n",
    "import plotly.graph_objects as go\n",
    "\n",
    "# Fix Plotly rendering in Jupyter forks.\n",
    "# If you are running this notebook locally you can comment this out.\n",
    "# This allows you to play with interactive Plotly plots.\n",
    "import plotly.io as pio\n",
    "pio.renderers.default = 'png'"
   ]
  },
  {
   "cell_type": "markdown",
   "metadata": {},
   "source": [
    "## Bell State"
   ]
  },
  {
   "cell_type": "markdown",
   "metadata": {},
   "source": [
    "One of the first breakthroughs for quantum computing was the discovery and application of a completely entangled state called the Bell state. In this state 2 qubits are 100% correlated to each other. This enables use cases that are not possible classically like quantum communication and quantum teleportation.\n",
    "\n",
    "The simplest Bell State ($| \\Psi^+ \\rangle$) is called the Phi Plus state and is defined as follows:\n",
    "\n",
    "$$\n",
    "| \\Psi^+ \\rangle = \\frac{1}{\\sqrt{2}} (|00\\rangle + |11\\rangle)\n",
    "$$\n",
    "\n",
    "To prepare entanglement we first initialize two qubits ($|00 \\rangle = [1, 0, 0, 0]$) and put the 1st qubit in the superposition state with a Hadamard ($H$) gate. The 1st qubit is not changed in this first step so the $I$ gate is applied.\n",
    "\n"
   ]
  },
  {
   "cell_type": "markdown",
   "metadata": {},
   "source": [
    "`Concat` is an object we use to concatenate gates for multiple qubits. To obtain the concatenated operation the Tensor (Kronecker) product is used."
   ]
  },
  {
   "cell_type": "code",
   "execution_count": 3,
   "metadata": {},
   "outputs": [],
   "source": [
    "step1 = Concat([H(), I()])"
   ]
  },
  {
   "cell_type": "markdown",
   "metadata": {},
   "source": [
    "The result of a concatenation is not just stacking $2$ matrices, but a new matrix that is applied to a $2$-qubit state. In this case the concatenation of $2$ single qubit gates results in a $4 \\times 4$ matrix. This grows exponentially with the number of qubits. For example, concatenating $3$ single qubit gates results in a $2^3 \\times 2^3 = 8 \\times 8$ matrix."
   ]
  },
  {
   "cell_type": "code",
   "execution_count": 4,
   "metadata": {},
   "outputs": [
    {
     "data": {
      "text/plain": [
       "H([[ 0.70710678+0.j,  0.        +0.j,  0.70710678+0.j,  0.        +0.j],\n",
       "   [ 0.        +0.j,  0.70710678+0.j,  0.        +0.j,  0.70710678+0.j],\n",
       "   [ 0.70710678+0.j,  0.        +0.j, -0.70710678+0.j, -0.        +0.j],\n",
       "   [ 0.        +0.j,  0.70710678+0.j, -0.        +0.j, -0.70710678+0.j]])"
      ]
     },
     "execution_count": 4,
     "metadata": {},
     "output_type": "execute_result"
    }
   ],
   "source": [
    "step1.encoding_matrix"
   ]
  },
  {
   "cell_type": "code",
   "execution_count": 5,
   "metadata": {},
   "outputs": [
    {
     "data": {
      "text/plain": [
       "H([0.70710678+0.j, 0.        +0.j, 0.70710678+0.j, 0.        +0.j])"
      ]
     },
     "execution_count": 5,
     "metadata": {},
     "output_type": "execute_result"
    }
   ],
   "source": [
    "output1 = step1([1, 0, 0, 0])\n",
    "output1"
   ]
  },
  {
   "cell_type": "markdown",
   "metadata": {},
   "source": [
    "We have learned that every qubit gate can also be run in reverse, so we can do the same with `Concat`."
   ]
  },
  {
   "cell_type": "code",
   "execution_count": 6,
   "metadata": {},
   "outputs": [
    {
     "data": {
      "text/plain": [
       "H([ 1.+0.j,  0.+0.j, -0.+0.j,  0.+0.j])"
      ]
     },
     "execution_count": 6,
     "metadata": {},
     "output_type": "execute_result"
    }
   ],
   "source": [
    "step1.decodes(output1).round(8)"
   ]
  },
  {
   "cell_type": "markdown",
   "metadata": {},
   "source": [
    "The two qubits are then entangled using the CNOT ($CX$) gate. This results in a fully entangled state of 2 qubits. It's important to note that we cannot think about single qubits anymore because we now have a 2-qubit state. The individual qubits cannot be visualized nicely on a Bloch sphere anymore, because the state of the qubits depend on each other. It is like flipping 2 coins at the same time, but the outcome will always be either 2 heads or 2 tails."
   ]
  },
  {
   "cell_type": "code",
   "execution_count": 7,
   "metadata": {},
   "outputs": [
    {
     "data": {
      "text/plain": [
       "array([0.70710678+0.j, 0.        +0.j, 0.        +0.j, 0.70710678+0.j])"
      ]
     },
     "execution_count": 7,
     "metadata": {},
     "output_type": "execute_result"
    }
   ],
   "source": [
    "step2 = CX()\n",
    "step2(step1([1, 0, 0, 0]))"
   ]
  },
  {
   "cell_type": "markdown",
   "metadata": {},
   "source": [
    "These qubits can be separated over large distances and can enable secure communication, among other things.\n",
    "\n",
    "Now let's construct the complete circuit and verify that we implemented the Bell state correctly. `Circuit` is a convenient extension of `list` that will run all quantum operations in sequence. It also has functionality to convert to popular quantum frameworks like [Qiskit](https://github.com/Qiskit/qiskit) and [OpenQASM](https://openqasm.com/intro.html)."
   ]
  },
  {
   "cell_type": "code",
   "execution_count": 8,
   "metadata": {},
   "outputs": [
    {
     "data": {
      "text/plain": [
       "array([0.70710678+0.j, 0.        +0.j, 0.        +0.j, 0.70710678+0.j])"
      ]
     },
     "execution_count": 8,
     "metadata": {},
     "output_type": "execute_result"
    }
   ],
   "source": [
    "bell_circuit = Circuit([step1, step2])\n",
    "bell_state = bell_circuit([1, 0, 0, 0])\n",
    "bell_state"
   ]
  },
  {
   "cell_type": "markdown",
   "metadata": {},
   "source": [
    "Recall that measurement can be done by taking the absolute square of the state vector and sampling from it.\n",
    "\n",
    "You will see that the only possible outcomes are $00$ and $11$ and they are roughly evenly distributed. On real quantum computers there is noise so there is a small chance of still measuring $01$ or $10$."
   ]
  },
  {
   "cell_type": "code",
   "execution_count": 9,
   "metadata": {},
   "outputs": [
    {
     "data": {
      "image/png": "[encoded data removed]"
     },
     "metadata": {},
     "output_type": "display_data"
    }
   ],
   "source": [
    "def measure_state(s):\n",
    "    # Absolute value squared gives us the probability distribution from the statevector\n",
    "    p = np.abs(s) ** 2\n",
    "    # Sample from probability distribution to get classical bits\n",
    "    # Only states |00⟩ and |11⟩ should have non-zero probability for Bell state\n",
    "    return np.random.choice([0, 3], p=[p[0], p[3]])\n",
    "\n",
    "# Sample the Bell state 1000 times\n",
    "samples = [measure_state(bell_state) for _ in range(1000)]\n",
    "\n",
    "fig = go.Figure()\n",
    "fig.add_trace(go.Histogram(\n",
    "    x=samples,\n",
    "    xbins=dict(\n",
    "        start=-0.5,\n",
    "        end=3.5,\n",
    "        size=1\n",
    "    ),\n",
    "))\n",
    "fig.update_layout(\n",
    "    title=\"Measurement outcomes for Bell state (|00⟩ + |11⟩)/√2\",\n",
    "    xaxis=dict(\n",
    "        tickmode=\"array\",\n",
    "        tickvals=[0, 1, 2, 3],  # Show all possible states\n",
    "        ticktext=[\"00\", \"01\", \"10\", \"11\"]\n",
    "    ),\n",
    "    yaxis=dict(\n",
    "        title=\"Count\",\n",
    "        range=[0, 600]\n",
    "    ),\n",
    "    bargap=0.7  # Add some gap between bars\n",
    ")\n",
    "fig.show()"
   ]
  },
  {
   "cell_type": "markdown",
   "metadata": {},
   "source": [
    "In `skq` we can directly intialize the Bell states as a building block in our circuits."
   ]
  },
  {
   "cell_type": "code",
   "execution_count": 10,
   "metadata": {},
   "outputs": [],
   "source": [
    "phi_plus = BellStates().get_bell_state(1)\n",
    "\n",
    "bell_state1 = phi_plus([1,0,0,0])\n",
    "assert np.allclose(bell_state, bell_state1)"
   ]
  },
  {
   "cell_type": "markdown",
   "metadata": {},
   "source": [
    "We can convert to a Qiskit circuit. This Qiskit circuit can be run on a real quantum computer. Qiskit also offers visualization tools to inspect the circuit. In total there are 4 Bell states, but the behavior of the 'Plus' and 'Minus' states is the same. For simplicity the conversion will remove any Identity ($I$) gates."
   ]
  },
  {
   "cell_type": "code",
   "execution_count": 11,
   "metadata": {},
   "outputs": [
    {
     "name": "stdout",
     "output_type": "stream",
     "text": [
      "Bell state 1: Phi Plus (|Φ+⟩). Entangles |00⟩ and |11⟩.\n",
      "     ┌───┐     \n",
      "q_0: ┤ H ├──■──\n",
      "     └───┘┌─┴─┐\n",
      "q_1: ─────┤ X ├\n",
      "          └───┘\n",
      "Bell state 2: Phi Minus (|Φ-⟩). Entangles |00⟩ and |11⟩ with opposite phase.\n",
      "     ┌───┐     ┌───┐\n",
      "q_0: ┤ H ├──■──┤ Z ├\n",
      "     └───┘┌─┴─┐└───┘\n",
      "q_1: ─────┤ X ├─────\n",
      "          └───┘     \n",
      "Bell state 3: Psi Plus (|Ψ+⟩). Entangles |01⟩ and |10⟩.\n",
      "     ┌───┐     \n",
      "q_0: ┤ H ├──■──\n",
      "     ├───┤┌─┴─┐\n",
      "q_1: ┤ X ├┤ X ├\n",
      "     └───┘└───┘\n",
      "Bell state 4: Psi Minus (|Ψ-⟩). Entangles |01⟩ and |10⟩ with opposite phase.\n",
      "     ┌───┐┌───┐     \n",
      "q_0: ┤ H ├┤ Z ├──■──\n",
      "     ├───┤├───┤┌─┴─┐\n",
      "q_1: ┤ X ├┤ Z ├┤ X ├\n",
      "     └───┘└───┘└───┘\n"
     ]
    }
   ],
   "source": [
    "bell = BellStates()\n",
    "for i, name in enumerate([\"Phi Plus (|Φ+⟩). Entangles |00⟩ and |11⟩.\", \n",
    "                          \"Phi Minus (|Φ-⟩). Entangles |00⟩ and |11⟩ with opposite phase.\", \n",
    "                          \"Psi Plus (|Ψ+⟩). Entangles |01⟩ and |10⟩.\", \n",
    "                          \"Psi Minus (|Ψ-⟩). Entangles |01⟩ and |10⟩ with opposite phase.\"], \n",
    "                          start=1):\n",
    "    circuit = bell.get_bell_state(i)\n",
    "    qiskit_circuit = circuit.convert(framework=\"qiskit\")\n",
    "    print(f\"Bell state {i}: {name}\")\n",
    "    print(qiskit_circuit.draw())"
   ]
  },
  {
   "cell_type": "markdown",
   "metadata": {},
   "source": [
    "Often it will be clearer to use the [Matplotlib](https://matplotlib.org) circuit visualization to Qiskit offers. Define `output=\"mpl\"` to use this."
   ]
  },
  {
   "cell_type": "code",
   "execution_count": 12,
   "metadata": {},
   "outputs": [
    {
     "data": {
      "image/png": "[encoded data removed]",
      "text/plain": [
       "<Figure size 287.294x200.667 with 1 Axes>"
      ]
     },
     "execution_count": 12,
     "metadata": {},
     "output_type": "execute_result"
    }
   ],
   "source": [
    "phi_plus.convert(framework=\"qiskit\").draw(output=\"mpl\")"
   ]
  },
  {
   "cell_type": "code",
   "execution_count": 13,
   "metadata": {},
   "outputs": [
    {
     "data": {
      "image/png": "[encoded data removed]",
      "text/plain": [
       "<Figure size 287.294x200.667 with 1 Axes>"
      ]
     },
     "execution_count": 13,
     "metadata": {},
     "output_type": "execute_result"
    }
   ],
   "source": [
    "psi_plus = BellStates().get_bell_state(3)\n",
    "psi_plus.convert(framework=\"qiskit\").draw(output=\"mpl\")"
   ]
  },
  {
   "cell_type": "markdown",
   "metadata": {},
   "source": [
    "Another popular standard for defining quantum circuits is [OpenQASM](https://openqasm.com/intro.html). You can think of OpenQASM as a low-level assembly language for quantum computers. We will devote a separate notebook to go more in-depth into OpenQASM. For now understand that many providers of quantum computers support OpenQASM and we can convert `skq` circuits to OpenQASM. "
   ]
  },
  {
   "cell_type": "code",
   "execution_count": 14,
   "metadata": {},
   "outputs": [
    {
     "name": "stdout",
     "output_type": "stream",
     "text": [
      "h q[0];\n",
      "x q[1];\n",
      "cx q[0], q[1];\n"
     ]
    }
   ],
   "source": [
    "print(psi_plus.convert(framework=\"qasm\"))"
   ]
  },
  {
   "cell_type": "markdown",
   "metadata": {},
   "source": [
    "By adding `Measure()` to a circuit we can add measurement to the end of the circuit. The outcome of running the circuit will be a classical bitstring."
   ]
  },
  {
   "cell_type": "code",
   "execution_count": 15,
   "metadata": {},
   "outputs": [
    {
     "data": {
      "image/png": "[encoded data removed]",
      "text/plain": [
       "<Figure size 454.517x284.278 with 1 Axes>"
      ]
     },
     "execution_count": 15,
     "metadata": {},
     "output_type": "execute_result"
    }
   ],
   "source": [
    "psi_plus_with_measure = Circuit([*psi_plus, Measure()])\n",
    "psi_plus_with_measure.convert(framework=\"qiskit\").draw(output=\"mpl\")"
   ]
  },
  {
   "cell_type": "code",
   "execution_count": 16,
   "metadata": {},
   "outputs": [
    {
     "name": "stdout",
     "output_type": "stream",
     "text": [
      "h q[0];\n",
      "x q[1];\n",
      "cx q[0], q[1];\n",
      "measure q[0] -> c[0];\n",
      "measure q[1] -> c[1];\n"
     ]
    }
   ],
   "source": [
    "print(psi_plus_with_measure.convert(framework=\"qasm\"))"
   ]
  },
  {
   "cell_type": "markdown",
   "metadata": {},
   "source": [
    "## GHZ State"
   ]
  },
  {
   "cell_type": "markdown",
   "metadata": {},
   "source": [
    "A GHZ State generalizes the notion of a Bell state to $n$ qubits. This creates a fully entangled state between all the qubits.\n",
    "\n",
    "Let's for example that a 3-qubit GHZ state. It is defined as:\n",
    "\n",
    "$$\n",
    "GHZ_3 = \\frac{1}{\\sqrt{2}}(|000\\rangle + |111\\rangle)\n",
    "$$\n",
    "\n"
   ]
  },
  {
   "cell_type": "code",
   "execution_count": 17,
   "metadata": {},
   "outputs": [],
   "source": [
    "# TODO Show generalization of Bell state to n qubits"
   ]
  },
  {
   "cell_type": "markdown",
   "metadata": {},
   "source": [
    "## Toffoli (CCX) Gate"
   ]
  },
  {
   "cell_type": "markdown",
   "metadata": {},
   "source": [
    "A Toffoli ($CCX$) gate is similar to a CNOT gate, but for 3 qubits. If the 1st 2 qubits are 1, the 3rd qubit is flipped. We therefore say it has 2 control qubits. A gate for 3 qubits requires a $2^3 \\times 2^3 = 8 \\times 8$ matrix to represent classically. You can see why it becomes infeasible to simulate quantum circuits for many qubits on a classical computer.\n",
    "\n",
    "\n",
    "$$CCX = \\begin{bmatrix}\n",
    "1 & 0 & 0 & 0 & 0 & 0 & 0 & 0 \\\\\n",
    "0 & 1 & 0 & 0 & 0 & 0 & 0 & 0 \\\\\n",
    "0 & 0 & 1 & 0 & 0 & 0 & 0 & 0 \\\\\n",
    "0 & 0 & 0 & 1 & 0 & 0 & 0 & 0 \\\\\n",
    "0 & 0 & 0 & 0 & 1 & 0 & 0 & 0 \\\\\n",
    "0 & 0 & 0 & 0 & 0 & 1 & 0 & 0 \\\\\n",
    "0 & 0 & 0 & 0 & 0 & 0 & 0 & 1 \\\\\n",
    "0 & 0 & 0 & 0 & 0 & 0 & 1 & 0 \\\\\n",
    "\\end{bmatrix}\n",
    "$$\n"
   ]
  },
  {
   "cell_type": "code",
   "execution_count": 18,
   "metadata": {},
   "outputs": [
    {
     "data": {
      "text/plain": [
       "CCX([[1.+0.j, 0.+0.j, 0.+0.j, 0.+0.j, 0.+0.j, 0.+0.j, 0.+0.j, 0.+0.j],\n",
       "     [0.+0.j, 1.+0.j, 0.+0.j, 0.+0.j, 0.+0.j, 0.+0.j, 0.+0.j, 0.+0.j],\n",
       "     [0.+0.j, 0.+0.j, 1.+0.j, 0.+0.j, 0.+0.j, 0.+0.j, 0.+0.j, 0.+0.j],\n",
       "     [0.+0.j, 0.+0.j, 0.+0.j, 1.+0.j, 0.+0.j, 0.+0.j, 0.+0.j, 0.+0.j],\n",
       "     [0.+0.j, 0.+0.j, 0.+0.j, 0.+0.j, 1.+0.j, 0.+0.j, 0.+0.j, 0.+0.j],\n",
       "     [0.+0.j, 0.+0.j, 0.+0.j, 0.+0.j, 0.+0.j, 1.+0.j, 0.+0.j, 0.+0.j],\n",
       "     [0.+0.j, 0.+0.j, 0.+0.j, 0.+0.j, 0.+0.j, 0.+0.j, 0.+0.j, 1.+0.j],\n",
       "     [0.+0.j, 0.+0.j, 0.+0.j, 0.+0.j, 0.+0.j, 0.+0.j, 1.+0.j, 0.+0.j]])"
      ]
     },
     "execution_count": 18,
     "metadata": {},
     "output_type": "execute_result"
    }
   ],
   "source": [
    "CCX()"
   ]
  },
  {
   "cell_type": "markdown",
   "metadata": {},
   "source": [
    "We can construct a Toffoli gate from CNOT gates. "
   ]
  },
  {
   "cell_type": "code",
   "execution_count": 19,
   "metadata": {},
   "outputs": [],
   "source": [
    "# Construct Toffoli from CNOT gates"
   ]
  },
  {
   "cell_type": "markdown",
   "metadata": {},
   "source": [
    "## SWAP"
   ]
  },
  {
   "cell_type": "markdown",
   "metadata": {},
   "source": [
    "$$SWAP = \\begin{bmatrix}\n",
    "1 & 0 & 0 & 0 \\\\\n",
    "0 & 0 & 1 & 0 \\\\\n",
    "0 & 1 & 0 & 0 \\\\\n",
    "0 & 0 & 0 & 1 \\\\\n",
    "\\end{bmatrix}\n",
    "$$"
   ]
  },
  {
   "cell_type": "code",
   "execution_count": 20,
   "metadata": {},
   "outputs": [
    {
     "data": {
      "text/plain": [
       "SWAP([[1.+0.j, 0.+0.j, 0.+0.j, 0.+0.j],\n",
       "      [0.+0.j, 0.+0.j, 1.+0.j, 0.+0.j],\n",
       "      [0.+0.j, 1.+0.j, 0.+0.j, 0.+0.j],\n",
       "      [0.+0.j, 0.+0.j, 0.+0.j, 1.+0.j]])"
      ]
     },
     "execution_count": 20,
     "metadata": {},
     "output_type": "execute_result"
    }
   ],
   "source": [
    "SWAP()"
   ]
  },
  {
   "cell_type": "code",
   "execution_count": 21,
   "metadata": {},
   "outputs": [
    {
     "data": {
      "text/plain": [
       "SWAP([0.+0.j, 0.+0.j, 1.+0.j, 0.+0.j])"
      ]
     },
     "execution_count": 21,
     "metadata": {},
     "output_type": "execute_result"
    }
   ],
   "source": [
    "[0,1,0,0] @ SWAP()"
   ]
  },
  {
   "cell_type": "markdown",
   "metadata": {},
   "source": [
    "# TODO Explain SWAP gate and significance for real (transpiled) quantum circuits"
   ]
  },
  {
   "cell_type": "markdown",
   "metadata": {},
   "source": [
    "## BONUS: CSWAP"
   ]
  },
  {
   "cell_type": "markdown",
   "metadata": {},
   "source": [
    "$$CSWAP = \\begin{bmatrix}\n",
    "1 & 0 & 0 & 0 & 0 & 0 & 0 & 0 \\\\\n",
    "0 & 1 & 0 & 0 & 0 & 0 & 0 & 0 \\\\\n",
    "0 & 0 & 1 & 0 & 0 & 0 & 0 & 0 \\\\\n",
    "0 & 0 & 0 & 1 & 0 & 0 & 0 & 0 \\\\\n",
    "0 & 0 & 0 & 0 & 1 & 0 & 0 & 0 \\\\\n",
    "0 & 0 & 0 & 0 & 0 & 0 & 1 & 0 \\\\\n",
    "0 & 0 & 0 & 0 & 0 & 1 & 0 & 0 \\\\\n",
    "0 & 0 & 0 & 0 & 0 & 0 & 0 & 1 \\\\\n",
    "\\end{bmatrix}\n",
    "$$\n"
   ]
  },
  {
   "cell_type": "code",
   "execution_count": 22,
   "metadata": {},
   "outputs": [
    {
     "data": {
      "text/plain": [
       "CSwap([[1.+0.j, 0.+0.j, 0.+0.j, 0.+0.j, 0.+0.j, 0.+0.j, 0.+0.j, 0.+0.j],\n",
       "       [0.+0.j, 1.+0.j, 0.+0.j, 0.+0.j, 0.+0.j, 0.+0.j, 0.+0.j, 0.+0.j],\n",
       "       [0.+0.j, 0.+0.j, 1.+0.j, 0.+0.j, 0.+0.j, 0.+0.j, 0.+0.j, 0.+0.j],\n",
       "       [0.+0.j, 0.+0.j, 0.+0.j, 1.+0.j, 0.+0.j, 0.+0.j, 0.+0.j, 0.+0.j],\n",
       "       [0.+0.j, 0.+0.j, 0.+0.j, 0.+0.j, 1.+0.j, 0.+0.j, 0.+0.j, 0.+0.j],\n",
       "       [0.+0.j, 0.+0.j, 0.+0.j, 0.+0.j, 0.+0.j, 0.+0.j, 1.+0.j, 0.+0.j],\n",
       "       [0.+0.j, 0.+0.j, 0.+0.j, 0.+0.j, 0.+0.j, 1.+0.j, 0.+0.j, 0.+0.j],\n",
       "       [0.+0.j, 0.+0.j, 0.+0.j, 0.+0.j, 0.+0.j, 0.+0.j, 0.+0.j, 1.+0.j]])"
      ]
     },
     "execution_count": 22,
     "metadata": {},
     "output_type": "execute_result"
    }
   ],
   "source": [
    "CSwap()"
   ]
  },
  {
   "cell_type": "code",
   "execution_count": 23,
   "metadata": {},
   "outputs": [
    {
     "data": {
      "text/plain": [
       "CSwap([0.+0.j, 0.+0.j, 0.+0.j, 0.+0.j, 0.+0.j, 0.+0.j, 1.+0.j, 0.+0.j])"
      ]
     },
     "execution_count": 23,
     "metadata": {},
     "output_type": "execute_result"
    }
   ],
   "source": [
    "[0,0,0,0,0,1,0,0] @ CSwap()"
   ]
  },
  {
   "cell_type": "markdown",
   "metadata": {},
   "source": [
    "# Work In Progress (WIP)"
   ]
  }
 ],
 "metadata": {
  "kernelspec": {
   "display_name": "q",
   "language": "python",
   "name": "python3"
  },
  "language_info": {
   "codemirror_mode": {
    "name": "ipython",
    "version": 3
   },
   "file_extension": ".py",
   "mimetype": "text/x-python",
   "name": "python",
   "nbconvert_exporter": "python",
   "pygments_lexer": "ipython3",
   "version": "3.12.4"
  }
 },
 "nbformat": 4,
 "nbformat_minor": 2
}
