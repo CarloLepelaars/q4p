{
 "cells": [
  {
   "cell_type": "markdown",
   "metadata": {},
   "source": [
    "-------------------------------------------------\n",
    "\n",
    "This notebook is part of the [q4p (Quantum Computing for Programmers) series](https://github.com/CarloLepelaars/q4p). The original notebook can be found on [Github](https://github.com/CarloLepelaars/q4p/blob/main/nbs/03-multi.ipynb).\n",
    "\n",
    "-------------------------------------------------"
   ]
  },
  {
   "cell_type": "markdown",
   "metadata": {},
   "source": [
    "# 3. Multi-qubit gates and algorithms"
   ]
  },
  {
   "cell_type": "markdown",
   "metadata": {},
   "source": [
    "In previous notebooks we got an extensive overview of how to work with a single qubit. In this notebook we will generalize to multiple qubits and finally look at meaningful algorithms that quantum computing offers. The previous notebooks gave you a solid toolbox from which to construct these algorithms. From here we will focus more on applying gates to construct quantum circuits.\n",
    "\n",
    "In this lesson you will learn:\n",
    "\n",
    "- Build and convert quantum circuits with [skq](https://github.com/CarloLepelaars/skq)\n",
    "- **Bell** and **GHZ** States\n",
    "- Converting quantum circuits to quantum frameworks like [Qiskit](https://www.ibm.com/quantum/qiskit) and [OpenQASM](https://openqasm.com/intro.html)\n",
    "- Toffoli ($CCX$) Gate\n",
    "- Simulating classical $AND$ and $OR$ gates with quantum circuits\n",
    "- $SWAP$ Gate\n",
    "- BONUS: Fredkin ($CSWAP$) Gate"
   ]
  },
  {
   "cell_type": "markdown",
   "metadata": {},
   "source": [
    "# skq"
   ]
  },
  {
   "cell_type": "markdown",
   "metadata": {},
   "source": [
    "To avoid having to construct gates and concepts from scratch each time we will use the [skq](https://github.com/CarloLepelaars/skq) library. I built this library so you can easily play with quantum concepts (in NumPy) and build your own algorithms. These circuits can then be converted to popular quantum frameworks like [Qiskit](https://github.com/Qiskit/qiskit) and [OpenQASM](https://openqasm.com/intro.html) so you can run them on real quantum computers.\n",
    "\n",
    "All the quantum logic gates we talked about in previous notebooks can be found in the `skq.gates.qubit` module. We will also heavily use `Concat` for multi-qubit gates and `Circuit` for quantum circuits. These are relatively simple objects, but can be extended to any complex circuit."
   ]
  },
  {
   "cell_type": "code",
   "execution_count": 1,
   "metadata": {},
   "outputs": [],
   "source": [
    "# Kaleido is used to convert Plotly to static png\n",
    "!pip install -Uqq kaleido\n",
    "# skq is used to build quantum circuits\n",
    "!pip install -Uqq skq"
   ]
  },
  {
   "cell_type": "code",
   "execution_count": 2,
   "metadata": {},
   "outputs": [],
   "source": [
    "import numpy as np\n",
    "\n",
    "from skq.gates.qubit import X, H, I, CX, CCX, SWAP, CSwap, Measure\n",
    "from skq.circuits import Concat, Circuit, BellStates, GHZStates\n",
    "\n",
    "import plotly.graph_objects as go\n",
    "\n",
    "# Fix Plotly rendering in Jupyter forks.\n",
    "# If you are running this notebook locally you can comment this out.\n",
    "# This allows you to play with interactive Plotly plots.\n",
    "import plotly.io as pio\n",
    "pio.renderers.default = 'png'"
   ]
  },
  {
   "cell_type": "markdown",
   "metadata": {},
   "source": [
    "## Bell State"
   ]
  },
  {
   "cell_type": "markdown",
   "metadata": {},
   "source": [
    "One of the first breakthroughs for quantum computing was the implementation of a completely entangled state called the **Bell state**. In this state 2 qubits are 100% correlated to each other. This enables use cases that are not possible classically, like [quantum communication](https://en.wikipedia.org/wiki/Quantum_channel) and [quantum teleportation](https://en.wikipedia.org/wiki/Quantum_teleportation).\n",
    "\n",
    "The traditional Bell State is called the **Phi Plus state** ($| \\Phi^+ \\rangle$) and is defined as follows:\n",
    "\n",
    "$$\n",
    "| \\Phi^+ \\rangle = \\frac{1}{\\sqrt{2}} (|00\\rangle + |11\\rangle)\n",
    "$$\n",
    "\n",
    "To prepare entanglement we first initialize two qubits ($|00 \\rangle = [1, 0, 0, 0]$) and put the 1st qubit in superposition with a Hadamard ($H$) gate. The 1st qubit is not changed in this first step so the $I$ gate is applied.\n",
    "\n",
    "Initial state:\n",
    "$$\n",
    "|\\psi_0 \\rangle = |00 \\rangle\n",
    "$$\n",
    "\n",
    "After applying the Hadamard ($H$) gate:\n",
    "$$\n",
    "|\\psi_1 \\rangle = \\frac{1}{\\sqrt{2}} (|00 \\rangle + |10 \\rangle)\n",
    "$$\n",
    "\n",
    "Note that the 1st qubit is either 0 or 1 with equal probability, but the 2nd qubit is always 0. This leaves the possible states $|00 \\rangle$ and $|10 \\rangle$ with equal probability in this intermediate state."
   ]
  },
  {
   "cell_type": "markdown",
   "metadata": {},
   "source": [
    "To accomplish this operation in `skq` let's take a look at the `Concat` object. We use `Concat` to concatenate gates for multiple qubits. To obtain the concatenated operation the Kronecker product $\\otimes$ is used."
   ]
  },
  {
   "cell_type": "code",
   "execution_count": 3,
   "metadata": {},
   "outputs": [],
   "source": [
    "step1 = Concat([H(), I()])"
   ]
  },
  {
   "cell_type": "code",
   "execution_count": 4,
   "metadata": {},
   "outputs": [
    {
     "data": {
      "text/plain": [
       "H([[ 0.70710678+0.j,  0.        +0.j,  0.70710678+0.j,  0.        +0.j],\n",
       "   [ 0.        +0.j,  0.70710678+0.j,  0.        +0.j,  0.70710678+0.j],\n",
       "   [ 0.70710678+0.j,  0.        +0.j, -0.70710678+0.j, -0.        +0.j],\n",
       "   [ 0.        +0.j,  0.70710678+0.j, -0.        +0.j, -0.70710678+0.j]])"
      ]
     },
     "execution_count": 4,
     "metadata": {},
     "output_type": "execute_result"
    }
   ],
   "source": [
    "# Transformation on a 2 qubit system that puts the first qubit in superposition\n",
    "np.kron(H(), I())"
   ]
  },
  {
   "cell_type": "markdown",
   "metadata": {},
   "source": [
    "The result of a concatenation is not just stacking $2$ matrices, but a new matrix that is applied to a $2$-qubit state. The concatenation of $2$ single qubit gates results in a $4 \\times 4$ matrix. This grows exponentially with the number of qubits. For example, concatenating $3$ single qubit gates results in a $2^3 \\times 2^3 = 8 \\times 8$ matrix. In this notebook we will encounter fundamental 3-qubit gates that cannot be decomposed into single qubit gates, like the Toffoli ($CCX$) gate. It is important to treat multi-qubits systems as a single unit, because they are potentially entangled. This is an important difference compared to classical computing, where individual bits do not depend on each other."
   ]
  },
  {
   "cell_type": "code",
   "execution_count": 5,
   "metadata": {},
   "outputs": [
    {
     "data": {
      "text/plain": [
       "H([0.70710678+0.j, 0.        +0.j, 0.70710678+0.j, 0.        +0.j])"
      ]
     },
     "execution_count": 5,
     "metadata": {},
     "output_type": "execute_result"
    }
   ],
   "source": [
    "output1 = step1([1, 0, 0, 0])\n",
    "# Superposition between |00> and |10>\n",
    "output1"
   ]
  },
  {
   "cell_type": "markdown",
   "metadata": {},
   "source": [
    "We have learned that every qubit gate can also be applied in reverse, so also with `Concat`."
   ]
  },
  {
   "cell_type": "code",
   "execution_count": 6,
   "metadata": {},
   "outputs": [
    {
     "data": {
      "text/plain": [
       "H([ 1.+0.j,  0.+0.j, -0.+0.j,  0.+0.j])"
      ]
     },
     "execution_count": 6,
     "metadata": {},
     "output_type": "execute_result"
    }
   ],
   "source": [
    "# Transforms superposition of |00> and |10> back to |00>\n",
    "step1.decodes(output1).round(8)"
   ]
  },
  {
   "cell_type": "markdown",
   "metadata": {},
   "source": [
    "For the Bell state the two qubits are then entangled using the CNOT ($CX$) gate. This results in a fully entangled state of 2 qubits. The individual qubits cannot be visualized nicely on a Bloch sphere anymore, because the state of the qubits depend on each other. It is like flipping 2 coins at the same time, but the outcome will be either 2 heads or 2 tails.\n",
    "\n",
    "The intermediate state we had before the $CX$ gate is:\n",
    "$$\n",
    "|\\psi_1 \\rangle = \\frac{1}{\\sqrt{2}} (|00 \\rangle + |10 \\rangle)\n",
    "$$\n",
    "\n",
    "After the $CX$ gate we obtain the final Bell state:\n",
    "$$\n",
    "|\\psi_2\\rangle = CX \\frac{1}{\\sqrt{2}} (|00 \\rangle + |10 \\rangle) = \\frac{1}{\\sqrt{2}} (|00 \\rangle + CX|10 \\rangle) = \\frac{1}{\\sqrt{2}} (|00 \\rangle + |11 \\rangle) = | \\Phi^+ \\rangle\n",
    "$$\n",
    "\n",
    "The operation flips the second qubit only if the first qubit is 1. "
   ]
  },
  {
   "cell_type": "code",
   "execution_count": 7,
   "metadata": {},
   "outputs": [
    {
     "data": {
      "text/plain": [
       "array([0.70710678+0.j, 0.        +0.j, 0.        +0.j, 0.70710678+0.j])"
      ]
     },
     "execution_count": 7,
     "metadata": {},
     "output_type": "execute_result"
    }
   ],
   "source": [
    "step2 = CX()\n",
    "# Bell state Phi Plus: Superposition between |00> and |11>\n",
    "step2(step1([1, 0, 0, 0]))"
   ]
  },
  {
   "cell_type": "markdown",
   "metadata": {},
   "source": [
    "These qubits can be separated over large distances and can enable secure communication, among other things.\n",
    "\n",
    "Now let's construct the complete circuit and verify that we implemented the Bell state correctly. `Circuit` allows us to run quantum operations in sequence. It also has functionality to convert to popular quantum frameworks like [Qiskit](https://github.com/Qiskit/qiskit) and [OpenQASM](https://openqasm.com/intro.html). At the end of the `Circuit` we add a `Measure` step to obtain a probability distribution of possible outcomes."
   ]
  },
  {
   "cell_type": "code",
   "execution_count": 8,
   "metadata": {},
   "outputs": [
    {
     "data": {
      "text/plain": [
       "array([0.5, 0. , 0. , 0.5])"
      ]
     },
     "execution_count": 8,
     "metadata": {},
     "output_type": "execute_result"
    }
   ],
   "source": [
    "bell_circuit = Circuit([step1, step2, Measure()])\n",
    "bell_probs = bell_circuit([1, 0, 0, 0])\n",
    "# 50% probability of 00 and 50% probability of 11\n",
    "bell_probs"
   ]
  },
  {
   "cell_type": "markdown",
   "metadata": {},
   "source": [
    "Recall that measurement is achieved by sampling from the probability distribution. You will see that the only possible outcomes are $00$ and $11$ and they are roughly evenly distributed. Be aware that on real quantum computers are noisy so there is a small chance of still measuring $01$ or $10$."
   ]
  },
  {
   "cell_type": "code",
   "execution_count": 9,
   "metadata": {},
   "outputs": [
    {
     "data": {
      "image/png": "[encoded data removed]"
     },
     "metadata": {},
     "output_type": "display_data"
    }
   ],
   "source": [
    "# Sample the Bell state 1000 times\n",
    "samples = [np.random.choice([0, 1, 2, 3], p=bell_probs) for _ in range(1000)]\n",
    "\n",
    "fig = go.Figure()\n",
    "fig.add_trace(go.Histogram(\n",
    "    x=samples,\n",
    "    xbins=dict(\n",
    "        start=-0.5,\n",
    "        end=3.5,\n",
    "        size=1\n",
    "    ),\n",
    "))\n",
    "fig.update_layout(\n",
    "    title=\"Measurement outcomes for Bell state (|00⟩ + |11⟩)/√2\",\n",
    "    xaxis=dict(\n",
    "        tickmode=\"array\",\n",
    "        tickvals=[0, 1, 2, 3],\n",
    "        ticktext=[\"00\", \"01\", \"10\", \"11\"]\n",
    "    ),\n",
    "    yaxis=dict(\n",
    "        title=\"Count\",\n",
    "        range=[0, 600]\n",
    "    ),\n",
    "    bargap=0.7\n",
    ")\n",
    "fig.show()"
   ]
  },
  {
   "cell_type": "markdown",
   "metadata": {},
   "source": [
    "In `skq` we can directly intialize the Bell states as a building block in our circuits."
   ]
  },
  {
   "cell_type": "code",
   "execution_count": 10,
   "metadata": {},
   "outputs": [
    {
     "data": {
      "text/plain": [
       "array([0.70710678+0.j, 0.        +0.j, 0.        +0.j, 0.70710678+0.j])"
      ]
     },
     "execution_count": 10,
     "metadata": {},
     "output_type": "execute_result"
    }
   ],
   "source": [
    "phi_plus = BellStates().circuit(1)\n",
    "\n",
    "bell_state1 = phi_plus([1,0,0,0])\n",
    "# Superposition between |00> and |11>\n",
    "bell_state1"
   ]
  },
  {
   "cell_type": "markdown",
   "metadata": {},
   "source": [
    "A convenient feature of `skq` `Circuit` is conversion to `Qiskit`. A `Qiskit` `QuantumCircuit` can be run on a real IBM quantum computer and offers nice visualization methods."
   ]
  },
  {
   "cell_type": "code",
   "execution_count": 11,
   "metadata": {},
   "outputs": [
    {
     "data": {
      "image/png": "[encoded data removed]",
      "text/plain": [
       "<Figure size 287.294x200.667 with 1 Axes>"
      ]
     },
     "execution_count": 11,
     "metadata": {},
     "output_type": "execute_result"
    }
   ],
   "source": [
    "phi_plus.convert(framework=\"qiskit\").draw(output=\"mpl\")"
   ]
  },
  {
   "cell_type": "markdown",
   "metadata": {},
   "source": [
    "In total there are $4$ Bell states, but the outcomes of the 'Plus' and 'Minus' states are the same, even though they are different circuits. For simplicity the conversion process from `skq` to `Qiskit` will remove any Identity ($I$) gates. `Circuit.draw` uses Qiskit's circuit visualization under the hood."
   ]
  },
  {
   "cell_type": "code",
   "execution_count": 12,
   "metadata": {},
   "outputs": [
    {
     "name": "stdout",
     "output_type": "stream",
     "text": [
      "Bell state 1: Phi Plus (|Φ+⟩). Entangles |00⟩ and |11⟩.\n",
      "     ┌───┐     \n",
      "q_0: ┤ H ├──■──\n",
      "     └───┘┌─┴─┐\n",
      "q_1: ─────┤ X ├\n",
      "          └───┘\n",
      "Bell state 2: Phi Minus (|Φ-⟩). Entangles |00⟩ and |11⟩ with opposite phase.\n",
      "     ┌───┐     ┌───┐\n",
      "q_0: ┤ H ├──■──┤ Z ├\n",
      "     └───┘┌─┴─┐└───┘\n",
      "q_1: ─────┤ X ├─────\n",
      "          └───┘     \n",
      "Bell state 3: Psi Plus (|Ψ+⟩). Entangles |01⟩ and |10⟩.\n",
      "     ┌───┐     \n",
      "q_0: ┤ H ├──■──\n",
      "     ├───┤┌─┴─┐\n",
      "q_1: ┤ X ├┤ X ├\n",
      "     └───┘└───┘\n",
      "Bell state 4: Psi Minus (|Ψ-⟩). Entangles |01⟩ and |10⟩ with opposite phase.\n",
      "     ┌───┐┌───┐     \n",
      "q_0: ┤ H ├┤ Z ├──■──\n",
      "     ├───┤├───┤┌─┴─┐\n",
      "q_1: ┤ X ├┤ Z ├┤ X ├\n",
      "     └───┘└───┘└───┘\n"
     ]
    }
   ],
   "source": [
    "bell = BellStates()\n",
    "for i, name in enumerate([\"Phi Plus (|Φ+⟩). Entangles |00⟩ and |11⟩.\", \n",
    "                          \"Phi Minus (|Φ-⟩). Entangles |00⟩ and |11⟩ with opposite phase.\", \n",
    "                          \"Psi Plus (|Ψ+⟩). Entangles |01⟩ and |10⟩.\", \n",
    "                          \"Psi Minus (|Ψ-⟩). Entangles |01⟩ and |10⟩ with opposite phase.\"], \n",
    "                          start=1):\n",
    "    circuit = bell.circuit(i)\n",
    "    print(f\"Bell state {i}: {name}\")\n",
    "    print(circuit.draw())"
   ]
  },
  {
   "cell_type": "markdown",
   "metadata": {},
   "source": [
    "Often it will be clearer to use the [Matplotlib](https://matplotlib.org) circuit visualization that Qiskit offers. Define `output=\"mpl\"` to use this."
   ]
  },
  {
   "cell_type": "code",
   "execution_count": 13,
   "metadata": {},
   "outputs": [
    {
     "data": {
      "image/png": "[encoded data removed]",
      "text/plain": [
       "<Figure size 287.294x200.667 with 1 Axes>"
      ]
     },
     "execution_count": 13,
     "metadata": {},
     "output_type": "execute_result"
    }
   ],
   "source": [
    "phi_plus.draw(output=\"mpl\")"
   ]
  },
  {
   "cell_type": "code",
   "execution_count": 14,
   "metadata": {},
   "outputs": [
    {
     "data": {
      "image/png": "[encoded data removed]",
      "text/plain": [
       "<Figure size 287.294x200.667 with 1 Axes>"
      ]
     },
     "execution_count": 14,
     "metadata": {},
     "output_type": "execute_result"
    }
   ],
   "source": [
    "psi_plus = BellStates().circuit(3)\n",
    "psi_plus.draw(output=\"mpl\")"
   ]
  },
  {
   "cell_type": "markdown",
   "metadata": {},
   "source": [
    "Another popular standard for defining quantum circuits is [OpenQASM](https://openqasm.com/intro.html). You can think of OpenQASM as assembly language for quantum computers. We will devote a separate notebook to go more in-depth into OpenQASM. For now be aware that many providers of quantum computers support OpenQASM. We can convert `skq` circuits to an OpenQASM program (string). "
   ]
  },
  {
   "cell_type": "code",
   "execution_count": 15,
   "metadata": {},
   "outputs": [
    {
     "name": "stdout",
     "output_type": "stream",
     "text": [
      "OPENQASM 2.0;\n",
      "include \"qelib1.inc\";\n",
      "qreg q[2];\n",
      "h q[0];\n",
      "x q[1];\n",
      "cx q[0], q[1];\n"
     ]
    }
   ],
   "source": [
    "print(psi_plus.convert(framework=\"qasm\"))"
   ]
  },
  {
   "cell_type": "markdown",
   "metadata": {},
   "source": [
    "Adding a `Measure` step will include measurement to the end of the circuit for all qubits."
   ]
  },
  {
   "cell_type": "code",
   "execution_count": 16,
   "metadata": {},
   "outputs": [
    {
     "data": {
      "image/png": "[encoded data removed]",
      "text/plain": [
       "<Figure size 454.517x284.278 with 1 Axes>"
      ]
     },
     "execution_count": 16,
     "metadata": {},
     "output_type": "execute_result"
    }
   ],
   "source": [
    "psi_plus_with_measure = Circuit([*psi_plus, Measure()])\n",
    "psi_plus_with_measure.draw(output=\"mpl\")"
   ]
  },
  {
   "cell_type": "code",
   "execution_count": 17,
   "metadata": {},
   "outputs": [
    {
     "name": "stdout",
     "output_type": "stream",
     "text": [
      "OPENQASM 2.0;\n",
      "include \"qelib1.inc\";\n",
      "qreg q[2];\n",
      "creg c[2];\n",
      "h q[0];\n",
      "x q[1];\n",
      "cx q[0], q[1];\n",
      "measure q[0] -> c[0];\n",
      "measure q[1] -> c[1];\n"
     ]
    }
   ],
   "source": [
    "print(psi_plus_with_measure.convert(framework=\"qasm\"))"
   ]
  },
  {
   "cell_type": "markdown",
   "metadata": {},
   "source": [
    "## GHZ State"
   ]
  },
  {
   "cell_type": "markdown",
   "metadata": {},
   "source": [
    "A **GHZ (Greenberger-Horne-Zeilinger) State** generalizes the notion of a Bell state to $n$ qubits. This creates a fully entangled state between all qubits.\n",
    "\n",
    "Let's for example take a 3-qubit GHZ state. It is defined as:\n",
    "\n",
    "$$\n",
    "GHZ_3 = \\frac{1}{\\sqrt{2}}(|000\\rangle + |111\\rangle)\n",
    "$$\n",
    "\n"
   ]
  },
  {
   "cell_type": "code",
   "execution_count": 18,
   "metadata": {},
   "outputs": [
    {
     "data": {
      "text/plain": [
       "H([0.70710678+0.j, 0.        +0.j, 0.        +0.j, 0.        +0.j,\n",
       "   0.        +0.j, 0.        +0.j, 0.        +0.j, 0.70710678+0.j])"
      ]
     },
     "execution_count": 18,
     "metadata": {},
     "output_type": "execute_result"
    }
   ],
   "source": [
    "ghz_3 = GHZStates().circuit(n_qubits=3)\n",
    "# 50% probability of |000> and 50% probability of |111>\n",
    "ghz_3([1,0,0,0,0,0,0,0])"
   ]
  },
  {
   "cell_type": "code",
   "execution_count": 19,
   "metadata": {},
   "outputs": [
    {
     "data": {
      "image/png": "[encoded data removed]",
      "text/plain": [
       "<Figure size 371.107x284.278 with 1 Axes>"
      ]
     },
     "execution_count": 19,
     "metadata": {},
     "output_type": "execute_result"
    }
   ],
   "source": [
    "ghz_3.draw(output=\"mpl\")"
   ]
  },
  {
   "cell_type": "markdown",
   "metadata": {},
   "source": [
    "If you look closely you will see a pattern of $CX$ gates all the way down. The first qubit determines the state of all the other qubits. We can do this on an arbitrary number of qubits. For example, see the 10-qubit GHZ state below."
   ]
  },
  {
   "cell_type": "code",
   "execution_count": 20,
   "metadata": {},
   "outputs": [
    {
     "data": {
      "image/png": "[encoded data removed]",
      "text/plain": [
       "<Figure size 956.385x869.556 with 1 Axes>"
      ]
     },
     "execution_count": 20,
     "metadata": {},
     "output_type": "execute_result"
    }
   ],
   "source": [
    "n_ghz_qubits = 10\n",
    "\n",
    "ghz = GHZStates().circuit(n_qubits=n_ghz_qubits)\n",
    "ghz.draw(output=\"mpl\")\n"
   ]
  },
  {
   "cell_type": "markdown",
   "metadata": {},
   "source": [
    "I invite you to play with this circuit and change the number of qubits with `n_ghz_qubits`. Remember that the matrices grow exponentially with the number of qubits, so even a GHZ state with 15 qubits may take quite a while to compute on your machine. This is why we want to leverage real quantum computers to scale computations with entanglement.\n",
    "\n",
    "\n",
    "The OpenQASM program for the GHZ state gives another perspective and makes it clear how the first qubit entangles with all the other qubits."
   ]
  },
  {
   "cell_type": "code",
   "execution_count": 21,
   "metadata": {},
   "outputs": [
    {
     "name": "stdout",
     "output_type": "stream",
     "text": [
      "OPENQASM 2.0;\n",
      "include \"qelib1.inc\";\n",
      "qreg q[10];\n",
      "h q[0];\n",
      "cx q[0], q[1];\n",
      "cx q[1], q[2];\n",
      "cx q[2], q[3];\n",
      "cx q[3], q[4];\n",
      "cx q[4], q[5];\n",
      "cx q[5], q[6];\n",
      "cx q[6], q[7];\n",
      "cx q[7], q[8];\n",
      "cx q[8], q[9];\n"
     ]
    }
   ],
   "source": [
    "print(ghz.convert(framework=\"qasm\"))"
   ]
  },
  {
   "cell_type": "markdown",
   "metadata": {},
   "source": [
    "This concludes our discussion of the Bell states and GHZ states. The rest of this lesson will cover some fundamental multi-qubit gates and how it enables us to simulate classical $AND$ and $OR$ gates."
   ]
  },
  {
   "cell_type": "markdown",
   "metadata": {},
   "source": [
    "## CCX (Toffoli) Gate"
   ]
  },
  {
   "cell_type": "markdown",
   "metadata": {},
   "source": [
    "A $CCX$ (Toffoli) gate is like a $CNOT$ gate, but for $3$ qubits. If the first $2$ (control) qubits are $1$, the third (target) qubit is flipped. A $3$-qubit gate requires a $2^3 \\times 2^3 = 8 \\times 8$ matrix to represent classically.\n",
    "\n",
    "\n",
    "$$CCX = \\begin{bmatrix}\n",
    "1 & 0 & 0 & 0 & 0 & 0 & 0 & 0 \\\\\n",
    "0 & 1 & 0 & 0 & 0 & 0 & 0 & 0 \\\\\n",
    "0 & 0 & 1 & 0 & 0 & 0 & 0 & 0 \\\\\n",
    "0 & 0 & 0 & 1 & 0 & 0 & 0 & 0 \\\\\n",
    "0 & 0 & 0 & 0 & 1 & 0 & 0 & 0 \\\\\n",
    "0 & 0 & 0 & 0 & 0 & 1 & 0 & 0 \\\\\n",
    "0 & 0 & 0 & 0 & 0 & 0 & 0 & 1 \\\\\n",
    "0 & 0 & 0 & 0 & 0 & 0 & 1 & 0 \\\\\n",
    "\\end{bmatrix}\n",
    "$$\n"
   ]
  },
  {
   "cell_type": "code",
   "execution_count": 22,
   "metadata": {},
   "outputs": [
    {
     "data": {
      "text/plain": [
       "CCX([[1.+0.j, 0.+0.j, 0.+0.j, 0.+0.j, 0.+0.j, 0.+0.j, 0.+0.j, 0.+0.j],\n",
       "     [0.+0.j, 1.+0.j, 0.+0.j, 0.+0.j, 0.+0.j, 0.+0.j, 0.+0.j, 0.+0.j],\n",
       "     [0.+0.j, 0.+0.j, 1.+0.j, 0.+0.j, 0.+0.j, 0.+0.j, 0.+0.j, 0.+0.j],\n",
       "     [0.+0.j, 0.+0.j, 0.+0.j, 1.+0.j, 0.+0.j, 0.+0.j, 0.+0.j, 0.+0.j],\n",
       "     [0.+0.j, 0.+0.j, 0.+0.j, 0.+0.j, 1.+0.j, 0.+0.j, 0.+0.j, 0.+0.j],\n",
       "     [0.+0.j, 0.+0.j, 0.+0.j, 0.+0.j, 0.+0.j, 1.+0.j, 0.+0.j, 0.+0.j],\n",
       "     [0.+0.j, 0.+0.j, 0.+0.j, 0.+0.j, 0.+0.j, 0.+0.j, 0.+0.j, 1.+0.j],\n",
       "     [0.+0.j, 0.+0.j, 0.+0.j, 0.+0.j, 0.+0.j, 0.+0.j, 1.+0.j, 0.+0.j]])"
      ]
     },
     "execution_count": 22,
     "metadata": {},
     "output_type": "execute_result"
    }
   ],
   "source": [
    "CCX()"
   ]
  },
  {
   "cell_type": "code",
   "execution_count": 23,
   "metadata": {},
   "outputs": [
    {
     "data": {
      "image/png": "[encoded data removed]",
      "text/plain": [
       "<Figure size 203.885x284.278 with 1 Axes>"
      ]
     },
     "execution_count": 23,
     "metadata": {},
     "output_type": "execute_result"
    }
   ],
   "source": [
    "CCX().draw(output=\"mpl\")"
   ]
  },
  {
   "cell_type": "markdown",
   "metadata": {},
   "source": [
    "A $CCX$ will transform a $|110\\rangle$ state into a $|111\\rangle$ state."
   ]
  },
  {
   "cell_type": "markdown",
   "metadata": {},
   "source": [
    "$$\n",
    "CCX|110\\rangle = \\begin{bmatrix}\n",
    "1 & 0 & 0 & 0 & 0 & 0 & 0 & 0 \\\\\n",
    "0 & 1 & 0 & 0 & 0 & 0 & 0 & 0 \\\\\n",
    "0 & 0 & 1 & 0 & 0 & 0 & 0 & 0 \\\\\n",
    "0 & 0 & 0 & 1 & 0 & 0 & 0 & 0 \\\\\n",
    "0 & 0 & 0 & 0 & 1 & 0 & 0 & 0 \\\\\n",
    "0 & 0 & 0 & 0 & 0 & 1 & 0 & 0 \\\\\n",
    "0 & 0 & 0 & 0 & 0 & 0 & 0 & 1 \\\\\n",
    "0 & 0 & 0 & 0 & 0 & 0 & 1 & 0 \\\\\n",
    "\\end{bmatrix} \\begin{bmatrix}0\\\\0\\\\0\\\\0\\\\0\\\\0\\\\1\\\\0\\end{bmatrix} = \\begin{bmatrix}0\\\\0\\\\0\\\\0\\\\0\\\\0\\\\0\\\\1\\end{bmatrix} = |111\\rangle\n",
    "$$"
   ]
  },
  {
   "cell_type": "code",
   "execution_count": 24,
   "metadata": {},
   "outputs": [
    {
     "data": {
      "text/plain": [
       "CCX([0.+0.j, 0.+0.j, 0.+0.j, 0.+0.j, 0.+0.j, 0.+0.j, 0.+0.j, 1.+0.j])"
      ]
     },
     "execution_count": 24,
     "metadata": {},
     "output_type": "execute_result"
    }
   ],
   "source": [
    "CCX() @ [0,0,0,0,0,0,1,0]"
   ]
  },
  {
   "cell_type": "markdown",
   "metadata": {},
   "source": [
    "$|111\\rangle$ will be transformed into a $|110\\rangle$ state.\n",
    "$$\n",
    "CCX|111\\rangle = \n",
    " \\begin{bmatrix}\n",
    "1 & 0 & 0 & 0 & 0 & 0 & 0 & 0 \\\\\n",
    "0 & 1 & 0 & 0 & 0 & 0 & 0 & 0 \\\\\n",
    "0 & 0 & 1 & 0 & 0 & 0 & 0 & 0 \\\\\n",
    "0 & 0 & 0 & 1 & 0 & 0 & 0 & 0 \\\\\n",
    "0 & 0 & 0 & 0 & 1 & 0 & 0 & 0 \\\\\n",
    "0 & 0 & 0 & 0 & 0 & 1 & 0 & 0 \\\\\n",
    "0 & 0 & 0 & 0 & 0 & 0 & 0 & 1 \\\\\n",
    "0 & 0 & 0 & 0 & 0 & 0 & 1 & 0 \\\\\n",
    "\\end{bmatrix}\\begin{bmatrix}0\\\\0\\\\0\\\\0\\\\0\\\\0\\\\0\\\\1\\end{bmatrix} = \\begin{bmatrix}0\\\\0\\\\0\\\\0\\\\0\\\\0\\\\1\\\\0\\end{bmatrix} = |110\\rangle\n",
    "$$"
   ]
  },
  {
   "cell_type": "code",
   "execution_count": 25,
   "metadata": {},
   "outputs": [
    {
     "data": {
      "text/plain": [
       "CCX([0.+0.j, 0.+0.j, 0.+0.j, 0.+0.j, 0.+0.j, 0.+0.j, 1.+0.j, 0.+0.j])"
      ]
     },
     "execution_count": 25,
     "metadata": {},
     "output_type": "execute_result"
    }
   ],
   "source": [
    "CCX() @ [0,0,0,0,0,0,0,1]"
   ]
  },
  {
   "cell_type": "markdown",
   "metadata": {},
   "source": [
    "## Simulating AND and OR gates"
   ]
  },
  {
   "cell_type": "markdown",
   "metadata": {},
   "source": [
    "Note that the Toffoli gate behaves similarly to an $AND$ gate in classical computing. In fact, classical $AND$ and $OR$ gates can be simulated using only $CCX$ and $X$ gates.\n",
    "\n",
    "#### $AND$ gate\n",
    "\n",
    "Performing an $AND$ in a quantum circuit takes 3 qubits. After the $CCX$ gate the third qubit will represent the $AND$ of the first two qubits. The first two qubits remain unchanged after the $CCX$ gate.\n",
    "```\n",
    "|a>: ──■── |a>\n",
    "       │  \n",
    "|b>: ──■── |b>\n",
    "     ┌─┴─┐\n",
    "|0>: ┤ X ├ |a ∧ b>\n",
    "     └───┘\n",
    "```\n",
    "$\\land$ = AND\n"
   ]
  },
  {
   "cell_type": "markdown",
   "metadata": {},
   "source": [
    "A Toffoli gate can be represented in quantum circuits like this:"
   ]
  },
  {
   "cell_type": "code",
   "execution_count": 26,
   "metadata": {},
   "outputs": [
    {
     "data": {
      "image/png": "[encoded data removed]",
      "text/plain": [
       "<Figure size 203.885x284.278 with 1 Axes>"
      ]
     },
     "execution_count": 26,
     "metadata": {},
     "output_type": "execute_result"
    }
   ],
   "source": [
    "and_gate = CCX()\n",
    "and_gate.draw(output=\"mpl\")"
   ]
  },
  {
   "cell_type": "markdown",
   "metadata": {},
   "source": [
    "#### $OR$ gate\n",
    "\n",
    "A $OR$ gate can also be simulated using 3 qubits. The trick is to first flip the first two qubits with an $X$, before applying the $CCX$ gate. Then to retrieve the $OR$ in the third qubit we apply another $X$ gate on the third qubit. Note that this changes the state of the first 2 qubits, which represent the $NOT$ of $a$ and $b$ after the operation. To get back the original state of $|a>$ and $|b>$ we would need to apply $X$ to the first 2 qubits again after the $OR$ gate.\n",
    "\n",
    "\n",
    "```\n",
    "     ┌───┐          \n",
    "|a>: ┤ X ├──■─────── |¬a>\n",
    "     ├───┤  │       \n",
    "|b>: ┤ X ├──■─────── |¬b>\n",
    "     └───┘┌─┴─┐┌───┐\n",
    "|0>: ─────┤ X ├┤ X ├ |a ∨ b>\n",
    "          └───┘└───┘\n",
    "```\n",
    "$\\neg$ = NOT\n",
    "\n",
    "$\\lor$ = OR"
   ]
  },
  {
   "cell_type": "code",
   "execution_count": 27,
   "metadata": {},
   "outputs": [
    {
     "data": {
      "image/png": "[encoded data removed]",
      "text/plain": [
       "<Figure size 371.107x284.278 with 1 Axes>"
      ]
     },
     "execution_count": 27,
     "metadata": {},
     "output_type": "execute_result"
    }
   ],
   "source": [
    "or_gate = Circuit([Concat([X(), X(), I()]), \n",
    "                   CCX(),\n",
    "                   Concat([I(), I(), X()])])\n",
    "or_gate.draw(output=\"mpl\")"
   ]
  },
  {
   "cell_type": "code",
   "execution_count": 28,
   "metadata": {},
   "outputs": [
    {
     "data": {
      "text/plain": [
       "I([0.+0.j, 0.+0.j, 0.+0.j, 0.+0.j, 0.+0.j, 0.+0.j, 0.+0.j, 1.+0.j])"
      ]
     },
     "execution_count": 28,
     "metadata": {},
     "output_type": "execute_result"
    }
   ],
   "source": [
    "# |100> -> OR -> |001>\n",
    "or_gate([0,1,0,0,0,0,0,0])\n"
   ]
  },
  {
   "cell_type": "markdown",
   "metadata": {},
   "source": [
    "I leave it as an exercise to you to make a quantum circuit that implements an $OR$ gate, but where the first 2 qubits keep their original state. It should transform $100\\rangle$ -> $|101\\rangle$.\n",
    "\n",
    "If you like a challenge, think about generalizing this $OR$ gates to $n$ qubits. \n",
    "\n",
    "And what would an $XOR$ gate look like? HINT: $XOR$ is simpler than you think. It involves only $CCX$ gates."
   ]
  },
  {
   "cell_type": "code",
   "execution_count": 29,
   "metadata": {},
   "outputs": [
    {
     "data": {
      "image/png": "[encoded data removed]",
      "text/plain": [
       "<Figure size 287.496x284.278 with 1 Axes>"
      ]
     },
     "execution_count": 29,
     "metadata": {},
     "output_type": "execute_result"
    }
   ],
   "source": [
    "xor_gate = Circuit([\n",
    "    Concat([CX(), I()]),\n",
    "    Concat([I(), CX()]),\n",
    "])\n",
    "xor_gate.draw(output=\"mpl\")"
   ]
  },
  {
   "cell_type": "markdown",
   "metadata": {},
   "source": [
    "## SWAP"
   ]
  },
  {
   "cell_type": "markdown",
   "metadata": {},
   "source": [
    "Quantum computers have a limited amount of qubit registers. Qubits that are far apart from each other can also become unstable. In larger quantum circuits it is necessary to move qubits around into different registers. We can achieve this by swapping qubits. The $SWAP$ gate swaps $2$ qubits.\n"
   ]
  },
  {
   "cell_type": "markdown",
   "metadata": {},
   "source": [
    "$$SWAP = \\begin{bmatrix}\n",
    "1 & 0 & 0 & 0 \\\\\n",
    "0 & 0 & 1 & 0 \\\\\n",
    "0 & 1 & 0 & 0 \\\\\n",
    "0 & 0 & 0 & 1 \\\\\n",
    "\\end{bmatrix}\n",
    "$$"
   ]
  },
  {
   "cell_type": "code",
   "execution_count": 30,
   "metadata": {},
   "outputs": [
    {
     "data": {
      "text/plain": [
       "SWAP([[1.+0.j, 0.+0.j, 0.+0.j, 0.+0.j],\n",
       "      [0.+0.j, 0.+0.j, 1.+0.j, 0.+0.j],\n",
       "      [0.+0.j, 1.+0.j, 0.+0.j, 0.+0.j],\n",
       "      [0.+0.j, 0.+0.j, 0.+0.j, 1.+0.j]])"
      ]
     },
     "execution_count": 30,
     "metadata": {},
     "output_type": "execute_result"
    }
   ],
   "source": [
    "SWAP()"
   ]
  },
  {
   "cell_type": "markdown",
   "metadata": {},
   "source": [
    "$$SWAP|01\\rangle =\n",
    " \\begin{bmatrix}\n",
    "1 & 0 & 0 & 0 \\\\\n",
    "0 & 0 & 1 & 0 \\\\\n",
    "0 & 1 & 0 & 0 \\\\\n",
    "0 & 0 & 0 & 1 \\\\\n",
    "\\end{bmatrix} \\begin{bmatrix}0\\\\1\\\\0\\\\0\\end{bmatrix} =  \\begin{bmatrix}0\\\\0\\\\1\\\\0\\end{bmatrix} = |10\\rangle\n",
    "$$\n"
   ]
  },
  {
   "cell_type": "code",
   "execution_count": 31,
   "metadata": {},
   "outputs": [
    {
     "data": {
      "text/plain": [
       "SWAP([0.+0.j, 0.+0.j, 1.+0.j, 0.+0.j])"
      ]
     },
     "execution_count": 31,
     "metadata": {},
     "output_type": "execute_result"
    }
   ],
   "source": [
    "# |01> -> SWAP -> |10>\n",
    "[0,1,0,0] @ SWAP()"
   ]
  },
  {
   "cell_type": "markdown",
   "metadata": {},
   "source": [
    "A $SWAP$ gate is represented in quantum circuits like this:"
   ]
  },
  {
   "cell_type": "code",
   "execution_count": 32,
   "metadata": {},
   "outputs": [
    {
     "data": {
      "image/png": "[encoded data removed]",
      "text/plain": [
       "<Figure size 203.683x200.667 with 1 Axes>"
      ]
     },
     "execution_count": 32,
     "metadata": {},
     "output_type": "execute_result"
    }
   ],
   "source": [
    "SWAP().draw(output=\"mpl\")"
   ]
  },
  {
   "cell_type": "markdown",
   "metadata": {},
   "source": [
    "$SWAP$ gates are most often used in [transpilation](https://docs.quantum.ibm.com/guides/transpile). **Transpilation** is an automated process which optimizes a quantum circuit for a specific quantum computer. The process is very similar to how compilers work for classical computers. Modern quantum transpilers will utilize Machine Learning (ML) models for more efficient optimization of circuits. Further in the course we will dive deeper into transpilation. For now you don't have to worry about it as quantum computing providers have developed efficient transpilers you can use."
   ]
  },
  {
   "cell_type": "markdown",
   "metadata": {},
   "source": [
    "## BONUS: CSWAP (Fredkin) Gate"
   ]
  },
  {
   "cell_type": "markdown",
   "metadata": {},
   "source": [
    "Practically any gate we have discussed so far can be extended to a controlled version. There can also be an arbitrary numbers of **control and target qubits**. A controlled gate you may encounter in the wild is the Controlled-SWAP gate ($CSWAP$), also known as the **Fredkin** gate. This gate has **1 control qubit** (determines if the gate is applied or not) and **2 target qubits** (qubits that are swapped)."
   ]
  },
  {
   "cell_type": "markdown",
   "metadata": {},
   "source": [
    "$$CSWAP = \\begin{bmatrix}\n",
    "1 & 0 & 0 & 0 & 0 & 0 & 0 & 0 \\\\\n",
    "0 & 1 & 0 & 0 & 0 & 0 & 0 & 0 \\\\\n",
    "0 & 0 & 1 & 0 & 0 & 0 & 0 & 0 \\\\\n",
    "0 & 0 & 0 & 1 & 0 & 0 & 0 & 0 \\\\\n",
    "0 & 0 & 0 & 0 & 1 & 0 & 0 & 0 \\\\\n",
    "0 & 0 & 0 & 0 & 0 & 0 & 1 & 0 \\\\\n",
    "0 & 0 & 0 & 0 & 0 & 1 & 0 & 0 \\\\\n",
    "0 & 0 & 0 & 0 & 0 & 0 & 0 & 1 \\\\\n",
    "\\end{bmatrix}\n",
    "$$\n"
   ]
  },
  {
   "cell_type": "code",
   "execution_count": 33,
   "metadata": {},
   "outputs": [
    {
     "data": {
      "text/plain": [
       "CSwap([[1.+0.j, 0.+0.j, 0.+0.j, 0.+0.j, 0.+0.j, 0.+0.j, 0.+0.j, 0.+0.j],\n",
       "       [0.+0.j, 1.+0.j, 0.+0.j, 0.+0.j, 0.+0.j, 0.+0.j, 0.+0.j, 0.+0.j],\n",
       "       [0.+0.j, 0.+0.j, 1.+0.j, 0.+0.j, 0.+0.j, 0.+0.j, 0.+0.j, 0.+0.j],\n",
       "       [0.+0.j, 0.+0.j, 0.+0.j, 1.+0.j, 0.+0.j, 0.+0.j, 0.+0.j, 0.+0.j],\n",
       "       [0.+0.j, 0.+0.j, 0.+0.j, 0.+0.j, 1.+0.j, 0.+0.j, 0.+0.j, 0.+0.j],\n",
       "       [0.+0.j, 0.+0.j, 0.+0.j, 0.+0.j, 0.+0.j, 0.+0.j, 1.+0.j, 0.+0.j],\n",
       "       [0.+0.j, 0.+0.j, 0.+0.j, 0.+0.j, 0.+0.j, 1.+0.j, 0.+0.j, 0.+0.j],\n",
       "       [0.+0.j, 0.+0.j, 0.+0.j, 0.+0.j, 0.+0.j, 0.+0.j, 0.+0.j, 1.+0.j]])"
      ]
     },
     "execution_count": 33,
     "metadata": {},
     "output_type": "execute_result"
    }
   ],
   "source": [
    "CSwap()"
   ]
  },
  {
   "cell_type": "markdown",
   "metadata": {},
   "source": [
    "In the example below we see that the second and third (target) qubits are swapped, because the first (control) qubit is $1$."
   ]
  },
  {
   "cell_type": "markdown",
   "metadata": {},
   "source": [
    "$$CSWAP|110\\rangle = \n",
    "\\begin{bmatrix}\n",
    "1 & 0 & 0 & 0 & 0 & 0 & 0 & 0 \\\\\n",
    "0 & 1 & 0 & 0 & 0 & 0 & 0 & 0 \\\\\n",
    "0 & 0 & 1 & 0 & 0 & 0 & 0 & 0 \\\\\n",
    "0 & 0 & 0 & 1 & 0 & 0 & 0 & 0 \\\\\n",
    "0 & 0 & 0 & 0 & 1 & 0 & 0 & 0 \\\\\n",
    "0 & 0 & 0 & 0 & 0 & 0 & 1 & 0 \\\\\n",
    "0 & 0 & 0 & 0 & 0 & 1 & 0 & 0 \\\\\n",
    "0 & 0 & 0 & 0 & 0 & 0 & 0 & 1 \\\\\n",
    "\\end{bmatrix} \\begin{bmatrix}0\\\\0\\\\0\\\\0\\\\0\\\\1\\\\0\\\\0\\end{bmatrix} = \\begin{bmatrix}0\\\\0\\\\0\\\\0\\\\0\\\\0\\\\1\\\\0\\end{bmatrix} = |101\\rangle\n",
    "$$"
   ]
  },
  {
   "cell_type": "code",
   "execution_count": 34,
   "metadata": {},
   "outputs": [
    {
     "data": {
      "text/plain": [
       "CSwap([0.+0.j, 0.+0.j, 0.+0.j, 0.+0.j, 0.+0.j, 0.+0.j, 1.+0.j, 0.+0.j])"
      ]
     },
     "execution_count": 34,
     "metadata": {},
     "output_type": "execute_result"
    }
   ],
   "source": [
    "# |110> -> CSWAP -> |101>\n",
    "CSwap() @ [0,0,0,0,0,1,0,0]"
   ]
  },
  {
   "cell_type": "markdown",
   "metadata": {},
   "source": [
    "This is what a $CSWAP$ gate looks like in quantum circuits:"
   ]
  },
  {
   "cell_type": "code",
   "execution_count": 35,
   "metadata": {},
   "outputs": [
    {
     "data": {
      "image/png": "[encoded data removed]",
      "text/plain": [
       "<Figure size 203.885x284.278 with 1 Axes>"
      ]
     },
     "execution_count": 35,
     "metadata": {},
     "output_type": "execute_result"
    }
   ],
   "source": [
    "CSwap().draw(output=\"mpl\")"
   ]
  },
  {
   "cell_type": "markdown",
   "metadata": {},
   "source": [
    "With these tools in your toolbox you are ready to build almost any quantum circuit. Subsequent lessons will therefore mostly focus on implementing practical quantum algorithms. We will also discuss the challenges we face with scaling these algorithms on real quantum computers.\n",
    "\n",
    "Continue with the next lesson:\n",
    "- [On Github](https://github.com/CarloLepelaars/q4p/blob/main/nbs/04-deutsch.ipynb)\n",
    "- [On Kaggle](https://www.kaggle.com/code/carlolepelaars/q4p-4-deutsch-josza)"
   ]
  },
  {
   "cell_type": "markdown",
   "metadata": {},
   "source": [
    "-------------------------------------------------\n",
    "\n",
    "This notebook is part of the [q4p (Quantum Computing for Programmers) series](https://github.com/CarloLepelaars/q4p). The original notebook can be found on [Github](https://github.com/CarloLepelaars/q4p/blob/main/nbs/03-multi.ipynb).\n",
    "\n",
    "-------------------------------------------------"
   ]
  }
 ],
 "metadata": {
  "kernelspec": {
   "display_name": "q",
   "language": "python",
   "name": "python3"
  },
  "language_info": {
   "codemirror_mode": {
    "name": "ipython",
    "version": 3
   },
   "file_extension": ".py",
   "mimetype": "text/x-python",
   "name": "python",
   "nbconvert_exporter": "python",
   "pygments_lexer": "ipython3",
   "version": "3.12.4"
  }
 },
 "nbformat": 4,
 "nbformat_minor": 2
}
