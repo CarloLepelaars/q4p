{
 "cells": [
  {
   "cell_type": "markdown",
   "metadata": {},
   "source": [
    "# Why?"
   ]
  },
  {
   "cell_type": "markdown",
   "metadata": {},
   "source": [
    "> *q4p is a free course focused on applied quantum computing. If you would like to solve practical problems with quantum computing, this course is for you! No physics background required!*"
   ]
  },
  {
   "cell_type": "markdown",
   "metadata": {},
   "source": [
    "> ⚡ **Get started**  \n",
    "> Start with lesson 0b now! \n",
    "> - [Github](https://github.com/CarloLepelaars/q4p/blob/main/nbs/00b-marbles.ipynb)\n",
    "> - [Kaggle](https://www.kaggle.com/code/carlolepelaars/q4p-00b-marbles-high-level-overview)\n",
    ">\n",
    "> A full overview of course entries is available at [carlo.ai/q4p](https://carlo.ai/q4p#main-course-entries)."
   ]
  },
  {
   "cell_type": "markdown",
   "metadata": {},
   "source": [
    "## Why this Quantum for Programmers ([`q4p`](https://github.com/CarloLepelaars/q4p/tree/main)) course?"
   ]
  },
  {
   "cell_type": "markdown",
   "metadata": {},
   "source": [
    "There are excellent courses in Quantum Mechanics and Quantum Computing available on the Internet. Unfortunately, in my personal experience, many of the existing courses come with limitations:\n",
    "\n",
    "1. Courses can be overly theoretical and mainly focused on the physics. This might resonate with people studying physics, but alienates programmers in general. The student often has to work through a lot of physics details before implementing something practical.\n",
    "2. Courses offered by quantum computing companies often lock the student in to their own (Python) programming library/framework. Most of these libraries seem to be designed for physicists and do not leverage Python as a dynamic language. Quantum computing libraries are also generally not interoperable, so if you want to try out a different framework you have to learn the intricacies and syntax of that framework. Often the quantum circuits you made cannot be converted easily converted to another framework.\n",
    "\n",
    "It seems to me many people are interested in quantum computing, but:\n",
    "\n",
    "1. Don't know where to start.\n",
    "2. Feel they are not smart enough to do quantum computing.\n",
    "3. Think they have to do a lot of physics.\n",
    "\n",
    "This course aims to remove those doubts and give you the confidence to do quantum computing. We will approach quantum computing from the perspective of a Python programmer. In the Python world we often want to iterate fast, distill complex problems to its essence and make use of the dynamic nature of the language to solve problems efficiently in a simple way. By learning from and playing with these series of notebooks you will be able to build your own quantum circuits from scratch. We will even discuss converting these quantum circuits to other quantum computing frameworks automatically so you can run circuits on real quantum computers from different (cloud) providers."
   ]
  },
  {
   "cell_type": "markdown",
   "metadata": {},
   "source": [
    "# Is this course for me?"
   ]
  },
  {
   "cell_type": "markdown",
   "metadata": {},
   "source": [
    "The essence of quantum computing and quantum information theory can be well understood with **basic linear algebra and probability theory** concepts. This course assumes you have some familiarity with these topics. \n",
    "\n",
    "This course is especially well suited for data scientists. Data scientists are generally used to iterate fast in Jupyter Notebooks, use Python as a dynamic language and are familiar with vector-matrix multiplication. Quantum computing involves **complex numbers** (i.e. imaginary numbers), but you definitely don't have to be an expert in them. If you feel like you need more background on the basics, check out the [basics notebooks](https://carlo.ai/q4p#basics-entries) to get up to speed quickly.\n",
    "\n",
    "This course uses solely open source software like [NumPy](https://numpy.org) and [Plotly](https://plotly.com). All the essential build blocks are packaged in the [skq](https://github.com/CarloLepelaars/skq) library so we are free to explore, build and tinker with quantum algorithms. To run our algorithms on real quantum computers [skq](https://github.com/CarloLepelaars/skq) offers functionality to convert to popular quantum frameworks like [Qiskit](https://github.com/Qiskit/qiskit), [Pennylane](https://github.com/PennyLaneAI/pennylane) and [OpenQASM](https://openqasm.com/intro.html).\n",
    "\n",
    "[NumPy](https://numpy.org) works best as a foundational linear algebra library, because quantum algorithms can be easily simulated in it. This provides a playground where we can gain a solid understanding of how quantum algorithms work and analyze them. \n",
    "\n",
    "[skq](https://github.com/CarloLepelaars/skq) is built on NumPy and provides us the glue to convert our quantum circuits to whatever quantum framework we prefer. Cloud quantum computing providers often force us to use their Python library, so conversion of quantum circuits is essential. `skq` provides this glue and avoids us getting locked in to one specific quantum cloud provider.\n",
    "\n",
    "\n",
    "Hope you are excited to learn more about quantum computing! In lesson 0b we will first look at a top-down overview of solving an unstructured search problem with a quantum algorithm called Grover's algorithm. In lesson 1 we dive into the details of how a qubit works and how to build quantum algorithms yourself."
   ]
  },
  {
   "cell_type": "markdown",
   "metadata": {},
   "source": [
    "> ⚡ **Get started**  \n",
    "> Start with lesson 0b now! \n",
    "> - [Github](https://github.com/CarloLepelaars/q4p/blob/main/nbs/00b-marbles.ipynb)\n",
    "> - [Kaggle](https://www.kaggle.com/code/carlolepelaars/q4p-00b-marbles-high-level-overview)\n",
    ">\n",
    "> A full overview of course entries is available at [carlo.ai/q4p](https://carlo.ai/q4p#main-course-entries)."
   ]
  },
  {
   "cell_type": "markdown",
   "metadata": {},
   "source": [
    "## Why Quantum Computing?"
   ]
  },
  {
   "cell_type": "markdown",
   "metadata": {},
   "source": [
    "Quantum Computing is a fascinating computing paradigm still in its infancy. You could say the field of Quantum Mechanics pre-dates Artificial Intelligence, but (to the best of my knowledge) people only started working on quantum as a basis for computation in the early 1970s. One of the seminal papers was written by [Richard Feynman in 1982](https://s2.smu.edu/~mitch/class/5395/papers/feynman-quantum-1981.pdf). This paper proposed a conjecture that quantum systems require quantum computers to be simulated efficiently, which was proved by [Seth Lloyd in 1996](https://fab.cba.mit.edu/classes/862.22/notes/computation/Lloyd-1996.pdf). This has huge implications as many systems in nature are quantum systems. There is strong evidence that quantum algorithms can perform some tasks faster than can ever be achieved on a classical computer.\n",
    "\n",
    "Many problems in physics, materials science, chemistry and drug discovery have to deal with quantum systems and simulating these systems on classical computers requires huge amounts of compute. Besides the physical world, there are also core computer science problems that can benefit greatly from quantum computing. The main research areas here are [search](https://en.wikipedia.org/wiki/Grover%27s_algorithm), where quantum can provide a quadratic speedup, and [cryptography/factoring](https://en.wikipedia.org/wiki/Shor%27s_algorithm), where speedups can be exponential. For a detailed discussion of which problems quantum computers excel at, check out [this video](https://www.youtube.com/watch?v=33QmsXhIlpU).\n",
    "\n",
    "Quantum computing has 3 main features that are not available on classical computers:\n",
    "\n",
    "1. **Superposition:** Superposition is the mechanism that allows quantum computers to represent distributions of classical states. This allows for a new paradigm to think about parallel computation. While classical bits can only be in a 0 or 1 state, a quantum bit (qubit) can have values between 0 and 1. These intermediate values can be described as a probability distribution of obtaining a 0 or 1. It is therefore sometimes said that the quantum computer's memory can have many classical states \"at the same time\".\n",
    "2. **Interference:** Quantum computation allows superpositions to interact, similar to how waves can amplify each other or cancel each other out. This also adds a mechanism for powerful parallel computation which can be leveraged to obtain potentially exponential speedups over classical algorithms. An example of the power of interference is the Quantum Fourier Transform used in [Shor's algorithm](https://en.wikipedia.org/wiki/Shor%27s_algorithm).\n",
    "3. **Entanglement:** Entanglement is the phenomenon where multiple qubits can become correlated to each other in a way not possible on a classical computer. The amount of correlation can vary from completely uncorrelated to perfectly correlated. A quantum computer can also get entangled with its environment, a phenomenon called [quantum decoherence](https://en.wikipedia.org/wiki/Quantum_decoherence). In quantum computers this is often an unwanted side effect and is mitigated by [quantum error correction](https://en.wikipedia.org/wiki/Quantum_error_correction). Error correction plays an important part in unlocking the full potential of quantum computing."
   ]
  },
  {
   "cell_type": "markdown",
   "metadata": {},
   "source": [
    "# What you will learn"
   ]
  },
  {
   "cell_type": "markdown",
   "metadata": {},
   "source": [
    "After working through the complete course you will have learned to:\n",
    "\n",
    "- Gain a deep understanding of how qubits work and how to manipulate them to solve practical problems:\n",
    "    - Quadratic speedups for unstructured search problems (i.e. Grover's algorithm)\n",
    "    - Exponential speedups by leveraging the Quantum Fourier Transform (i.e. Shor's algorithm)\n",
    "    - Solving general optimization problems with quantum algorithms (QAOA, QUBO, Ising models, Quantum Machine Learning, etc.)\n",
    "    \n",
    "- How to convert your quantum circuits to popular quantum frameworks and run them on real quantum computers (Qiskit, Pennylane, OpenQASM)\n",
    "- Error correction techniques to make quantum algorithms more reliable.\n",
    "- Analyze how quantum computations work and learn to implement them from scratch.\n",
    "\n",
    "Techniques covered (you will learn the meaning of these terms soon):\n",
    "- Qubits and Qudits\n",
    "- Single and multi-qubit gates (Pauli gates, Clifford gates, Controlled gates, etc.)\n",
    "- Bell states (Phi Plus, Phi Minus, Psi Plus, Psi Minus)\n",
    "- The query model of computation\n",
    "- Deutsch-Jozsa algorithm (determining if a function is constant or balanced)\n",
    "- Grover's algorithm (unstructured search)\n",
    "- Shor's algorithm (prime factorization using phase estimation and the Quantum Fourier Transform (QFT))\n",
    "- Quantum software libraries (Qiskit, Pennylane, OpenQASM)\n",
    "- Density matrices and channels (Quantum information theory)\n",
    "- Quantum graph algorithms (Max-Cut, Traveling Salesman Problem)\n",
    "- Quantum machine learning (Quantum Kernel Methods)\n",
    "- Quantum error correction (Pauli Twirling, 9-qubit Shor code, 7-qubit Steane code)\n",
    "- Quantum hardware (Photonic, Trapped Ions, Superconducting (Transmon Qubits), Topological (Majorana-based))\n"
   ]
  },
  {
   "cell_type": "markdown",
   "metadata": {},
   "source": [
    "# How to get started"
   ]
  },
  {
   "cell_type": "markdown",
   "metadata": {},
   "source": [
    "All the course notebooks can be viewed through [Github](https://github.com/CarloLepelaars/q4p/tree/main/nbs) or [Kaggle](https://www.kaggle.com/carlolepelaars/code?orderBy=dateUpdated&query=q4p+-). The notebooks do not have many dependencies and are lightweight if you would to run them on your own computer. Check out [carlo.ai/q4p](https://carlo.ai/q4p#main-course-entries) for an overview of every lesson with links."
   ]
  },
  {
   "cell_type": "markdown",
   "metadata": {},
   "source": [
    "> ⚡ **Get started**  \n",
    "> Start with lesson 0b now! \n",
    "> - [Github](https://github.com/CarloLepelaars/q4p/blob/main/nbs/00b-marbles.ipynb)\n",
    "> - [Kaggle](https://www.kaggle.com/code/carlolepelaars/q4p-00b-marbles-high-level-overview)\n",
    ">\n",
    "> A full overview of course entries is available at [carlo.ai/q4p](https://carlo.ai/q4p#main-course-entries)."
   ]
  }
 ],
 "metadata": {
  "kernelspec": {
   "display_name": "q",
   "language": "python",
   "name": "python3"
  },
  "language_info": {
   "codemirror_mode": {
    "name": "ipython",
    "version": 3
   },
   "file_extension": ".py",
   "mimetype": "text/x-python",
   "name": "python",
   "nbconvert_exporter": "python",
   "pygments_lexer": "ipython3",
   "version": "3.12.4"
  }
 },
 "nbformat": 4,
 "nbformat_minor": 2
}
