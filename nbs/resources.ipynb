{
 "cells": [
  {
   "cell_type": "markdown",
   "metadata": {},
   "source": [
    "# Resources"
   ]
  },
  {
   "cell_type": "markdown",
   "metadata": {},
   "source": [
    "--------------------------\n",
    "\n",
    "## Books"
   ]
  },
  {
   "cell_type": "markdown",
   "metadata": {},
   "source": [
    "### Quantum Computing\n",
    "\n",
    "- [Quantum Computation and Quantum Information (Nielsen & Chuang)](https://www.amazon.com/Quantum-Computation-Information-10th-Anniversary/dp/1107002176?crid=VJB5339SIYMB&dib=eyJ2IjoiMSJ9.eSzRaEDPfZNRNJrJx5nhCTp0oQkLWZkujqGOiuevj_sHJbKkL1Gzm-lj8Yg2C3VA11v61b8iZ-lMx5ju_Os5gYarrMvkrmlT5axEqzNql0rF7vdjvVx1wdd4zI7PnuATJf-wu3J6ifpngHnkYPoPII5TV6ywBOK4K34NY0JAHOkhAfyndoZWV3oxb3asowdT77R7mV6CA0CQUD6Vv2zmMFjeeGxBJO4Sexl8HlJNLRQ.fjinpRoMwoKMQ9jlWLL8j1bgA5KWKM-F8lPFzA-5hvo&dib_tag=se&keywords=quantum+computation+and+information&qid=1732985753&sprefix=quantum+computation+and+information,aps,213&sr=8-1&linkCode=sl1&tag=carloai-20&linkId=0a6f532c12be8d87a7717d00f3c91991&language=en_US&ref_=as_li_ss_tl)\n",
    "- [Machine Learning with Quantum Computers (Schuld & Petruccione)](https://www.amazon.com/Machine-Learning-with-Quantum-Computers-_Quantum-Science-and-Technology_/dp/3030830977?crid=19KO4XCS8WOP8&dib=eyJ2IjoiMSJ9.dNxHwOOX1eQ--tz1drbE8Q5FSOExFYW2vGdIzGTQPD1F1JdSLXDUmGz1gHgNpNrZqLfVexuwQnMc9n8vbR6sNfcs0ijwVKQdLeinveYC5VvKXkCidBuUYhL7U-ftyItGwdtN01Xrz5pC23LQWBhguzaYYMqQ6rSRNHdd8A5h8b-Ly-EWMBOffxQ78eOy6Xs24CERAcdYF9k-UTxOR9fvOZ4mq-_rHleRj9waom7vcRM.ZGWt483eALBI0Qe-jOtxRV0E1C5-SMyDTOhz_QBiZfA&dib_tag=se&keywords=machine+learning+quantum+computers&qid=1732988249&s=books&sprefix=machine+learning+quantum+computer,stripbooks-intl-ship,194&sr=1-1&linkCode=sl1&tag=carloai-20&linkId=ca70ef7f87b0a468dada46c96681d181&language=en_US&ref_=as_li_ss_tl)"
   ]
  },
  {
   "cell_type": "markdown",
   "metadata": {},
   "source": [
    "### Quantum Mechanics\n",
    "\n",
    "- [Leonard Susskind - The Theoretical Minimum: Quantum Mechanics](https://www.amazon.com/Quantum-Mechanics-Theoretical-Leonard-Susskind/dp/0465062903?_encoding=UTF8&dib_tag=se&dib=eyJ2IjoiMSJ9.bQHxFT9WpIkYRkeCumwpdFVbCjwd5MEHWzWJBHklnGv2UtBa5W-NMv4XeVzQxQBDAskRXb-pN1xeDbczsDL199x-RfGYfKBIXxM2v-2MY25Bk6ZANGLEcIWY2oYafqLc.YEqLRNNMX_gWfLDcAs3fgkEw-13sRkvz5yjdff_tDLI&qid=1732988786&sr=1-3&linkCode=sl1&tag=carloai-20&linkId=109f846df78407b69dccf53cefbf8427&language=en_US&ref_=as_li_ss_tl)\n",
    "- [J.J. Sakurai - Modern Quantum Mechanics](https://www.amazon.com/Modern-Quantum-Mechanics-J-Sakurai/dp/1108473229?_encoding=UTF8&dib_tag=se&dib=eyJ2IjoiMSJ9.9aiac9T0bD5vFns_B8FoL4VsZn01tfjZm7mj2xOAZQ1W2pM7wyq6nfygNTzWezDFlKiPhAmdLbfyqqOEiZcwK3DZmhx27oLxfQ8Xhruwy7mTk0CoCb1JbZgORWCyRQBJA9AoGY5yB3Da8DtnydBoz-ywC-eDJ29NqklfQS1DIoiJv6b39vKb-GoOMKmFyy8A6iR20tM8KTQwGTkKFYsLu-ZW4twj99IYD0uJPNRbVgM.TLySH0uJr2O7SoAxzEP_SdWdhE44gnkv5BcFdk7cU74&qid=1732995963&sr=1-1&linkCode=sl1&tag=carloai-20&linkId=8aaf375bbfc7b9f162774e1693243980&language=en_US&ref_=as_li_ss_tl)\n",
    "- [George Gamow - Thirty Years That Shook Physics: The Story of Quantum Physics](https://www.amazon.com/Thirty-Years-that-Shook-Physics/dp/048624895X?crid=35O6VV5AILKLF&dib=eyJ2IjoiMSJ9.uG40w7onW-SRUTD-5xdd1gZVMrEykKHad6zm4VEWRejlTvFPvpIeE5RXmMF1nGlccfPdKQIdDYJXI9nu2EdylR6fLsyURNT-xAVAaCnneNo.x0fvd3bEzfNZKXfLfOp5ofs8ivf3q-iFPVtPG9IBO7A&dib_tag=se&keywords=thirty+years+that+shook+physics&qid=1732988946&s=books&sprefix=thirty+years+that+shook+physic,stripbooks-intl-ship,181&sr=1-1&linkCode=sl1&tag=carloai-20&linkId=1d96d9680e3b5b6a24956236192ef7e4&language=en_US&ref_=as_li_ss_tl)\n",
    "- [Henry Stapp - Mindful Universe](https://www.amazon.com/Mindful-Universe-Mechanics-Participating-Collection/dp/3642444083?_encoding=UTF8&dib_tag=se&dib=eyJ2IjoiMSJ9.xiYQaRgHX0i4ga1JRZcjMZE53H9PiAqtUWzPRdmILa2hVGF9KiIJGhAozi-iBiaIMG2Mne-YhbPtbd5IHYB7l6gClDkUFFXB8ZP0Xm-J9GNHDYEZmYX79K0d6dxKM8VN29uJgWoPZGfXdeiL3SGI-fTQmDUad5tJGttuQ1vR_hskg5qzuOaMIgz5EzMZOuYu98qMnx9T37LJGgsqAXGeeJBRjlKJHx1CFKrWXO1JiEg.cBpof-0wK-6ph1HegW9ZpKuxx_LF-Xqea1O5z4WQYrw&qid=1732989022&sr=1-1&linkCode=sl1&tag=carloai-20&linkId=c5284af2ab6f68fe91d808bc0a5ec3ad&language=en_US&ref_=as_li_ss_tl)\n",
    "- [The Strangest Man: The Hidden Life of Paul Dirac, Quantum Genius](https://www.amazon.com/Strangest-Man-Hidden-Quantum-Genius/dp/0571222781?_encoding=UTF8&dib_tag=se&dib=eyJ2IjoiMSJ9.Mc5KIYw4cyf_zK66DFTpNnTZAU29GPwd2ugLidDaMC9UZOJzjJxTq4vdxIpDZk2FGl62Db40V8RRFwYi7ZVS5prdV8Nma2p-CNDVfmtri6XYofmXuD_hEDc7TYTJfzz1r6OAWu7U-XUs5VGdaxn3lQb-iFk_JxQDrLf_OGT2IBKls3ciWdvm4VSHTAaKjiwqx3PvGfvcEeIEhdPFSSPyzdEe2TNcjivMw8W0oQOGJ0o.xMBqOf_FbzQFw-MJ4Gk7-qcOSioHKG9Egd28AcoxzyM&qid=1732996116&sr=1-1-catcorr&linkCode=sl1&tag=carloai-20&linkId=cfc5f8c4b517f2c31d0101e859a06071&language=en_US&ref_=as_li_ss_tl)\n"
   ]
  },
  {
   "cell_type": "markdown",
   "metadata": {},
   "source": [
    "-------------------------------\n",
    "\n",
    "## YouTube"
   ]
  },
  {
   "cell_type": "markdown",
   "metadata": {},
   "source": [
    "### Channels\n",
    "\n",
    "- [Artur Ekert](https://www.youtube.com/@ArturEkert)\n",
    "- [Quantum ML (Peter Wittek)](https://www.youtube.com/@quantumml8791)\n",
    "- [Looking Glass Universe](https://www.youtube.com/@LookingGlassUniverse)\n",
    "- [Dr. Maria Violaris](https://www.youtube.com/@maria_violaris)"
   ]
  },
  {
   "cell_type": "markdown",
   "metadata": {},
   "source": [
    "### Playlists\n",
    "\n",
    "#### Quantum Computing\n",
    "\n",
    "- [Introduction to Quantum information Science - Artur Ekert](https://www.youtube.com/@ArturEkert/playlists)\n",
    "- [Quantum Machine Learning MOOC - Peter Wittek](https://www.youtube.com/watch?v=QtWCmO_KIlg&list=PLmRxgFnCIhaMgvot-Xuym_hn69lmzIokg)\n",
    "- [Quantum Paradoxes - Maria Violaris](https://www.youtube.com/watch?v=Pz829XZIxXg&list=PLOFEBzvs-VvoQP-EVyd5Di3UrPPc2YKIc&index=1)\n",
    "- [The History of Quantum Computing - Interviews](https://www.youtube.com/watch?v=6qD9XElTpCE&list=PLOFEBzvs-VvpNNq221OCZzCZjHadM2NHR&index=1)\n",
    "- [The Building Blocks of a Quantum Computer](https://www.youtube.com/watch?v=AqoKpUDchYo&list=PL5jmbd6SJYnPiYlM6pHAm2M3FL40D9otZ)\n",
    "\n",
    "#### Quantum Mechanics\n",
    "- [Maths of Quantum Mechanics](https://www.youtube.com/watch?v=3nvbBEzfmE8&list=PL8ER5-vAoiHAWm1UcZsiauUGPlJChgNXC)\n",
    "- [Richard P Feynman - Quantum Mechanical View of Reality](https://www.youtube.com/watch?v=72us6pnbEvE&list=PLW_HsOU6YZRkdhFFznHNEfua9NK3deBQy)\n",
    "- [Leonard Susskind - The Theoretical Minimum: Quantum Mechanics](https://www.youtube.com/watch?v=iJfw6lDlTuA&list=PL09HhnlAMGuprvZVNjMRrF3MFTH2GoP4J)"
   ]
  },
  {
   "cell_type": "markdown",
   "metadata": {},
   "source": [
    "### Videos\n",
    "\n",
    "#### Quantum Computing\n",
    "\n",
    "- [Logic Gate Rotate Qubits](https://www.youtube.com/watch?v=ZBaXPY_0TNI)\n",
    "- [How Quantum Entanglement Works](https://www.youtube.com/watch?v=nxIGNbcVKtA)\n",
    "- [The Square Root of Negative One](https://www.youtube.com/watch?v=lFT2hwsCMls)\n",
    "- [Quantum Instruction Set - Computerphile](https://www.youtube.com/watch?v=ZN0lhYU1f5Q)\n",
    "- [What is Quantum Machine Learning?](https://www.youtube.com/watch?v=j0DV_75LkFo)\n",
    "- [The Radical Map of Topological Quantum Computing](https://www.youtube.com/watch?v=ihZXl33t8So)\n",
    "\n",
    "#### Quantum Mechanics\n",
    "\n",
    "- [The Map of Quantum Physics](https://www.youtube.com/watch?v=gAFAj3pzvAA)\n",
    "- [The interpretations of Quantum Mechanics](https://www.youtube.com/watch?v=gAFAj3pzvAA)\n",
    "- [What is Spin? A Geometric explanation](https://www.youtube.com/watch?v=pYeRS5a3HbE)"
   ]
  },
  {
   "cell_type": "markdown",
   "metadata": {},
   "source": [
    "-------------------------------\n",
    "\n",
    "## Blog Posts\n",
    "\n",
    "### Quantum Computing\n",
    "\n",
    "- [Differences in error suppression, mitigation, and correction](https://www.ibm.com/quantum/blog/quantum-error-suppression-mitigation-correction)\n",
    "- [The Deutsch-Jozsa Algorithm: Quantum Algorithms Untangled (2-part series)](https://medium.com/quantum-untangled/quantum-untangled-quantum-computing-deutsch-jozsa-algorithm-guide-untangled-27adf4205913)\n",
    "- [The Bernstein-Vazirani Algorithm: Quantum Algorithms Untangled](https://medium.com/quantum-untangled/the-bernstein-vazirani-algorithm-quantum-algorithms-untangled-67e58d4a5096)"
   ]
  },
  {
   "cell_type": "markdown",
   "metadata": {},
   "source": [
    "### Mathematics of Quantum\n",
    "\n",
    "- [The Tensor Product, Demystified](https://www.math3ma.com/blog/the-tensor-product-demystified)"
   ]
  },
  {
   "cell_type": "markdown",
   "metadata": {},
   "source": [
    "## Websites"
   ]
  },
  {
   "cell_type": "markdown",
   "metadata": {},
   "source": [
    "### Quantum Computing\n",
    "\n",
    "- [Quantum Country](https://quantum.country)\n",
    "- [IBM Quantum Learning Platform](https://learning.quantum.ibm.com)\n",
    "- [Quantum Algorithm Zoo](https://quantumalgorithmzoo.org)\n",
    "- [PennyLane Quantum Learning Platform](https://pennylane.ai/qml)"
   ]
  },
  {
   "cell_type": "markdown",
   "metadata": {},
   "source": [
    "### Quantum Mechanics"
   ]
  },
  {
   "cell_type": "markdown",
   "metadata": {},
   "source": [
    "-----------------------\n",
    "\n",
    "## Github"
   ]
  },
  {
   "cell_type": "markdown",
   "metadata": {},
   "source": [
    "### Libraries\n",
    "\n",
    "- [Qiskit (IBM)](https://github.com/Qiskit/qiskit)\n",
    "- [PennyLane (PennyLaneAI)](https://github.com/PennyLaneAI/pennylane)\n",
    "- [Cirq (Google)](https://quantumai.google/cirq)\n",
    "- [pyquil (Rigetti)](https://github.com/rigetti/pyquil)\n",
    "- [torchquantum (MIT)](https://github.com/mit-han-lab/torchquantum)\n",
    "- [pyzx (ZX-Calculus)](https://github.com/zxcalc/pyzx)\n",
    "- [strawberryfields (Quantum photonics) (XanaduAI)](https://github.com/XanaduAI/strawberryfields)\n",
    "- [ProjectQ (compilation between quantum frameworks)](https://github.com/ProjectQ-Framework/ProjectQ)"
   ]
  },
  {
   "cell_type": "markdown",
   "metadata": {},
   "source": [
    "\n",
    "### Curations\n",
    "- [qml-library (Curated papers and research on Quantum ML)](https://github.com/lockwo/qml-library)\n",
    "- [awesome-quantum-computing (Curated quantum computing resources)](https://github.com/desireevl/awesome-quantum-computing)\n",
    "- [awesome-quantum-software (Curated open-source quantum software projects)](https://github.com/qosf/awesome-quantum-software)\n",
    "- [awesome-quantum-ml (Curated quantum ML resources)](https://github.com/artix41/awesome-quantum-ml)"
   ]
  },
  {
   "cell_type": "markdown",
   "metadata": {},
   "source": [
    "------------------------"
   ]
  },
  {
   "cell_type": "markdown",
   "metadata": {},
   "source": [
    "# Podcasts"
   ]
  },
  {
   "cell_type": "markdown",
   "metadata": {},
   "source": [
    "- Quantum Foundations Podcast (Quantum physics and computing)\n",
    "    - [Youtube](https://www.youtube.com/watch?v=SlKNdeOCJek&list=PLlzqzbe3LGN8_fiJ9Pg_cFAkP3SJRgp8D)\n",
    "    - [Spotify](https://open.spotify.com/show/70ZHC5RTybCwiuUu2DjKf2)\n",
    "- Quantum Tech Podcast (Business of quantum computing)\n",
    "    - [Spotify](https://open.spotify.com/show/1QYDLAr0AkMGW3Vswtb9FD)"
   ]
  }
 ],
 "metadata": {
  "language_info": {
   "name": "python"
  }
 },
 "nbformat": 4,
 "nbformat_minor": 2
}
