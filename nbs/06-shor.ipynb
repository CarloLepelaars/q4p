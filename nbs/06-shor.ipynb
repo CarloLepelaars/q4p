{
 "cells": [
  {
   "cell_type": "markdown",
   "metadata": {},
   "source": [
    "# Work in progress (WIP)"
   ]
  },
  {
   "cell_type": "markdown",
   "metadata": {},
   "source": [
    "# 6. Shor's algorithm"
   ]
  },
  {
   "cell_type": "markdown",
   "metadata": {},
   "source": [
    "In this lesson you will learn:\n",
    "- Exponential speedups in quantum computing\n",
    "- How Simon's algorithm relates to Shor's algorithm\n",
    "- Phase estimation\n",
    "- The Quantum Fourier Transform (QFT)\n",
    "- Shor's algorithm for integer factorization\n"
   ]
  },
  {
   "cell_type": "markdown",
   "metadata": {},
   "source": [
    "# Work in progress (WIP)"
   ]
  },
  {
   "cell_type": "markdown",
   "metadata": {},
   "source": [
    "## Simon's algorithm"
   ]
  },
  {
   "cell_type": "markdown",
   "metadata": {},
   "source": [
    "- One of the first algorithms that gave an **exponential speedup** over classical algorithms.\n",
    "- Best classical algorithm for this problem requires $O(2^n)$ (exponential) evaluations. Simon's algorithm only requires $O(n)$ (linear).\n",
    "- Finds a hidden period $s$ in a function $f$. **XOR-periodicity**\n",
    "- Use cases of Simon's algorithm in itself is limited, but it is used in the highly influential **Shor's algorithm** for integer factorization with superpolynomial advantages. Shor's algorithm has a similar structure to Simon's algorithm, but uses the **Quantum Fourier Transform (QFT)** to find the period.\n",
    "\n",
    "\n",
    "We are again evaluating a function $f$.\n",
    "\n",
    "Promise: There exists a bitstring $s$ such that $[f(x) = f(y)]$ if and only if $[(x=y)$ or $(x  \\oplus s = y)]$.\n",
    "\n",
    "Output: $s$ (Always one unique hidden period $s$)\n",
    "\n",
    "---------------------------\n",
    "\n",
    "**Case 1: $s = 0$ (All 0's)**\n",
    "\n",
    "Promise simplifies to: $f(x) = f(y)$ if and only if $x = y$\n",
    "\n",
    "This means that $f$ maps bits one-to-one.\n",
    "\n",
    "\n",
    "-------------------------------\n",
    "\n",
    "**Case 2: $s \\neq 0$ (Not all 0's)**\n",
    "\n",
    "This means that $f$ maps bits two-to-one to satisfy the promise.\n",
    "\n",
    "$f(x) = f(x \\oplus s)$ \n",
    "\n",
    "\n",
    "\n",
    "\n",
    "\n",
    "\n",
    "\n",
    "\n",
    "\n",
    "\n",
    "\n",
    "\n",
    "\n",
    "\n",
    "\n",
    "\n",
    "\n",
    "\n",
    "\n",
    "\n",
    "\n",
    "\n",
    "\n",
    "\n"
   ]
  },
  {
   "cell_type": "markdown",
   "metadata": {},
   "source": [
    "## Shor's algorithm\n",
    "\n",
    "- The holy grail of quantum algorithms, demonstrated to give an exponential speedup over classical algorithms in factoring integers.\n",
    "\n",
    "- Leverages the idea of Simon's algorithm to factor integers.\n",
    "- First consider subproblem of order-finding is solved using **Phase estimation**. If we can find an efficient algorithm for this, then we can also find an efficient algorithm for integer factorization.\n",
    "- **Quantum Fourier Transform (QFT)**. The matrix for QFT is the same as the normal discrete Fourier transform, because this matrix is already unitary. When we use it we still call it Quantum Fourier Transform to clarify that we are using it in a quantum context. The QFT can be computed at cost $O(n^2)$ time.\n",
    "\n",
    "QFT for 1 qubit (2 dimensions) is the same as the Hadamard gate:\n",
    "\n",
    "$$QFT_2 = \\frac{1}{\\sqrt{2}} \\begin{bmatrix}\n",
    "1 & 1 \\\\\n",
    "1 & -1\n",
    "\\end{bmatrix} = H$$\n",
    "\n",
    "QFT for 2 qubits (4 dimensions):\n",
    "\n",
    "$$QFT_4 = \\frac{1}{2} \\begin{bmatrix}\n",
    "1 & 1 & 1 & 1 \\\\\n",
    "1 & i & -1 & -i \\\\\n",
    "1 & -1 & 1 & -1 \\\\\n",
    "1 & -i & -1 & i\n",
    "\\end{bmatrix}$$\n",
    "\n",
    "QFT for $N$ qubits:\n",
    "\n",
    "$$QFT_N = \\frac{1}{\\sqrt{N}} \\sum_{x=0}^{N-1} \\sum_{y=0}^{N-1} e^{2\\pi i \\frac{xy}{N}} |x\\rangle\\langle y|$$\n",
    "\n",
    "When QFT is combined with Hadamard gates and controlled unitaries, we can implement Shors algorithm.\n",
    "\n",
    "Total cost of Shor's algorithm is $O(n^3)$. This is because the controlled unitary operations have cost $O(n^3)$.\n",
    "\n",
    "\n"
   ]
  },
  {
   "cell_type": "code",
   "execution_count": null,
   "metadata": {},
   "outputs": [],
   "source": [
    "# Kaleido is used to convert Plotly to static png\n",
    "!pip install -Uqq kaleido\n",
    "# skq is used to construct and convert quantum circuits\n",
    "!pip install -Uqq skq"
   ]
  },
  {
   "cell_type": "markdown",
   "metadata": {},
   "source": [
    "# Work in progress (WIP)"
   ]
  }
 ],
 "metadata": {
  "kernelspec": {
   "display_name": "q",
   "language": "python",
   "name": "python3"
  },
  "language_info": {
   "name": "python",
   "version": "3.12.4"
  }
 },
 "nbformat": 4,
 "nbformat_minor": 2
}
