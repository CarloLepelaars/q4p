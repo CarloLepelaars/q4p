{
 "cells": [
  {
   "cell_type": "markdown",
   "metadata": {},
   "source": [
    "-------------------------------------------------\n",
    "\n",
    "This notebook is part of the [q4p (Quantum Computing for Programmers) series](https://github.com/CarloLepelaars/q4p). The original notebook can be found on [Github](https://github.com/CarloLepelaars/q4p/blob/main/nbs/02-gates.ipynb).\n",
    "\n",
    "-------------------------------------------------"
   ]
  },
  {
   "cell_type": "markdown",
   "metadata": {},
   "source": [
    "# 2. Quantum Logic Gates"
   ]
  },
  {
   "cell_type": "markdown",
   "metadata": {},
   "source": [
    "In this lesson you will learn:\n",
    "\n",
    "- What are quantum logic gates and its requirements?\n",
    "- **Pauli Gates**\n",
    "- The **Clifford Group**\n",
    "- The $CNOT$ Multi-Qubit Gate\n",
    "- The \"odd duck\" $T$ Gate\n",
    "- BONUS: Generalized rotation gates"
   ]
  },
  {
   "cell_type": "markdown",
   "metadata": {},
   "source": [
    "## What are quantum gates?"
   ]
  },
  {
   "cell_type": "markdown",
   "metadata": {},
   "source": [
    "In [notebook 1](https://github.com/CarloLepelaars/q4p/blob/main/nbs/01-the-qubit.ipynb) we have described the foundation of quantum computing as a state evolving through a series of quantum logic gates. We have also discussed one of the simplest meaningful logic gates called the $X$ (NOT) gate. Here we will discuss the foundation of these gates and the most common implementations. We will start with a single qubit and then move on to multi-qubit gates.\n"
   ]
  },
  {
   "cell_type": "markdown",
   "metadata": {},
   "source": [
    "Recall that a quantum state for a single qubit is a vector with 2 complex numbers. Almost all quantum algorithms start with the zero state:\n",
    "\n",
    "$$\n",
    "\\begin{bmatrix}\n",
    "1 \\\\\n",
    "0\n",
    "\\end{bmatrix} = |0\\rangle\n",
    "$$"
   ]
  },
  {
   "cell_type": "markdown",
   "metadata": {},
   "source": [
    "## skq\n",
    "\n",
    "To avoid having to construct gates and concepts from scratch each time we will use the [skq](https://github.com/CarloLepelaars/skq) library. I built this library so you can easily play with quantum concepts in NumPy and build your own algorithms. These circuits can then be converted to popular quantum frameworks like [Qiskit](https://github.com/Qiskit/qiskit) and [OpenQASM](https://openqasm.com/intro.html) so you can run them on real quantum computers."
   ]
  },
  {
   "cell_type": "code",
   "execution_count": 1,
   "metadata": {},
   "outputs": [],
   "source": [
    "# skq is used for quantum gates and circuits\n",
    "!pip install -Uqq skq"
   ]
  },
  {
   "cell_type": "code",
   "execution_count": 2,
   "metadata": {},
   "outputs": [],
   "source": [
    "import numpy as np\n",
    "\n",
    "from skq.circuits import Circuit\n",
    "from skq.gates.qubit import X, Y, Z, I, H, S, T, CX, RX, RY, RZ, R"
   ]
  },
  {
   "cell_type": "code",
   "execution_count": 3,
   "metadata": {},
   "outputs": [
    {
     "data": {
      "text/plain": [
       "array([1.+0.j, 0.+0.j])"
      ]
     },
     "execution_count": 3,
     "metadata": {},
     "output_type": "execute_result"
    }
   ],
   "source": [
    "zero_state = np.array([1, 0], dtype=complex)\n",
    "zero_state"
   ]
  },
  {
   "cell_type": "markdown",
   "metadata": {},
   "source": [
    "## Pauli Gates"
   ]
  },
  {
   "cell_type": "markdown",
   "metadata": {},
   "source": [
    "The $X$ (NOT) gate discussed in notebook 1 is one of the fundamental Pauli Gates. The Pauli Gates are special in quantum computing as they are all \"observables\", which means they can be used for measuring a qubit. For completeness we also define an Identity gate ($I$), which does not change the state. The Pauli Gates and Identity gate can be described as matrices:\n",
    "\n",
    "$$\n",
    "X = \\sigma_x = \\begin{bmatrix}\n",
    "0 & 1 \\\\\n",
    "1 & 0\n",
    "\\end{bmatrix},\n",
    "\\quad\n",
    "Y = \\sigma_y = \\begin{bmatrix}\n",
    "0 & -i \\\\\n",
    "i & 0\n",
    "\\end{bmatrix},\n",
    "\\quad\n",
    "Z = \\sigma_z = \\begin{bmatrix}\n",
    "1 & 0 \\\\\n",
    "0 & -1\n",
    "\\end{bmatrix},\n",
    "\\quad\n",
    "I = \\begin{bmatrix}\n",
    "1 & 0 \\\\\n",
    "0 & 1\n",
    "\\end{bmatrix}\n",
    "$$\n"
   ]
  },
  {
   "cell_type": "code",
   "execution_count": 4,
   "metadata": {},
   "outputs": [
    {
     "data": {
      "text/plain": [
       "X([[0.+0.j, 1.+0.j],\n",
       "   [1.+0.j, 0.+0.j]])"
      ]
     },
     "execution_count": 4,
     "metadata": {},
     "output_type": "execute_result"
    }
   ],
   "source": [
    "X()"
   ]
  },
  {
   "cell_type": "markdown",
   "metadata": {},
   "source": [
    "Each gate can also be visualized in a circuit diagram. We will heavily use these visualizations to understand quantum circuits."
   ]
  },
  {
   "cell_type": "code",
   "execution_count": 5,
   "metadata": {},
   "outputs": [
    {
     "data": {
      "image/png": "[encoded data removed]",
      "text/plain": [
       "<Figure size 185.453x117.056 with 1 Axes>"
      ]
     },
     "execution_count": 5,
     "metadata": {},
     "output_type": "execute_result"
    }
   ],
   "source": [
    "X().draw(output=\"mpl\")"
   ]
  },
  {
   "cell_type": "code",
   "execution_count": 6,
   "metadata": {},
   "outputs": [
    {
     "data": {
      "text/plain": [
       "Y([[ 0.+0.j, -0.-1.j],\n",
       "   [ 0.+1.j,  0.+0.j]])"
      ]
     },
     "execution_count": 6,
     "metadata": {},
     "output_type": "execute_result"
    }
   ],
   "source": [
    "Y()"
   ]
  },
  {
   "cell_type": "code",
   "execution_count": 7,
   "metadata": {},
   "outputs": [
    {
     "data": {
      "image/png": "[encoded data removed]",
      "text/plain": [
       "<Figure size 185.453x117.056 with 1 Axes>"
      ]
     },
     "execution_count": 7,
     "metadata": {},
     "output_type": "execute_result"
    }
   ],
   "source": [
    "Y().draw(output=\"mpl\")"
   ]
  },
  {
   "cell_type": "code",
   "execution_count": 8,
   "metadata": {},
   "outputs": [
    {
     "data": {
      "text/plain": [
       "Z([[ 1.+0.j,  0.+0.j],\n",
       "   [ 0.+0.j, -1.+0.j]])"
      ]
     },
     "execution_count": 8,
     "metadata": {},
     "output_type": "execute_result"
    }
   ],
   "source": [
    "Z()"
   ]
  },
  {
   "cell_type": "code",
   "execution_count": 9,
   "metadata": {},
   "outputs": [
    {
     "data": {
      "image/png": "[encoded data removed]",
      "text/plain": [
       "<Figure size 185.453x117.056 with 1 Axes>"
      ]
     },
     "execution_count": 9,
     "metadata": {},
     "output_type": "execute_result"
    }
   ],
   "source": [
    "Z().draw(output=\"mpl\")"
   ]
  },
  {
   "cell_type": "code",
   "execution_count": 10,
   "metadata": {},
   "outputs": [
    {
     "data": {
      "text/plain": [
       "I([[1.+0.j, 0.+0.j],\n",
       "   [0.+0.j, 1.+0.j]])"
      ]
     },
     "execution_count": 10,
     "metadata": {},
     "output_type": "execute_result"
    }
   ],
   "source": [
    "I()"
   ]
  },
  {
   "cell_type": "code",
   "execution_count": 11,
   "metadata": {},
   "outputs": [
    {
     "data": {
      "image/png": "[encoded data removed]",
      "text/plain": [
       "<Figure size 185.453x117.056 with 1 Axes>"
      ]
     },
     "execution_count": 11,
     "metadata": {},
     "output_type": "execute_result"
    }
   ],
   "source": [
    "I().draw(output=\"mpl\")"
   ]
  },
  {
   "cell_type": "markdown",
   "metadata": {},
   "source": [
    "Rotating $| 0 \\rangle$ around the Y-axis ($Y|0\\rangle$) gives us the state $i|1\\rangle$:"
   ]
  },
  {
   "cell_type": "code",
   "execution_count": 12,
   "metadata": {},
   "outputs": [
    {
     "data": {
      "text/plain": [
       "Y([0.+0.j, 0.+1.j])"
      ]
     },
     "execution_count": 12,
     "metadata": {},
     "output_type": "execute_result"
    }
   ],
   "source": [
    "Y() @ zero_state"
   ]
  },
  {
   "cell_type": "markdown",
   "metadata": {},
   "source": [
    "Certain states are not affected by rotation around an axis, because they are already aligned with that axis. Rotating $| 0 \\rangle$ or $| 1 \\rangle$ around the Z-axis ($Z|0\\rangle$) does not change the state."
   ]
  },
  {
   "cell_type": "code",
   "execution_count": 13,
   "metadata": {},
   "outputs": [
    {
     "data": {
      "text/plain": [
       "Z([1.+0.j, 0.+0.j])"
      ]
     },
     "execution_count": 13,
     "metadata": {},
     "output_type": "execute_result"
    }
   ],
   "source": [
    "Z() @ zero_state"
   ]
  },
  {
   "cell_type": "markdown",
   "metadata": {},
   "source": [
    "The $Z$ is also called the phase-flip gate. It flips the $|1\\rangle$ part of the superposition state $|+ \\rangle$, resulting in the state $|-\\rangle$:\n",
    "\n",
    "$$Z |+ \\rangle = Z \\left( \\begin{bmatrix}\n",
    "\\frac{1}{\\sqrt{2}} \\\\\n",
    "\\frac{1}{\\sqrt{2}}\n",
    "\\end{bmatrix} \\right) = \\begin{bmatrix}\n",
    "1 & 0 \\\\\n",
    "0 & -1\n",
    "\\end{bmatrix} \\begin{bmatrix}\n",
    "\\frac{1}{\\sqrt{2}} \\\\\n",
    "\\frac{1}{\\sqrt{2}}\n",
    "\\end{bmatrix} = \\begin{bmatrix}\n",
    "\\frac{1}{\\sqrt{2}} \\\\\n",
    "-\\frac{1}{\\sqrt{2}}\n",
    "\\end{bmatrix} = |-\\rangle\n",
    "$$"
   ]
  },
  {
   "cell_type": "code",
   "execution_count": 14,
   "metadata": {},
   "outputs": [
    {
     "data": {
      "text/plain": [
       "Z([ 0.70710678+0.j, -0.70710678+0.j])"
      ]
     },
     "execution_count": 14,
     "metadata": {},
     "output_type": "execute_result"
    }
   ],
   "source": [
    "Z() @ np.array([1 / np.sqrt(2), \n",
    "                1 / np.sqrt(2)])"
   ]
  },
  {
   "cell_type": "markdown",
   "metadata": {},
   "source": [
    "The identity gate will return the state unchanged:"
   ]
  },
  {
   "cell_type": "code",
   "execution_count": 15,
   "metadata": {},
   "outputs": [
    {
     "data": {
      "text/plain": [
       "I([1.+0.j, 0.+0.j])"
      ]
     },
     "execution_count": 15,
     "metadata": {},
     "output_type": "execute_result"
    }
   ],
   "source": [
    "I() @ zero_state"
   ]
  },
  {
   "cell_type": "markdown",
   "metadata": {},
   "source": [
    "# Requirements of quantum logic gates"
   ]
  },
  {
   "cell_type": "markdown",
   "metadata": {},
   "source": [
    "The main requirement for a quantum logic gates is that the matrix must be unitary. This means that if multiply the matrix ($U$) by its conjugate transpose ($U^\\dagger$), we should get the identity matrix ($I$). Recall that the conjugate transpose is just flipping the complex part of the numbers and transposing it. For any valid quantum gate $U$ it should hold that:\n",
    "\n",
    "$$\n",
    "U U^\\dagger = I\n",
    "$$\n",
    "\n"
   ]
  },
  {
   "cell_type": "markdown",
   "metadata": {},
   "source": [
    "Let's take for example the Y-gate:\n",
    "\n",
    "$$\n",
    "Y = \\begin{bmatrix}\n",
    "0 & -i \\\\\n",
    "i & 0\n",
    "\\end{bmatrix}\n",
    "$$\n",
    "\n",
    "$$\n",
    "Y^\\dagger = \\begin{bmatrix}\n",
    "0 & i \\\\\n",
    "-i & 0\n",
    "\\end{bmatrix}\n",
    "$$\n",
    "\n",
    "$$\n",
    "Y Y^\\dagger = \\begin{bmatrix}\n",
    "0 & -i \\\\\n",
    "i & 0\n",
    "\\end{bmatrix} \\begin{bmatrix}\n",
    "0 & i \\\\\n",
    "-i & 0\n",
    "\\end{bmatrix} = \\begin{bmatrix}\n",
    "1 & 0 \\\\\n",
    "0 & 1\n",
    "\\end{bmatrix} = I\n",
    "$$\n"
   ]
  },
  {
   "cell_type": "code",
   "execution_count": 16,
   "metadata": {},
   "outputs": [
    {
     "data": {
      "text/plain": [
       "Y([[1.+0.j, 0.+0.j],\n",
       "   [0.+0.j, 1.+0.j]])"
      ]
     },
     "execution_count": 16,
     "metadata": {},
     "output_type": "execute_result"
    }
   ],
   "source": [
    "y_mul = Y() @ Y().conj().T\n",
    "y_mul"
   ]
  },
  {
   "cell_type": "code",
   "execution_count": 17,
   "metadata": {},
   "outputs": [
    {
     "data": {
      "text/plain": [
       "True"
      ]
     },
     "execution_count": 17,
     "metadata": {},
     "output_type": "execute_result"
    }
   ],
   "source": [
    "np.allclose(y_mul, I())"
   ]
  },
  {
   "cell_type": "markdown",
   "metadata": {},
   "source": [
    "Another way to frame this requirement is that the computation of evolving a state through a gate must be reversible. If we first apply a gate and then the conjugate transpose of that gate, we get back the original state. \n",
    "\n",
    "To evolve a state through a gate we perform a vector-matrix multiplication with `@`. To get back the original state we apply the conjugate transpose of the gate (`gate.conj().T`) with `@`. We can also use `decodes` on `skq` gates to apply the conjugate transpose."
   ]
  },
  {
   "cell_type": "markdown",
   "metadata": {},
   "source": [
    "This allow us to conveniently create gates and use them as blocks to build a circuit."
   ]
  },
  {
   "cell_type": "code",
   "execution_count": 18,
   "metadata": {},
   "outputs": [
    {
     "data": {
      "text/plain": [
       "array([0.+0.j, 1.+0.j])"
      ]
     },
     "execution_count": 18,
     "metadata": {},
     "output_type": "execute_result"
    }
   ],
   "source": [
    "x_gate, y_gate, z_gate = X(), Y(), Z()\n",
    "x_gate(zero_state)"
   ]
  },
  {
   "cell_type": "code",
   "execution_count": 19,
   "metadata": {},
   "outputs": [
    {
     "data": {
      "text/plain": [
       "array([1.+0.j, 0.+0.j])"
      ]
     },
     "execution_count": 19,
     "metadata": {},
     "output_type": "execute_result"
    }
   ],
   "source": [
    "x_gate.decodes(x_gate(zero_state))"
   ]
  },
  {
   "cell_type": "markdown",
   "metadata": {},
   "source": [
    "To run circuits in sequence we can use the `Circuit` class that applies multiple gates. This is a simple object that can run the gates, but also visualize them and convert to other quantum frameworks."
   ]
  },
  {
   "cell_type": "code",
   "execution_count": 20,
   "metadata": {},
   "outputs": [],
   "source": [
    "pipe = Circuit([y_gate, z_gate])"
   ]
  },
  {
   "cell_type": "code",
   "execution_count": 21,
   "metadata": {},
   "outputs": [
    {
     "data": {
      "image/png": "[encoded data removed]",
      "text/plain": [
       "<Figure size 269.064x117.056 with 1 Axes>"
      ]
     },
     "execution_count": 21,
     "metadata": {},
     "output_type": "execute_result"
    }
   ],
   "source": [
    "pipe.draw(output=\"mpl\")"
   ]
  },
  {
   "cell_type": "markdown",
   "metadata": {},
   "source": [
    "This is our first quantum circuit with multiple different gates. This circuit first flip the state around the Y-axis and then around the Z-axis.\n",
    "\n",
    "$$\n",
    "|0\\rangle \\rightarrow Y \\rightarrow Z \\rightarrow -i |1\\rangle\n",
    "$$\n",
    "\n",
    "$$\n",
    "|0\\rangle = \\begin{bmatrix}\n",
    "1 \\\\\n",
    "0\n",
    "\\end{bmatrix}\n",
    "$$\n",
    "\n",
    "$$\n",
    "Y |0\\rangle = \\begin{bmatrix}\n",
    "0 & -i \\\\\n",
    "i & 0\n",
    "\\end{bmatrix} \\begin{bmatrix}\n",
    "1 \\\\\n",
    "0\n",
    "\\end{bmatrix} = \\begin{bmatrix}\n",
    "0 \\\\\n",
    "i\n",
    "\\end{bmatrix}\n",
    "$$\n",
    "\n",
    "$$\n",
    "Z (Y |0\\rangle) = \\begin{bmatrix}\n",
    "1 & 0 \\\\\n",
    "0 & -1\n",
    "\\end{bmatrix} \\begin{bmatrix}\n",
    "0 \\\\\n",
    "i\n",
    "\\end{bmatrix} = \\begin{bmatrix}\n",
    "0 \\\\\n",
    "-i\n",
    "\\end{bmatrix} = -i |1\\rangle\n",
    "$$"
   ]
  },
  {
   "cell_type": "code",
   "execution_count": 22,
   "metadata": {},
   "outputs": [
    {
     "data": {
      "text/plain": [
       "array([0.+0.j, 0.-1.j])"
      ]
     },
     "execution_count": 22,
     "metadata": {},
     "output_type": "execute_result"
    }
   ],
   "source": [
    "# Z @ Y @ |0>\n",
    "output_state = pipe(zero_state)\n",
    "output_state"
   ]
  },
  {
   "cell_type": "markdown",
   "metadata": {},
   "source": [
    "The decoding is computed as follows:\n",
    "\n",
    "$$\n",
    "-i|1\\rangle \\rightarrow Z^\\dagger \\rightarrow Y^\\dagger \\rightarrow |0\\rangle\n",
    "$$\n",
    "\n",
    "$$\n",
    "Z^\\dagger | \\Psi \\rangle = \\begin{bmatrix}\n",
    "1 & 0 \\\\\n",
    "0 & -1\n",
    "\\end{bmatrix} \\begin{bmatrix}\n",
    "0 \\\\\n",
    "-i\n",
    "\\end{bmatrix} = \\begin{bmatrix}\n",
    "0 \\\\\n",
    "i\n",
    "\\end{bmatrix}\n",
    "$$\n",
    "\n",
    "$$\n",
    "Y^\\dagger (Z^\\dagger | \\Psi \\rangle) = \\begin{bmatrix}\n",
    "0 & i \\\\\n",
    "-i & 0\n",
    "\\end{bmatrix} \\begin{bmatrix}\n",
    "0 \\\\\n",
    "i\n",
    "\\end{bmatrix} = \\begin{bmatrix}\n",
    "1 \\\\\n",
    "0\n",
    "\\end{bmatrix} = |0\\rangle\n",
    "$$"
   ]
  },
  {
   "cell_type": "code",
   "execution_count": 23,
   "metadata": {},
   "outputs": [
    {
     "data": {
      "text/plain": [
       "array([1.+0.j, 0.+0.j])"
      ]
     },
     "execution_count": 23,
     "metadata": {},
     "output_type": "execute_result"
    }
   ],
   "source": [
    "# Decoding output yields back the original state\n",
    "pipe.decodes(output_state)"
   ]
  },
  {
   "cell_type": "markdown",
   "metadata": {},
   "source": [
    "Now we can easily evolve a state through multiple gates. One of the few gaps keeping us from building serious quantum algorithms is the generalization to multiple qubits. The generalization of quantum gates to multiple qubits is discussed in-depth in the next notebook, but we will discuss one important multi-qubit gate in this notebook."
   ]
  },
  {
   "cell_type": "markdown",
   "metadata": {},
   "source": [
    "## Clifford Group"
   ]
  },
  {
   "cell_type": "markdown",
   "metadata": {},
   "source": [
    "The Clifford group is a set of common logic gates that are available on any modern quantum computer. These are the fundamental building blocks for many quantum algorithms. Most quantum error correction schemes focus on the Clifford group. The Pauli gates are part of the Clifford group in addition to the Hadamard ($H$) gate, $S$ gate and $CX$ gate. \n",
    "\n",
    "Formally, a Clifford gate is any gate that transforms Pauli gates into other Pauli gates. When we apply a Clifford gate $C$ to a Pauli gate $P$ in the following way:\n",
    "\n",
    "$$\n",
    "C P C^\\dagger\n",
    "$$\n",
    "\n",
    "The result must be another Pauli gate.\n",
    "\n",
    "For example, let's take the Hadamard gate $H$ as our Clifford gate and see how it transforms the Pauli $X$ gate:\n",
    "\n",
    "$$\n",
    "H = \\frac{1}{\\sqrt{2}}\\begin{bmatrix}\n",
    "1 & 1 \\\\\n",
    "1 & -1\n",
    "\\end{bmatrix}, \\quad\n",
    "X = \\begin{bmatrix}\n",
    "0 & 1 \\\\\n",
    "1 & 0\n",
    "\\end{bmatrix}, \\quad\n",
    "H^\\dagger = H\n",
    "$$\n",
    "\n",
    "$$\n",
    "H X H = \\frac{1}{\\sqrt{2}}\\begin{bmatrix}\n",
    "1 & 1 \\\\\n",
    "1 & -1\n",
    "\\end{bmatrix} \\begin{bmatrix}\n",
    "0 & 1 \\\\\n",
    "1 & 0\n",
    "\\end{bmatrix} \\frac{1}{\\sqrt{2}}\\begin{bmatrix}\n",
    "1 & 1 \\\\\n",
    "1 & -1\n",
    "\\end{bmatrix} = \\begin{bmatrix}\n",
    "1 & 0 \\\\\n",
    "0 & -1\n",
    "\\end{bmatrix} = Z\n",
    "$$\n",
    "\n",
    "Therefore, the Hadamard gate transforms the Pauli $X$ gate into the Pauli $Z$ gate, confirming that $H$ is a Clifford gate."
   ]
  },
  {
   "cell_type": "code",
   "execution_count": 24,
   "metadata": {},
   "outputs": [
    {
     "data": {
      "text/plain": [
       "array([[ 1.+0.j, -0.+0.j],\n",
       "       [ 0.+0.j, -1.+0.j]])"
      ]
     },
     "execution_count": 24,
     "metadata": {},
     "output_type": "execute_result"
    }
   ],
   "source": [
    "# HXH -> Z. Therefore H is a Clifford gate\n",
    "np.array(H() @ X() @ H().conj().T).round()"
   ]
  },
  {
   "cell_type": "markdown",
   "metadata": {},
   "source": [
    "Similarly, $H Z H = X$."
   ]
  },
  {
   "cell_type": "code",
   "execution_count": 25,
   "metadata": {},
   "outputs": [
    {
     "data": {
      "text/plain": [
       "array([[-0.+0.j,  1.+0.j],\n",
       "       [ 1.+0.j, -0.+0.j]])"
      ]
     },
     "execution_count": 25,
     "metadata": {},
     "output_type": "execute_result"
    }
   ],
   "source": [
    "# HZH -> X. Therefore H is a Clifford gate\n",
    "np.array(H() @ Z() @ H().conj().T).round()"
   ]
  },
  {
   "cell_type": "markdown",
   "metadata": {},
   "source": [
    "This property makes Clifford gates particularly useful for quantum error correction and many quantum algorithms, though they are not sufficient for universal quantum computation on their own. These are all the gates in the Clifford group:\n",
    "\n",
    "$$\n",
    "X = \\sigma_x = \\begin{bmatrix}\n",
    "0 & 1 \\\\\n",
    "1 & 0\n",
    "\\end{bmatrix},\n",
    "\\quad\n",
    "Y = \\sigma_y = \\begin{bmatrix}\n",
    "0 & -i \\\\\n",
    "i & 0\n",
    "\\end{bmatrix},\n",
    "\\quad\n",
    "Z = \\sigma_z = \\begin{bmatrix}\n",
    "1 & 0 \\\\\n",
    "0 & -1\n",
    "\\end{bmatrix},\n",
    "\\quad\n",
    "I = \\begin{bmatrix}\n",
    "1 & 0 \\\\\n",
    "0 & 1\n",
    "\\end{bmatrix}\n",
    "$$\n",
    "\n",
    "$$\n",
    "H = \\frac{1}{\\sqrt{2}} \\begin{bmatrix}\n",
    "1 & 1 \\\\\n",
    "1 & -1\n",
    "\\end{bmatrix}, \\quad\n",
    "S = \\begin{bmatrix}\n",
    "1 & 0 \\\\\n",
    "0 & i\n",
    "\\end{bmatrix}, \\quad\n",
    "CX = \\begin{bmatrix}\n",
    "1 & 0 & 0 & 0 \\\\\n",
    "0 & 1 & 0 & 0 \\\\\n",
    "0 & 0 & 0 & 1 \\\\\n",
    "0 & 0 & 1 & 0\n",
    "\\end{bmatrix}\n",
    "$$\n",
    "\n",
    "We will now go over them one by one."
   ]
  },
  {
   "cell_type": "markdown",
   "metadata": {},
   "source": [
    "### $H$ (Hadamard) Gate\n",
    "The $H$ (Hadamard) gate is an essential gate in quantum computing. It puts qubits in superposition. The reason why this is important is that it is often the 1st step in many quantum algorithms. Very often all qubits are converted into a superposition state, so we can leverage the power of quantum interference. These interference patterns are essential for quantum parallelism.\n",
    "\n",
    "$$\n",
    "H = \\frac{1}{\\sqrt{2}} \\begin{bmatrix}\n",
    "1 & 1 \\\\\n",
    "1 & -1\n",
    "\\end{bmatrix}\n",
    "$$\n"
   ]
  },
  {
   "cell_type": "code",
   "execution_count": 26,
   "metadata": {},
   "outputs": [
    {
     "data": {
      "text/plain": [
       "H([[ 0.70710678+0.j,  0.70710678+0.j],\n",
       "   [ 0.70710678+0.j, -0.70710678+0.j]])"
      ]
     },
     "execution_count": 26,
     "metadata": {},
     "output_type": "execute_result"
    }
   ],
   "source": [
    "H()"
   ]
  },
  {
   "cell_type": "code",
   "execution_count": 27,
   "metadata": {},
   "outputs": [
    {
     "data": {
      "image/png": "[encoded data removed]",
      "text/plain": [
       "<Figure size 185.453x117.056 with 1 Axes>"
      ]
     },
     "execution_count": 27,
     "metadata": {},
     "output_type": "execute_result"
    }
   ],
   "source": [
    "H().draw(output=\"mpl\")"
   ]
  },
  {
   "cell_type": "code",
   "execution_count": 28,
   "metadata": {},
   "outputs": [
    {
     "data": {
      "text/plain": [
       "array([0.70710678+0.j, 0.70710678+0.j])"
      ]
     },
     "execution_count": 28,
     "metadata": {},
     "output_type": "execute_result"
    }
   ],
   "source": [
    "H()(zero_state)"
   ]
  },
  {
   "cell_type": "markdown",
   "metadata": {},
   "source": [
    "This gate allows you to convert $|0\\rangle \\rightarrow \\frac{1}{\\sqrt{2}} (|0\\rangle + |1\\rangle)$ (i.e. fair coin flip). \n",
    "\n",
    "$$\n",
    "H |0\\rangle = \\frac{1}{\\sqrt{2}} \\begin{bmatrix}\n",
    "1 & 1 \\\\\n",
    "1 & -1\n",
    "\\end{bmatrix} \\begin{bmatrix}\n",
    "1 \\\\\n",
    "0\n",
    "\\end{bmatrix} = \\frac{1}{\\sqrt{2}} \\begin{bmatrix}\n",
    "1 \\\\\n",
    "1\n",
    "\\end{bmatrix} = \\frac{1}{\\sqrt{2}} (|0\\rangle + |1\\rangle)\n",
    "$$"
   ]
  },
  {
   "cell_type": "markdown",
   "metadata": {},
   "source": [
    "Obtaining measurement probabilities with `abs(state)**2`:\n",
    "\n",
    "$$\n",
    "\\left|\\frac{1}{\\sqrt{2}} \\begin{bmatrix}\n",
    "1 \\\\\n",
    "1\n",
    "\\end{bmatrix}\\right|^2 = \\begin{bmatrix}\n",
    "\\frac{1}{2} \\\\\n",
    "\\frac{1}{2}\n",
    "\\end{bmatrix}\n",
    "$$"
   ]
  },
  {
   "cell_type": "code",
   "execution_count": 29,
   "metadata": {},
   "outputs": [
    {
     "data": {
      "text/plain": [
       "array([0.5, 0.5])"
      ]
     },
     "execution_count": 29,
     "metadata": {},
     "output_type": "execute_result"
    }
   ],
   "source": [
    "# Probabilities for H|0> are a fair coin flip\n",
    "np.abs(H()(zero_state)**2)"
   ]
  },
  {
   "cell_type": "markdown",
   "metadata": {},
   "source": [
    "### $S$ Gate"
   ]
  },
  {
   "cell_type": "markdown",
   "metadata": {},
   "source": [
    "The $S$ gate is similar to the $Z$ gate in that it is a phase-shift gate. In fact, it is the square root of the $Z$ gate.\n",
    "\n",
    "$$\n",
    "S = \\begin{bmatrix}\n",
    "1 & 0 \\\\\n",
    "0 & i\n",
    "\\end{bmatrix}\n",
    "$$\n",
    "\n",
    "The equivalence of $S$ with the square root of $Z$ arises from the definition of the imaginary unit, which is $\\sqrt{-1} = i$.\n",
    "\n",
    "$$\n",
    "\\sqrt{Z} = \\sqrt{\\begin{bmatrix}\n",
    "1 & 0 \\\\\n",
    "0 & -1\n",
    "\\end{bmatrix}} = \\begin{bmatrix}\n",
    "1 & 0 \\\\\n",
    "0 & \\sqrt{-1}\n",
    "\\end{bmatrix} = \\begin{bmatrix}\n",
    "1 & 0 \\\\\n",
    "0 & i\n",
    "\\end{bmatrix} = S\n",
    "$$\n",
    "\n"
   ]
  },
  {
   "cell_type": "code",
   "execution_count": 30,
   "metadata": {},
   "outputs": [
    {
     "data": {
      "text/plain": [
       "S([[1.000000e+00+0.j, 0.000000e+00+0.j],\n",
       "   [0.000000e+00+0.j, 6.123234e-17+1.j]])"
      ]
     },
     "execution_count": 30,
     "metadata": {},
     "output_type": "execute_result"
    }
   ],
   "source": [
    "S()"
   ]
  },
  {
   "cell_type": "code",
   "execution_count": 31,
   "metadata": {},
   "outputs": [
    {
     "data": {
      "image/png": "[encoded data removed]",
      "text/plain": [
       "<Figure size 185.453x117.056 with 1 Axes>"
      ]
     },
     "execution_count": 31,
     "metadata": {},
     "output_type": "execute_result"
    }
   ],
   "source": [
    "S().draw(output=\"mpl\")"
   ]
  },
  {
   "cell_type": "markdown",
   "metadata": {},
   "source": [
    "As with the $Z$ gate, the $S$ gate has no effect on the $|0\\rangle$ state."
   ]
  },
  {
   "cell_type": "code",
   "execution_count": 32,
   "metadata": {},
   "outputs": [
    {
     "data": {
      "text/plain": [
       "array([1.+0.j, 0.+0.j])"
      ]
     },
     "execution_count": 32,
     "metadata": {},
     "output_type": "execute_result"
    }
   ],
   "source": [
    "S()(zero_state)"
   ]
  },
  {
   "cell_type": "markdown",
   "metadata": {},
   "source": [
    "It transforms the superposition state $|+ \\rangle = \\frac{1}{\\sqrt{2}} (|0\\rangle + |1\\rangle$ into the state $|i\\rangle$ as follows:\n",
    "\n",
    "$$S |+ \\rangle = \n",
    "S \\begin{bmatrix}\n",
    "\\frac{1}{\\sqrt{2}} \\\\\n",
    "\\frac{1}{\\sqrt{2}}\n",
    "\\end{bmatrix} = \\begin{bmatrix}\n",
    "1 & 0 \\\\\n",
    "0 & i\n",
    "\\end{bmatrix} \\begin{bmatrix}\n",
    "\\frac{1}{\\sqrt{2}} \\\\\n",
    "\\frac{1}{\\sqrt{2}}\n",
    "\\end{bmatrix} = \\begin{bmatrix}\n",
    "\\frac{1}{\\sqrt{2}} \\\\\n",
    "\\frac{i}{\\sqrt{2}}\n",
    "\\end{bmatrix} = \\frac{1}{\\sqrt{2}} \\begin{bmatrix}\n",
    "1 \\\\\n",
    "i\n",
    "\\end{bmatrix} = \\frac{1}{\\sqrt{2}} (|0\\rangle + i|1\\rangle) = |i\\rangle\n",
    "$$\n",
    "\n",
    "In other words, the real $|1\\rangle$ part of the state is transferred to the imaginary part $i|1\\rangle$."
   ]
  },
  {
   "cell_type": "code",
   "execution_count": 33,
   "metadata": {},
   "outputs": [
    {
     "data": {
      "text/plain": [
       "array([7.07106781e-01+0.j        , 4.32978028e-17+0.70710678j])"
      ]
     },
     "execution_count": 33,
     "metadata": {},
     "output_type": "execute_result"
    }
   ],
   "source": [
    "S()(np.array([1 / np.sqrt(2), \n",
    "              1 / np.sqrt(2)]))"
   ]
  },
  {
   "cell_type": "markdown",
   "metadata": {},
   "source": [
    "### $CX$ (CNOT) Gate"
   ]
  },
  {
   "cell_type": "markdown",
   "metadata": {},
   "source": [
    "The last gate in the Clifford group is the $CX$ ($CNOT$) gate. This is the first multi-qubit gate we are encountering. Instead of a $2 \\times 2$ single qubit gate, a gate for $2$ qubits is described by a $4 \\times 4$ matrix. More generally, a gate for $n$ qubits is described by a $2^n \\times 2^n$ matrix.\n",
    "\n",
    "The $CX$ gate flips the 2nd qubit based on the state of the 1st qubit. If the 1st qubit is $|1\\rangle$ the 2nd qubit is flipped along the X-axis. This gate enables (controlled) quantum entanglement and is something that isn't available on classical computers.\n",
    "\n",
    "The $CX$ ($CNOT$) gate is described as follows:\n",
    "$$\n",
    "CX = \\begin{bmatrix}\n",
    "1 & 0 & 0 & 0 \\\\\n",
    "0 & 1 & 0 & 0 \\\\\n",
    "0 & 0 & 0 & 1 \\\\\n",
    "0 & 0 & 1 & 0\n",
    "\\end{bmatrix}\n",
    "$$\n",
    "\n",
    "In order to demonstrate this gate, we need to construct a 2-qubit state. Let us briefly discuss what a multi-qubit state signifies. A state of $n$ qubits is a vector with $2^n$ complex numbers, so for 2 qubits we need a vector with 4 complex numbers.\n",
    "\n",
    "The two-qubit $|00\\rangle$ state is:\n",
    "\n",
    "$$\n",
    "|00\\rangle = \\begin{bmatrix}\n",
    "1 \\\\\n",
    "0 \\\\\n",
    "0 \\\\\n",
    "0\n",
    "\\end{bmatrix} = 1|00\\rangle + 0|01\\rangle + 0|10\\rangle + 0|11\\rangle\n",
    "$$\n",
    "\n",
    "The $|11\\rangle$ state is:\n",
    "\n",
    "$$\n",
    "|11\\rangle = \\begin{bmatrix}\n",
    "0 \\\\\n",
    "0 \\\\\n",
    "0 \\\\\n",
    "1\n",
    "\\end{bmatrix} = 0|00\\rangle + 0|01\\rangle + 0|10\\rangle + 1|11\\rangle\n",
    "$$\n",
    "\n",
    "The entangled state $\\frac{1}{\\sqrt{2}} (|00\\rangle + |11\\rangle)$:\n",
    "\n",
    "$$\n",
    "\\frac{1}{\\sqrt{2}} \\begin{bmatrix}\n",
    "1 \\\\\n",
    "0 \\\\\n",
    "0 \\\\\n",
    "1\n",
    "\\end{bmatrix} = \\frac{1}{\\sqrt{2}} (|00\\rangle + |11\\rangle)\n",
    "$$\n",
    "\n",
    "It is important to see that the 2-qubit is a single entity. Unlike classical bits where all bits are treating independently, the 2-qubit state can be entangled and the single qubits can not longer be described independently.\n",
    "\n",
    "Some 2-qubit states can be constructed from single qubits. For example, the $|11\\rangle$ state. This is achieved through the tensor product ($\\otimes$, i.e. Kronecker product). The tensor product is an essential tool for describing multi-qubit operations. To become familiar with it, I would recommend reading [this great blog post on the tensor product](https://www.math3ma.com/blog/the-tensor-product-demystified).\n",
    "\n",
    "$$\n",
    "|1\\rangle \\otimes |1\\rangle = \\begin{bmatrix}\n",
    "0 \\\\\n",
    "1\n",
    "\\end{bmatrix} \\otimes \\begin{bmatrix}\n",
    "0 \\\\\n",
    "1\n",
    "\\end{bmatrix} = \\begin{bmatrix}\n",
    "0 \\\\\n",
    "0 \\\\\n",
    "0 \\\\\n",
    "1\n",
    "\\end{bmatrix} = |11\\rangle\n",
    "$$"
   ]
  },
  {
   "cell_type": "code",
   "execution_count": 34,
   "metadata": {},
   "outputs": [
    {
     "data": {
      "text/plain": [
       "array([[0.+0.j, 0.+0.j, 0.+0.j, 1.+0.j]])"
      ]
     },
     "execution_count": 34,
     "metadata": {},
     "output_type": "execute_result"
    }
   ],
   "source": [
    "one_state = np.array([[0, 1]], dtype=complex)\n",
    "np.kron(one_state, one_state)"
   ]
  },
  {
   "cell_type": "markdown",
   "metadata": {},
   "source": [
    "Now notice the entangled state $\\frac{1}{\\sqrt{2}} (|00\\rangle + |11\\rangle)$. There is no way to construct this state from a tensor product of single qubits. This shows the qubits are not separable. Entangled states are not separable. Therefore, we can also not visualize the single qubits in the [bloch sphere](https://en.wikipedia.org/wiki/Bloch_sphere) anymore. We have to treat the 2-qubit state as a single thing. The $CX$ gate allows us to entangle qubits.\n",
    "\n",
    "Let's first look at the $CX$'s behavior on its own. We will flip the state $|10\\rangle$ to $|11\\rangle$:\n",
    "\n",
    "$$\n",
    "CX |10\\rangle = \\begin{bmatrix}\n",
    "1 & 0 & 0 & 0 \\\\\n",
    "0 & 1 & 0 & 0 \\\\\n",
    "0 & 0 & 0 & 1 \\\\\n",
    "0 & 0 & 1 & 0\n",
    "\\end{bmatrix} \\begin{bmatrix}\n",
    "0 \\\\\n",
    "0 \\\\\n",
    "1 \\\\\n",
    "0\n",
    "\\end{bmatrix} = \\begin{bmatrix}\n",
    "0 \\\\\n",
    "0 \\\\\n",
    "0 \\\\\n",
    "1\n",
    "\\end{bmatrix} = |11\\rangle\n",
    "$$"
   ]
  },
  {
   "cell_type": "code",
   "execution_count": 35,
   "metadata": {},
   "outputs": [
    {
     "data": {
      "text/plain": [
       "CX([[1.+0.j, 0.+0.j, 0.+0.j, 0.+0.j],\n",
       "    [0.+0.j, 1.+0.j, 0.+0.j, 0.+0.j],\n",
       "    [0.+0.j, 0.+0.j, 0.+0.j, 1.+0.j],\n",
       "    [0.+0.j, 0.+0.j, 1.+0.j, 0.+0.j]])"
      ]
     },
     "execution_count": 35,
     "metadata": {},
     "output_type": "execute_result"
    }
   ],
   "source": [
    "CX()"
   ]
  },
  {
   "cell_type": "markdown",
   "metadata": {},
   "source": [
    "The $CX$ gates acts on two qubits so its visualization in a diagram involves two qubits and has a connection between them."
   ]
  },
  {
   "cell_type": "code",
   "execution_count": 36,
   "metadata": {},
   "outputs": [
    {
     "data": {
      "image/png": "[encoded data removed]",
      "text/plain": [
       "<Figure size 203.683x200.667 with 1 Axes>"
      ]
     },
     "execution_count": 36,
     "metadata": {},
     "output_type": "execute_result"
    }
   ],
   "source": [
    "CX().draw(output=\"mpl\")"
   ]
  },
  {
   "cell_type": "code",
   "execution_count": 37,
   "metadata": {},
   "outputs": [
    {
     "data": {
      "text/plain": [
       "array([0.+0.j, 0.+0.j, 0.+0.j, 1.+0.j])"
      ]
     },
     "execution_count": 37,
     "metadata": {},
     "output_type": "execute_result"
    }
   ],
   "source": [
    "# |10> -> |11>\n",
    "one_zero_state = np.array([0, 0, 1, 0], dtype=complex)\n",
    "CX()(one_zero_state)"
   ]
  },
  {
   "cell_type": "markdown",
   "metadata": {},
   "source": [
    "The next notebook wil focus entirely on multi-qubit operations. With the CNOT gate in our toolbox we basically have the building blocks for constructing almost all sophisticated quantum algorithms. Complicated multi-qubit gates can often be constructed from a combination of Clifford gates."
   ]
  },
  {
   "cell_type": "markdown",
   "metadata": {},
   "source": [
    "It is possible to construct conditional gates that flip the $Y$ axis ($CY$ gate) or $Z$ ($CZ$ gate) axis. Direct use of these gates is much less common because they can also be easily constructed from a combination of $CNOT$ and Pauli gates. $CY$ and $CZ$ gates are technically also part of the Clifford group."
   ]
  },
  {
   "cell_type": "markdown",
   "metadata": {},
   "source": [
    "### Clifford Recap"
   ]
  },
  {
   "cell_type": "markdown",
   "metadata": {},
   "source": [
    "To recap, here is an overview of all the gates in the Clifford group:\n",
    "\n",
    "$$\n",
    "X = \\sigma_x = \\begin{bmatrix}\n",
    "0 & 1 \\\\\n",
    "1 & 0\n",
    "\\end{bmatrix},\n",
    "\\quad\n",
    "Y = \\sigma_y = \\begin{bmatrix}\n",
    "0 & -i \\\\\n",
    "i & 0\n",
    "\\end{bmatrix},\n",
    "\\quad\n",
    "Z = \\sigma_z = \\begin{bmatrix}\n",
    "1 & 0 \\\\\n",
    "0 & -1\n",
    "\\end{bmatrix},\n",
    "\\quad\n",
    "I = \\begin{bmatrix}\n",
    "1 & 0 \\\\\n",
    "0 & 1\n",
    "\\end{bmatrix}\n",
    "$$\n",
    "\n",
    "$$\n",
    "H = \\frac{1}{\\sqrt{2}} \\begin{bmatrix}\n",
    "1 & 1 \\\\\n",
    "1 & -1\n",
    "\\end{bmatrix}, \\quad\n",
    "S = \\begin{bmatrix}\n",
    "1 & 0 \\\\\n",
    "0 & i\n",
    "\\end{bmatrix}, \\quad\n",
    "CX = \\begin{bmatrix}\n",
    "1 & 0 & 0 & 0 \\\\\n",
    "0 & 1 & 0 & 0 \\\\\n",
    "0 & 0 & 0 & 1 \\\\\n",
    "0 & 0 & 1 & 0\n",
    "\\end{bmatrix}\n",
    "$$\n",
    "\n",
    "These gates are essential in quantum computing and are the most common gates used in quantum algorithms. However, this set cannot approximate any state. There is one odd duck that allows us complete freedom to approximate any state, this is the $T$ gate."
   ]
  },
  {
   "cell_type": "markdown",
   "metadata": {},
   "source": [
    "## $T$ Gate"
   ]
  },
  {
   "cell_type": "markdown",
   "metadata": {},
   "source": [
    "The $T$ gate is a **phase-shift gate** like the $Z$ and $S$ gate. It rotates the Z-axis by $\\frac{\\pi}{4}$. Confusingly, it is sometimes called the $\\pi/8$ gate for historical reasons, so if you see that in the literature, think $T$ gate.\n",
    "\n",
    "The $T$ gate can be described as follows:\n",
    "\n",
    "$$\n",
    "T = \\begin{bmatrix}\n",
    "1 & 0 \\\\\n",
    "0 & e^{i\\pi/4}\n",
    "\\end{bmatrix}\n",
    "$$\n",
    "\n",
    "This gate is very similar to the $S$ gate, especially if you are comfortable with imaginary numbers. The $T$ gate is equal to the square root of the $S$ gate.\n",
    "\n",
    "$$\n",
    "\\sqrt{S} = \\sqrt{\\begin{bmatrix}\n",
    "1 & 0 \\\\\n",
    "0 & i\n",
    "\\end{bmatrix}} = \\begin{bmatrix}\n",
    "1 & 0 \\\\\n",
    "0 & \\sqrt{i}\n",
    "\\end{bmatrix} = \\begin{bmatrix}\n",
    "1 & 0 \\\\\n",
    "0 & e^{i\\pi/4}\n",
    "\\end{bmatrix} = T\n",
    "$$"
   ]
  },
  {
   "cell_type": "code",
   "execution_count": 38,
   "metadata": {},
   "outputs": [
    {
     "data": {
      "text/plain": [
       "CustomQubitGate([[1.        +0.j        , 0.        +0.j        ],\n",
       "                 [0.        +0.j        , 0.70710678+0.70710678j]])"
      ]
     },
     "execution_count": 38,
     "metadata": {},
     "output_type": "execute_result"
    }
   ],
   "source": [
    "S().sqrt()"
   ]
  },
  {
   "cell_type": "code",
   "execution_count": 39,
   "metadata": {},
   "outputs": [
    {
     "data": {
      "text/plain": [
       "T([[1.        +0.j        , 0.        +0.j        ],\n",
       "   [0.        +0.j        , 0.70710678+0.70710678j]])"
      ]
     },
     "execution_count": 39,
     "metadata": {},
     "output_type": "execute_result"
    }
   ],
   "source": [
    "T()"
   ]
  },
  {
   "cell_type": "code",
   "execution_count": 40,
   "metadata": {},
   "outputs": [
    {
     "data": {
      "image/png": "[encoded data removed]",
      "text/plain": [
       "<Figure size 185.453x117.056 with 1 Axes>"
      ]
     },
     "execution_count": 40,
     "metadata": {},
     "output_type": "execute_result"
    }
   ],
   "source": [
    "T().draw(output=\"mpl\")"
   ]
  },
  {
   "cell_type": "code",
   "execution_count": 41,
   "metadata": {},
   "outputs": [
    {
     "data": {
      "text/plain": [
       "True"
      ]
     },
     "execution_count": 41,
     "metadata": {},
     "output_type": "execute_result"
    }
   ],
   "source": [
    "np.allclose(T(), S().sqrt())"
   ]
  },
  {
   "cell_type": "code",
   "execution_count": 42,
   "metadata": {},
   "outputs": [
    {
     "data": {
      "text/plain": [
       "array([0.70710678+0.j , 0.5       +0.5j])"
      ]
     },
     "execution_count": 42,
     "metadata": {},
     "output_type": "execute_result"
    }
   ],
   "source": [
    "T()([1/np.sqrt(2), \n",
    "     1/np.sqrt(2)])"
   ]
  },
  {
   "cell_type": "markdown",
   "metadata": {},
   "source": [
    "The $T$ gate combined with the $H$ can be used to approximate any single qubit state. Combined with the $CNOT$ gate, we can approximate any multi-qubit state. So why do we need the other gates? First, restricting ourselves to these gates will make our algorithms complicated to implement and some states would take many $T$ and $H$ gates to approximate. Second, the $T$ gate can be harder to control physically compared to simpler gates like the Pauli gates. For many real quantum computers, the $T$ gate is not available natively so has to be decomposed from simpler gates. \n",
    "\n",
    "To get more experience I would recommend checking out [this interactive Bloch sphere](https://gallery.fastht.ml/app/visualizations/bloch_sphere) I made. It allows you to explore the Clifford group and the $T$ gate for a single qubit. Note that $H$ and $T$ gate combinations allow you to get into states that is not possible with only the Clifford gates. "
   ]
  },
  {
   "cell_type": "markdown",
   "metadata": {},
   "source": [
    "# BONUS: Generalized Rotation"
   ]
  },
  {
   "cell_type": "markdown",
   "metadata": {},
   "source": [
    "It's important to reiterate that thinking about these gates as rotations is one of the most intuitive ways to understand them. We can formulate a general rotation gate to get to any state. These continuous rotation gates can be implemented on real quantum computers, but are generally harder to control compared to Clifford gates.\n",
    "\n",
    "A general rotation for a single qubit is a combination of $X$, $Y$ and $Z$ gates. Let's define a gate for each axis and then combine them into one gate. Rotation in quantum computing is generally defined in [radians](https://en.wikipedia.org/wiki/Radian).\n",
    "\n",
    "\n",
    "## $RX$ Gate"
   ]
  },
  {
   "cell_type": "markdown",
   "metadata": {},
   "source": [
    "$$R_X(\\theta) = \\begin{bmatrix}\n",
    "\\cos(\\frac{\\theta}{2}) & -i\\sin(\\frac{\\theta}{2}) \\\\\n",
    "-i\\sin(\\frac{\\theta}{2}) & \\cos(\\frac{\\theta}{2})\n",
    "\\end{bmatrix}$$\n",
    "\n",
    "\n",
    "$$RX(\\frac{\\pi}{2}) |0\\rangle = \\begin{bmatrix}\n",
    "\\cos(\\frac{\\pi}{4}) & -i\\sin(\\frac{\\pi}{4}) \\\\\n",
    "-i\\sin(\\frac{\\pi}{4}) & \\cos(\\frac{\\pi}{4})\n",
    "\\end{bmatrix} \\begin{bmatrix}\n",
    "1 \\\\\n",
    "0\n",
    "\\end{bmatrix} = \\begin{bmatrix}\n",
    "\\cos(\\frac{\\pi}{4}) \\\\\n",
    "-i\\sin(\\frac{\\pi}{4})\n",
    "\\end{bmatrix} = \\cos(\\frac{\\pi}{4}) |0\\rangle - i\\sin(\\frac{\\pi}{4}) |1\\rangle = \\frac{1}{\\sqrt{2}} (|0\\rangle - i|1\\rangle)$$\n"
   ]
  },
  {
   "cell_type": "code",
   "execution_count": 43,
   "metadata": {},
   "outputs": [
    {
     "data": {
      "text/plain": [
       "RX([[0.70710678+0.j        , 0.        -0.70710678j],\n",
       "    [0.        -0.70710678j, 0.70710678+0.j        ]])"
      ]
     },
     "execution_count": 43,
     "metadata": {},
     "output_type": "execute_result"
    }
   ],
   "source": [
    "RX(np.pi / 2)"
   ]
  },
  {
   "cell_type": "code",
   "execution_count": 44,
   "metadata": {},
   "outputs": [
    {
     "data": {
      "image/png": "[encoded data removed]",
      "text/plain": [
       "<Figure size 185.453x117.056 with 1 Axes>"
      ]
     },
     "execution_count": 44,
     "metadata": {},
     "output_type": "execute_result"
    }
   ],
   "source": [
    "RX(np.pi / 2).draw(output=\"mpl\")"
   ]
  },
  {
   "cell_type": "code",
   "execution_count": 45,
   "metadata": {},
   "outputs": [
    {
     "data": {
      "text/plain": [
       "RX([0.70710678+0.j        , 0.        -0.70710678j])"
      ]
     },
     "execution_count": 45,
     "metadata": {},
     "output_type": "execute_result"
    }
   ],
   "source": [
    "RX(np.pi / 2) @ zero_state"
   ]
  },
  {
   "cell_type": "markdown",
   "metadata": {},
   "source": [
    "The Pauli $X$ gate is a special case of the $RX$ gate when $\\theta = \\pi$. This requires us to understand the concept of [global phase](https://physics.stackexchange.com/questions/401523/global-phases-and-indistinguishable-quantum-states-mathematical-understanding). Note that if we multiply a gate by a scalar (single number), its effect on states is the same. Therefore, some gates are mathematically equivalent if they are proportional ($\\propto$) to each other. This is the trick we use to show the equivalence of $X$ gate and $RX(\\pi)$.\n",
    "\n",
    "$$RX(\\pi) |0\\rangle = \\begin{bmatrix}\n",
    "\\cos(\\frac{\\pi}{2}) & -i\\sin(\\frac{\\pi}{2}) \\\\\n",
    "-i\\sin(\\frac{\\pi}{2}) & \\cos(\\frac{\\pi}{2})\n",
    "\\end{bmatrix} = \\begin{bmatrix}\n",
    "0 & -i \\\\\n",
    "-i & 0\n",
    "\\end{bmatrix} \\propto \\begin{bmatrix}\n",
    "0 & 1 \\\\\n",
    "1 & 0\n",
    "\\end{bmatrix} = X$$\n",
    "\n",
    "The same holds for the Pauli $Y$ and $Z$ gates. $RY(\\pi) = Y$ and $RZ(\\pi) = Z$.\n"
   ]
  },
  {
   "cell_type": "markdown",
   "metadata": {},
   "source": [
    "## $RY$ Gate"
   ]
  },
  {
   "cell_type": "markdown",
   "metadata": {},
   "source": [
    "$$R_Y(\\theta) = \\begin{bmatrix}\n",
    "\\cos(\\frac{\\theta}{2}) & -\\sin(\\frac{\\theta}{2}) \\\\\n",
    "\\sin(\\frac{\\theta}{2}) & \\cos(\\frac{\\theta}{2})\n",
    "\\end{bmatrix}$$\n",
    "\n",
    "$$RY(\\frac{\\pi}{2}) |0\\rangle = \\begin{bmatrix}\n",
    "\\cos(\\frac{\\pi}{4}) & -\\sin(\\frac{\\pi}{4}) \\\\\n",
    "\\sin(\\frac{\\pi}{4}) & \\cos(\\frac{\\pi}{4})\n",
    "\\end{bmatrix} \\begin{bmatrix}\n",
    "1 \\\\\n",
    "0\n",
    "\\end{bmatrix} = \\begin{bmatrix}\n",
    "\\cos(\\frac{\\pi}{4}) \\\\\n",
    "\\sin(\\frac{\\pi}{4})\n",
    "\\end{bmatrix} = \\cos(\\frac{\\pi}{4}) |0\\rangle + \\sin(\\frac{\\pi}{4}) |1\\rangle = \\frac{1}{\\sqrt{2}} (|0\\rangle + |1\\rangle) = |+ \\rangle$$\n"
   ]
  },
  {
   "cell_type": "code",
   "execution_count": 46,
   "metadata": {},
   "outputs": [
    {
     "data": {
      "text/plain": [
       "RY([[ 0.70710678+0.j, -0.70710678+0.j],\n",
       "    [ 0.70710678+0.j,  0.70710678+0.j]])"
      ]
     },
     "execution_count": 46,
     "metadata": {},
     "output_type": "execute_result"
    }
   ],
   "source": [
    "RY(np.pi / 2)"
   ]
  },
  {
   "cell_type": "code",
   "execution_count": 47,
   "metadata": {},
   "outputs": [
    {
     "data": {
      "image/png": "[encoded data removed]",
      "text/plain": [
       "<Figure size 185.453x117.056 with 1 Axes>"
      ]
     },
     "execution_count": 47,
     "metadata": {},
     "output_type": "execute_result"
    }
   ],
   "source": [
    "RY(np.pi / 2).draw(output=\"mpl\")"
   ]
  },
  {
   "cell_type": "code",
   "execution_count": 48,
   "metadata": {},
   "outputs": [
    {
     "data": {
      "text/plain": [
       "RY([0.70710678+0.j, 0.70710678+0.j])"
      ]
     },
     "execution_count": 48,
     "metadata": {},
     "output_type": "execute_result"
    }
   ],
   "source": [
    "RY(np.pi / 2) @ zero_state"
   ]
  },
  {
   "cell_type": "markdown",
   "metadata": {},
   "source": [
    "Even though $RY$ and Hadamard $H$ are 2 entirely different operations, we can see that if we start with the zero state $|0\\rangle$, $H$ results in the same $|+ \\rangle$ state as $RY(\\pi/2)$. From other starting states they would be different."
   ]
  },
  {
   "cell_type": "markdown",
   "metadata": {},
   "source": [
    "## $RZ$ gate"
   ]
  },
  {
   "cell_type": "markdown",
   "metadata": {},
   "source": [
    "$$R_Z(\\theta) = \\begin{bmatrix}\n",
    "e^{-i\\frac{\\theta}{2}} & 0 \\\\\n",
    "0 & e^{i\\frac{\\theta}{2}}\n",
    "\\end{bmatrix}$$\n",
    "\n",
    "$$R_Z(\\frac{\\pi}{2}) |0\\rangle = \\begin{bmatrix}\n",
    "e^{-i\\frac{\\pi}{4}} & 0 \\\\\n",
    "0 & e^{i\\frac{\\pi}{4}}\n",
    "\\end{bmatrix} \\begin{bmatrix}\n",
    "1 \\\\\n",
    "0\n",
    "\\end{bmatrix} = \\begin{bmatrix}\n",
    "e^{-i\\frac{\\pi}{4}} \\\\\n",
    "0\n",
    "\\end{bmatrix} = e^{-i\\frac{\\pi}{4}} |0\\rangle$$\n"
   ]
  },
  {
   "cell_type": "code",
   "execution_count": 49,
   "metadata": {},
   "outputs": [
    {
     "data": {
      "text/plain": [
       "RZ([[0.70710678-0.70710678j, 0.        +0.j        ],\n",
       "    [0.        +0.j        , 0.70710678+0.70710678j]])"
      ]
     },
     "execution_count": 49,
     "metadata": {},
     "output_type": "execute_result"
    }
   ],
   "source": [
    "RZ(np.pi / 2)"
   ]
  },
  {
   "cell_type": "code",
   "execution_count": 50,
   "metadata": {},
   "outputs": [
    {
     "data": {
      "image/png": "[encoded data removed]",
      "text/plain": [
       "<Figure size 185.453x117.056 with 1 Axes>"
      ]
     },
     "execution_count": 50,
     "metadata": {},
     "output_type": "execute_result"
    }
   ],
   "source": [
    "RZ(np.pi / 2).draw(output=\"mpl\")"
   ]
  },
  {
   "cell_type": "code",
   "execution_count": 51,
   "metadata": {},
   "outputs": [
    {
     "data": {
      "text/plain": [
       "RZ([0.70710678-0.70710678j, 0.        +0.j        ])"
      ]
     },
     "execution_count": 51,
     "metadata": {},
     "output_type": "execute_result"
    }
   ],
   "source": [
    "RZ(np.pi / 2) @ zero_state"
   ]
  },
  {
   "cell_type": "markdown",
   "metadata": {},
   "source": [
    "## $R$ gate"
   ]
  },
  {
   "cell_type": "markdown",
   "metadata": {},
   "source": [
    "In quantum computing a general $R$ rotation is defined as a combination of $RZ$, $RY$ and $RZ$ gates. This allows us to rotate any state in any direction.\n",
    "\n",
    "$$R(\\theta, \\phi, \\lambda) |0\\rangle = R_Z(\\lambda) R_Y(\\phi) R_Z(\\theta) |0\\rangle$$\n",
    "\n",
    "For example, let's take $\\theta=\\phi=\\lambda=\\frac{\\pi}{2}$.\n"
   ]
  },
  {
   "cell_type": "code",
   "execution_count": 52,
   "metadata": {},
   "outputs": [
    {
     "data": {
      "text/plain": [
       "R([[ 1.11022302e-16-0.70710678j, -7.07106781e-01+0.j        ],\n",
       "   [ 7.07106781e-01+0.j        ,  1.11022302e-16+0.70710678j]])"
      ]
     },
     "execution_count": 52,
     "metadata": {},
     "output_type": "execute_result"
    }
   ],
   "source": [
    "R(np.pi / 2, np.pi / 2, np.pi / 2)"
   ]
  },
  {
   "cell_type": "code",
   "execution_count": 53,
   "metadata": {},
   "outputs": [
    {
     "data": {
      "image/png": "[encoded data removed]",
      "text/plain": [
       "<Figure size 269.064x117.056 with 1 Axes>"
      ]
     },
     "execution_count": 53,
     "metadata": {},
     "output_type": "execute_result"
    }
   ],
   "source": [
    "R(np.pi / 2, np.pi / 2, np.pi / 2).draw(output=\"mpl\")"
   ]
  },
  {
   "cell_type": "code",
   "execution_count": 54,
   "metadata": {},
   "outputs": [
    {
     "data": {
      "text/plain": [
       "R([0.   -0.707j, 0.707+0.j   ])"
      ]
     },
     "execution_count": 54,
     "metadata": {},
     "output_type": "execute_result"
    }
   ],
   "source": [
    "(R(np.pi / 2, np.pi / 2, np.pi / 2) @ zero_state).round(3)"
   ]
  },
  {
   "cell_type": "markdown",
   "metadata": {},
   "source": [
    "$$\n",
    "R_3\\left(\\frac{\\pi}{2}, \\frac{\\pi}{2}, \\frac{\\pi}{2}\\right) |0\\rangle =\n",
    "R_Z\\left(\\frac{\\pi}{2}\\right)\n",
    "R_Y\\left(\\frac{\\pi}{2}\\right)\n",
    "R_Z\\left(\\frac{\\pi}{2}\\right) |0\\rangle = \\frac{1}{\\sqrt{2}} (-i|0\\rangle + |1\\rangle).\n",
    "$$"
   ]
  },
  {
   "cell_type": "markdown",
   "metadata": {},
   "source": [
    "This gives you a solid background on quantum gates and how they work on quantum states. We also looked at a simple way to represent quantum logic gates in NumPy. In the next lesson we will explore gates for multiple qubits and finally implement real quantum algorithms for multiple qubits. We will work with the [skq](https://github.com/CarloLepelaars/skq) so we have all these gates available and build arbitrary quantum circuits. `skq` will also help us to convert these circuits to other popular frameworks so we can run our quantum algorithms on real quantum computers.\n",
    "\n",
    "Continue with the next lesson:\n",
    "- [On Github](https://github.com/CarloLepelaars/q4p/blob/main/nbs/03-multi.ipynb)\n",
    "- [On Kaggle](https://www.kaggle.com/code/carlolepelaars/q4p-3-multi-qubit-gates-and-algorithms)"
   ]
  },
  {
   "cell_type": "markdown",
   "metadata": {},
   "source": [
    "-------------------------------------------------\n",
    "\n",
    "This notebook is part of the [q4p (Quantum Computing for Programmers) series](https://github.com/CarloLepelaars/q4p). The original notebook can be found on [Github](https://github.com/CarloLepelaars/q4p/blob/main/nbs/02-gates.ipynb).\n",
    "\n",
    "-------------------------------------------------"
   ]
  }
 ],
 "metadata": {
  "kernelspec": {
   "display_name": "q",
   "language": "python",
   "name": "python3"
  },
  "language_info": {
   "codemirror_mode": {
    "name": "ipython",
    "version": 3
   },
   "file_extension": ".py",
   "mimetype": "text/x-python",
   "name": "python",
   "nbconvert_exporter": "python",
   "pygments_lexer": "ipython3",
   "version": "3.12.4"
  }
 },
 "nbformat": 4,
 "nbformat_minor": 2
}
