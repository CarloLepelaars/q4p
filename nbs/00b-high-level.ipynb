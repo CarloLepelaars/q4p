{
 "cells": [
  {
   "cell_type": "markdown",
   "metadata": {},
   "source": [
    "# Work in progress (WIP)"
   ]
  },
  {
   "cell_type": "markdown",
   "metadata": {},
   "source": [
    "# 00b. Guessing the number of marbles in a vase\n",
    "\n",
    "This notebook intends to give you a high-level overview of a practical problem where we can gain an advantage over classical algorithms using a quantum algorithm.\n",
    "\n",
    "\n",
    "Imagine your friend has a vase with marbles hidden inside a closet. You can have unlimited guesses. Each time you guess you friend will tell you if it is the right answer or not.\n",
    "\n",
    "Classically you would start going through all the options. $0, 1, 2,$ etc. You will end up guessing $n$ times, where $n$ is the number of marbles in the vase. What if I told you that with a quantum algorithm we can guess the number of marbles with only $\\sqrt{n}$ guesses? That is if your friend is part of the quantum algorithm.\n",
    "\n",
    "\n",
    "\n",
    "\n",
    "\n"
   ]
  },
  {
   "cell_type": "markdown",
   "metadata": {},
   "source": [
    "We can achieve this speedup by implementing **Grover's algorithm**. where your friend functions as a **phase oracle**."
   ]
  },
  {
   "cell_type": "markdown",
   "metadata": {},
   "source": [
    "# TODO Use skq Grover out of the box to find target_state"
   ]
  },
  {
   "cell_type": "markdown",
   "metadata": {},
   "source": [
    "# Work in progress (WIP)"
   ]
  },
  {
   "cell_type": "markdown",
   "metadata": {},
   "source": [
    "# Work in progress (WIP)"
   ]
  },
  {
   "cell_type": "markdown",
   "metadata": {},
   "source": []
  }
 ],
 "metadata": {
  "language_info": {
   "name": "python"
  }
 },
 "nbformat": 4,
 "nbformat_minor": 2
}
