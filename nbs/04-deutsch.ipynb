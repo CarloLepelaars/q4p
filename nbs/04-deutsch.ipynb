{
 "cells": [
  {
   "cell_type": "markdown",
   "metadata": {},
   "source": [
    "-------------------------------------------------\n",
    "\n",
    "\n",
    "This notebook is part of the [q4p (Quantum Computing for Programmers) series](https://github.com/CarloLepelaars/q4p). The original notebook can be found on [Github](https://github.com/CarloLepelaars/q4p/blob/main/nbs/04-deutsch.ipynb).\n",
    "\n",
    "-------------------------------------------------"
   ]
  },
  {
   "cell_type": "markdown",
   "metadata": {},
   "source": [
    "# 4. Deutsch-Josza\n",
    "\n",
    "In this lesson you will learn:\n",
    "- **Query algorithms**\n",
    "- Deutsch's algorithm, which provides a clear quantum advantage on determining if a function is constant or balanced.\n",
    "- The **Deutsch-Josza algorithm**, which generalizes Deutsch's algorithm to multiple qubits.\n",
    "- **BONUS: Bernstein-Vazirani**"
   ]
  },
  {
   "cell_type": "markdown",
   "metadata": {},
   "source": [
    "Deutsch's algorithm is an essential algorithm to understand advantages of quantum computing. It leverages **superposition** and **interference** to evaluate if a function is constant or balanced in one pass. Classical algorithms require multiple passes to determine this. This is achieved through a phenomenon called **phase kickback**. Deutsch's algorithm is the simplest case that can be implemented with 1 qubit and evaluate a binary function ($f: \\{0,1\\} \\rightarrow \\{0,1\\}$). The Deutsch-Josza algorithm generalizes this to multiple qubits ($f: \\{0,1\\}^n \\rightarrow \\{0,1\\}$).\n",
    "\n",
    "Deutsch's algorithm is an example of **query algorithms**. These are algorithms where a **black box** function $f$ is integrated in the quantum circuit and used to evaluate that function. We will see this query model in many quantum algorithms with quantum advantage, like **Grover's algorithm** and **Shor's algorithm**.\n",
    "\n"
   ]
  },
  {
   "cell_type": "markdown",
   "metadata": {},
   "source": [
    "## Deutsch's algorithm"
   ]
  },
  {
   "cell_type": "markdown",
   "metadata": {},
   "source": [
    "Deutsch's algorithm is take in a binary function $f$ and determine if it is **constant** or **balanced**.\n",
    "\n",
    "**Constant** means that the function always return the same values, for the binary input $0$ and $1$ this means that $f(0) = f(1)$. A different way to think about this is that $f(x) = 0$ or $f(x) = 1$ for all $x$.\n",
    "\n",
    "**Balanced** means that different inputs give different values with a 50/50 distribution. For the binary input $0$ and $1$ this means that $f(0) \\neq f(1)$. Examples of balanced functions are a bit flip or the identity function.\n",
    "\n",
    "Measuring the first qubit as $|0\\rangle$ indicates a constant function. \n",
    "\n",
    "Measuring the first qubit as $|1\\rangle$ indicates a balanced function.\n",
    "\n",
    "The function $f$ is integrated in the quantum circuit. Around $f$ we place $H$ gates to put the qubit in superposition and get quantum interference effects. We will use the `DeutschOracle` from `skq`.\n"
   ]
  },
  {
   "cell_type": "code",
   "execution_count": 1,
   "metadata": {},
   "outputs": [],
   "source": [
    "# skq is used to construct and convert quantum circuits\n",
    "!pip install -Uqq skq"
   ]
  },
  {
   "cell_type": "code",
   "execution_count": 2,
   "metadata": {},
   "outputs": [],
   "source": [
    "import numpy as np\n",
    "\n",
    "from skq.gates.qubit import H, X, I, Measure, DeutschOracle, DeutschJozsaOracle, QubitGate\n",
    "from skq.circuits import Concat, Circuit"
   ]
  },
  {
   "cell_type": "code",
   "execution_count": 3,
   "metadata": {},
   "outputs": [],
   "source": [
    "def deutsch_circuit(f) -> Circuit:\n",
    "    \"\"\" \n",
    "    Deutsch's algorithm\n",
    "    :param f: Binary function that maps a single bit to a single bit.\n",
    "    :return: skq Circuit that implements Deutsch's algorithm.\n",
    "    \"\"\"\n",
    "    return Circuit([\n",
    "    # Prepare 2nd qubit in |1⟩ state\n",
    "    Concat([I(), X()]),\n",
    "    # Put qubits in superposition to leverage interference\n",
    "    Concat([H(), H()]),\n",
    "    # Apply oracle to get phase kickback\n",
    "    DeutschOracle(f),\n",
    "    Concat([H(), I()]),\n",
    "    Measure()\n",
    "])\n",
    "\n",
    "def deutsch_balanced_func(x):\n",
    "        \"\"\"f(0)=0, f(1)=1\"\"\"\n",
    "        return x\n",
    "\n",
    "def deutsch_constant_func(x):\n",
    "        \"\"\"Always 0: f(0)=0, f(1)=0\"\"\"\n",
    "        return 0"
   ]
  },
  {
   "cell_type": "code",
   "execution_count": 4,
   "metadata": {},
   "outputs": [
    {
     "name": "stdout",
     "output_type": "stream",
     "text": [
      "No to_qiskit defined for 'DeutschOracle'. Initializing as UnitaryGate.\n"
     ]
    },
    {
     "data": {
      "image/png": "[encoded data removed]",
      "text/plain": [
       "<Figure size 705.35x284.278 with 1 Axes>"
      ]
     },
     "execution_count": 4,
     "metadata": {},
     "output_type": "execute_result"
    }
   ],
   "source": [
    "deutsch_balanced_circuit = deutsch_circuit(deutsch_balanced_func)\n",
    "deutsch_balanced_circuit.draw(output='mpl')"
   ]
  },
  {
   "cell_type": "markdown",
   "metadata": {},
   "source": [
    "`DeutschOracle` ($U_f$) here now represents a balanced function. For this oracle we expect to see a **phase kickback** effect. This is an interference effect which features a phase flip of first qubit. Think of `DeutschOracle` as a controlled gates with the first qubit as control qubit and the second qubit as target qubit. Because both qubits are in superposition, we get an effect where the second qubit remains unchanged, while the first qubit is flipped if the function that the oracle represents is balanced. This is called **destructive interference**. The second qubit in this circuit is called an **ancilla qubit**. This is the case because we only use it for the oracle. After the we can discard it, because we only need to measure the first qubit to determine if a function is balanced.\n",
    "\n",
    "We start out the system in the state $|00\\rangle$ and apply an $X$ gate on the second qubit to get $|01\\rangle$:\n",
    "\n",
    "$$\n",
    "\\psi_0 = |00\\rangle\n",
    "$$\n",
    "\n",
    "\n",
    "$$\n",
    "\\psi_1 = |01\\rangle\n",
    "$$\n",
    "\n",
    "Then apply the $H$ gate on both qubits to get:\n",
    "\n",
    "$$\n",
    "\\psi_2 = H|01\\rangle = |+-\\rangle = \\frac{1}{\\sqrt{2}}(|0\\rangle + |1\\rangle) |-\\rangle = \\frac{1}{2}(|00\\rangle - |01\\rangle + |10\\rangle - |11\\rangle)\n",
    "$$\n",
    "\n",
    "This intermediate state results in an equal $25\\%$ probability between $|00\\rangle$, $|01\\rangle$, $|10\\rangle$, and $|11\\rangle$.\n",
    "\n",
    "\n",
    "Note that the encoded `DeutschOracle` for a balanced function is the same as a $CX$ gate."
   ]
  },
  {
   "cell_type": "code",
   "execution_count": 5,
   "metadata": {},
   "outputs": [
    {
     "data": {
      "text/plain": [
       "DeutschOracle([[1.+0.j, 0.+0.j, 0.+0.j, 0.+0.j],\n",
       "               [0.+0.j, 1.+0.j, 0.+0.j, 0.+0.j],\n",
       "               [0.+0.j, 0.+0.j, 0.+0.j, 1.+0.j],\n",
       "               [0.+0.j, 0.+0.j, 1.+0.j, 0.+0.j]])"
      ]
     },
     "execution_count": 5,
     "metadata": {},
     "output_type": "execute_result"
    }
   ],
   "source": [
    "deutsch_balanced_circuit[2]"
   ]
  },
  {
   "cell_type": "markdown",
   "metadata": {},
   "source": [
    "By applying this oracle we get the phase kickback effect. We denote the `DeutschOracle` by $U_f$ to represent its black box nature:\n",
    "\n",
    "$$\n",
    "|\\psi_3\\rangle = U_f |+-\\rangle =  \\frac{1}{\\sqrt{2}}(|0\\rangle |-\\rangle + |1\\rangle|-\\rangle) = \\frac{1}{\\sqrt{2}} (U_f|0\\rangle |-\\rangle + U_f|1\\rangle|-\\rangle)\n",
    "$$\n",
    "\n",
    "$$\n",
    "= \\frac{1}{\\sqrt{2}} (-1)^{f(0)}|0\\rangle |-\\rangle + (-1)^{f(1)}|1\\rangle|-\\rangle)\n",
    "$$"
   ]
  },
  {
   "cell_type": "markdown",
   "metadata": {},
   "source": [
    "Don't worry if the derivation is not entirely clear. Note that this quantum state evaluates $f(0)$ and $f(1)$ at the same time. For our balanced function its the case that $f(0) \\neq f(1)$. After the oracle we can discard the second qubit, so consider only the first qubit from here\"\n",
    "\n",
    "$$\n",
    "|\\psi_{3 f(0) \\neq f(1)}\\rangle = \\frac{1}{\\sqrt{2}} (|0\\rangle- |1\\rangle) = |-\\rangle\n",
    "$$\n",
    "\n",
    "The last quantum gate we apply is $H$ on the first qubit.\n",
    "\n",
    "$$\n",
    "|\\psi_{4}\\rangle = H|-\\rangle = H\\frac{1}{\\sqrt{2}}(|0\\rangle - |1\\rangle) = |1\\rangle\n",
    "$$\n",
    "\n",
    "\n",
    "\n"
   ]
  },
  {
   "cell_type": "code",
   "execution_count": 6,
   "metadata": {},
   "outputs": [
    {
     "data": {
      "text/plain": [
       "array([0. , 0. , 0.5, 0.5])"
      ]
     },
     "execution_count": 6,
     "metadata": {},
     "output_type": "execute_result"
    }
   ],
   "source": [
    "deutsch_balanced_circuit([1, 0, 0, 0]).round(3)"
   ]
  },
  {
   "cell_type": "markdown",
   "metadata": {},
   "source": [
    "The result is $|10\\rangle$ or $|11\\rangle$ with equal probability. The first qubit is $1$ so we can conclude that the function is balanced. Note that the second qubit starting in the $|1\\rangle$ state, but now is in a superposition state. This is a feature of the phase kickback effect.\n",
    "\n",
    "A classical algorithm would require two passes, because it would need to verify both input $0$ and $1$ to determine if the function is balanced. The quantum algorithm only requires one pass to get the correct answer with $100\\%$ certainty, given that there is no noise in the quantum system. This is a clear demonstration of quantum advantage even if the use cases of Deutsch's algorithm are limited. We will see later that this phenomenon of phase kickback can become powerful as it is used in **Shor's algorithm** to break encryption by factoring large numbers."
   ]
  },
  {
   "cell_type": "markdown",
   "metadata": {},
   "source": [
    "Now let's look at the case for a constant function."
   ]
  },
  {
   "cell_type": "code",
   "execution_count": 7,
   "metadata": {},
   "outputs": [
    {
     "name": "stdout",
     "output_type": "stream",
     "text": [
      "No to_qiskit defined for 'DeutschOracle'. Initializing as UnitaryGate.\n"
     ]
    },
    {
     "data": {
      "image/png": "[encoded data removed]",
      "text/plain": [
       "<Figure size 705.35x284.278 with 1 Axes>"
      ]
     },
     "execution_count": 7,
     "metadata": {},
     "output_type": "execute_result"
    }
   ],
   "source": [
    "deutsch_constant_circuit = deutsch_circuit(deutsch_constant_func)\n",
    "deutsch_constant_circuit.draw(output='mpl')"
   ]
  },
  {
   "cell_type": "markdown",
   "metadata": {},
   "source": [
    "If we look at the encoded matrix of our oracle for a constant function, we see that it is the identity gate $I$ on two qubits."
   ]
  },
  {
   "cell_type": "code",
   "execution_count": 8,
   "metadata": {},
   "outputs": [
    {
     "data": {
      "text/plain": [
       "DeutschOracle([[1.+0.j, 0.+0.j, 0.+0.j, 0.+0.j],\n",
       "               [0.+0.j, 1.+0.j, 0.+0.j, 0.+0.j],\n",
       "               [0.+0.j, 0.+0.j, 1.+0.j, 0.+0.j],\n",
       "               [0.+0.j, 0.+0.j, 0.+0.j, 1.+0.j]])"
      ]
     },
     "execution_count": 8,
     "metadata": {},
     "output_type": "execute_result"
    }
   ],
   "source": [
    "# Deutsch Oracle for constant function is the same as the identity gate I.\n",
    "deutsch_constant_circuit[2]"
   ]
  },
  {
   "cell_type": "code",
   "execution_count": 9,
   "metadata": {},
   "outputs": [
    {
     "data": {
      "text/plain": [
       "array([0.5, 0.5, 0. , 0. ])"
      ]
     },
     "execution_count": 9,
     "metadata": {},
     "output_type": "execute_result"
    }
   ],
   "source": [
    "deutsch_constant_circuit([1, 0, 0, 0]).round(3)"
   ]
  },
  {
   "cell_type": "markdown",
   "metadata": {},
   "source": [
    "The result is $|00⟩$ or $|01⟩$ with equal probability. The first qubit is $0$ so we can conclude that the function is constant. \n",
    "\n",
    "Note that we don't need to know the function $f$ to determine if it is constant or balanced. We only need to have the ability to query the oracle in our circuit. A classical analogy would be having access to an API somewhere on the Internet. We can query the API with different inputs and evaluate the output.\n",
    "\n",
    "You might be curious how the actual oracle is structured."
   ]
  },
  {
   "cell_type": "markdown",
   "metadata": {},
   "source": [
    "## Deutsch-Josza algorithm"
   ]
  },
  {
   "cell_type": "markdown",
   "metadata": {},
   "source": [
    "The **Deutsch-Josza algorithm** is very similar to Deutsch's algorithm. The same phase kickback phenomenon is now applied to multiple qubits. Again we apply $H$ gates on every qubit before and after the oracle to get a quantum superposition and leverage interference effects. Note that as we generalize to function with multiple qubits it becomes possible to encounter function that are neither constant nor balanced. For example where 25% of the inputs return $0$ and 75% return $1$. For this algorithm to work we need to make sure that our function $f$ is either constant or balanced, else the algorithm will give unpredictable results. This necessity is called the **promise**. **Deutsch-Josza** is therefore a **promise problem**. In code this **promise** is achieved with an `assert` statement.\n",
    "\n",
    "Here is the formal definition of a balanced and constant function for **Deutsch-Josza** on $n$ qubits:\n",
    "\n",
    "- Balanced function: $f(x_1, \\ldots, x_n) = 1$ for exactly $2^{n-1}$ inputs and $f(x_1, \\ldots, x_n) = 0$ for the remaining $2^{n-1}$ inputs.\n",
    "- Constant function: $f(x_1, \\ldots, x_n) = 0$ for all inputs or $f(x_1, \\ldots, x_n) = 1$ for all inputs.\n",
    "\n",
    "Here the quantum advantage becomes more clear compared to Deutsch's algorithm. A deterministic classical algorithm requires $2^{n-1} + 1$ queries to determine if the function is constant or balanced. A probabilistic classical algorithm still requires a few queries. The Deutsch-Josza algorithm requires only $1$ query."
   ]
  },
  {
   "cell_type": "code",
   "execution_count": 10,
   "metadata": {},
   "outputs": [],
   "source": [
    "def deutsch_josza_circuit(f, n_bits: int) -> Circuit:\n",
    "    \"\"\"\n",
    "    Deutsch-Josza algorithm\n",
    "    :param f: Binary function that maps a single bit to a single bit.\n",
    "    :return: skq Circuit that implements Deutsch-Josza algorithm.\n",
    "    \"\"\"\n",
    "    return Circuit([\n",
    "        Concat([I() for _ in range(n_bits-1)] + [X()]),\n",
    "        Concat([H() for _ in range(n_bits)]),\n",
    "        DeutschJozsaOracle(f, n_bits=n_bits),\n",
    "        Concat([H() for _ in range(n_bits)]),\n",
    "        Measure()\n",
    "    ])\n",
    "\n",
    "def deutsch_josza_balanced_function(x):\n",
    "    \"\"\"Balanced function: f(0)=0, f(1)=0, f(2)=0, f(3)=0, \n",
    "                          f(4)=0, f(5)=0, f(6)=0, f(7)=0,\n",
    "                          f(8)=1, f(9)=1, f(10)=1, f(11)=1,\n",
    "                          f(12)=1, f(13)=1, f(14)=1, f(15)=1\"\"\"\n",
    "    return 1 if x >= 8 else 0  # Half of the states are 1\n",
    "\n",
    "def deutsch_josza_constant_function(x):\n",
    "    \"\"\"f(x) = 0 for all x\"\"\"\n",
    "    return 0  # Always 0"
   ]
  },
  {
   "cell_type": "code",
   "execution_count": 11,
   "metadata": {},
   "outputs": [
    {
     "data": {
      "image/png": "[encoded data removed]",
      "text/plain": [
       "<Figure size 1040x451.5 with 1 Axes>"
      ]
     },
     "execution_count": 11,
     "metadata": {},
     "output_type": "execute_result"
    }
   ],
   "source": [
    "n_qubits = 4\n",
    "balanced_deutsch_josza_circuit = deutsch_josza_circuit(deutsch_josza_balanced_function, n_qubits)\n",
    "balanced_deutsch_josza_circuit.draw(output='mpl')"
   ]
  },
  {
   "cell_type": "markdown",
   "metadata": {},
   "source": [
    "If the function is balanced the oracle will represent a $CCCZ$ gate, a controlled Z gate with $3$ control qubits and $1$ target qubit, so the qubits are entangled in the oracle. Apart from this the structure of the Deutsch and Deutsch-Josza algorithms are the same. Even though we work with multiple qubits and measure them, we only need to look at the first qubit to determine if the function is constant or balanced. For 4 qubits the balanced function should give a result of $|1000⟩$ and a constant function $|0000⟩$.\n",
    "\n",
    "In query algorithms like Deutsch-Josza we always initialize the qubits in the zero state. For 4 qubits this is $|0000⟩$."
   ]
  },
  {
   "cell_type": "code",
   "execution_count": 12,
   "metadata": {},
   "outputs": [],
   "source": [
    "four_qubit_zero_state = [1] + [0]*(2**n_qubits-1)"
   ]
  },
  {
   "cell_type": "code",
   "execution_count": 13,
   "metadata": {},
   "outputs": [
    {
     "data": {
      "text/plain": [
       "array([0., 0., 0., 0., 0., 0., 0., 0., 0., 1., 0., 0., 0., 0., 0., 0.])"
      ]
     },
     "execution_count": 13,
     "metadata": {},
     "output_type": "execute_result"
    }
   ],
   "source": [
    "balanced_deutsch_josza_circuit(four_qubit_zero_state).round(3)"
   ]
  },
  {
   "cell_type": "markdown",
   "metadata": {},
   "source": [
    "The resulting statevector represents $|1001⟩$. The first qubit is $1$, so the function is balanced. \n",
    "\n",
    "For the constant function the output should be $|0001⟩$."
   ]
  },
  {
   "cell_type": "code",
   "execution_count": 14,
   "metadata": {},
   "outputs": [
    {
     "data": {
      "image/png": "[encoded data removed]",
      "text/plain": [
       "<Figure size 1040x451.5 with 1 Axes>"
      ]
     },
     "execution_count": 14,
     "metadata": {},
     "output_type": "execute_result"
    }
   ],
   "source": [
    "constant_deutsch_josza_circuit = deutsch_josza_circuit(deutsch_josza_constant_function, n_qubits)\n",
    "constant_deutsch_josza_circuit.draw(output='mpl')"
   ]
  },
  {
   "cell_type": "code",
   "execution_count": 15,
   "metadata": {},
   "outputs": [
    {
     "data": {
      "text/plain": [
       "array([0., 1., 0., 0., 0., 0., 0., 0., 0., 0., 0., 0., 0., 0., 0., 0.])"
      ]
     },
     "execution_count": 15,
     "metadata": {},
     "output_type": "execute_result"
    }
   ],
   "source": [
    "constant_deutsch_josza_circuit(four_qubit_zero_state).round(3)"
   ]
  },
  {
   "cell_type": "markdown",
   "metadata": {},
   "source": [
    "The resulting statevector represents $|0001⟩$. The first qubit is $0$, so the function is constant.\n",
    "\n",
    "Don't worry if the idea of an oracle still sounds a bit abstract. In this notebook we have focused on understanding and analyzing the algorithms to simulate an oracle on a classical computer. In real quantum systems the oracle is a black box, for which we don't know the exact mechanics. Over time you will become more comfortable with the query algorithm model and discover why it is powerful to develop quantum algorithms in this way. \n",
    "\n",
    "Next we will apply the query model to achieve a quadratic speedup in unstructured search problems. This algorithm is called **Grover's algorithm**. Later we will discover how to achieve near exponential speedups to break encryption by factoring large numbers through **Shor's algorithm**."
   ]
  },
  {
   "cell_type": "markdown",
   "metadata": {},
   "source": [
    "# BONUS: Bernstein-Vazirani"
   ]
  },
  {
   "cell_type": "markdown",
   "metadata": {},
   "source": [
    "The Deutsch-Josza algorithm can be used to solve multiple problems in quantum computing. Not only can it be used to determine if a function is constant or balanced, but it can also solve the **Bernstein-Vazirani** problem. The only difference is that the oracle for Bernstein-Vazirani encodes a bitstring instead of a function.\n",
    "\n",
    "There is [an excellent blog post on Bernstein-Vazirani](https://medium.com/quantum-untangled/the-bernstein-vazirani-algorithm-quantum-algorithms-untangled-67e58d4a5096) that explains the problem in detail. Your knowledge of Deutsch-Josza from this notebook will help you to understand this blog post.\n",
    "\n",
    "Continue with the next lesson:\n",
    "- [On Github](https://github.com/CarloLepelaars/q4p/blob/main/nbs/05-grover.ipynb)\n",
    "- [On Kaggle](https://www.kaggle.com/code/carlolepelaars/q4p-5-grover-s-algorithm)"
   ]
  },
  {
   "cell_type": "markdown",
   "metadata": {},
   "source": [
    "-------------------------------------------------\n",
    "\n",
    "This notebook is part of the [q4p (Quantum Computing for Programmers) series](https://github.com/CarloLepelaars/q4p). The original notebook can be found on [Github](https://github.com/CarloLepelaars/q4p/blob/main/nbs/04-deutsch.ipynb).\n",
    "\n",
    "-------------------------------------------------"
   ]
  }
 ],
 "metadata": {
  "kernelspec": {
   "display_name": "q",
   "language": "python",
   "name": "python3"
  },
  "language_info": {
   "codemirror_mode": {
    "name": "ipython",
    "version": 3
   },
   "file_extension": ".py",
   "mimetype": "text/x-python",
   "name": "python",
   "nbconvert_exporter": "python",
   "pygments_lexer": "ipython3",
   "version": "3.12.4"
  }
 },
 "nbformat": 4,
 "nbformat_minor": 2
}
