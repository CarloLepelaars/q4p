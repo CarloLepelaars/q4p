{
 "cells": [
  {
   "cell_type": "markdown",
   "metadata": {},
   "source": [
    "# Work in progress (WIP)"
   ]
  },
  {
   "cell_type": "markdown",
   "metadata": {},
   "source": [
    "# 4. Deutsch's algorithm"
   ]
  },
  {
   "cell_type": "code",
   "execution_count": null,
   "metadata": {},
   "outputs": [],
   "source": [
    "# Specific install for Kaggle Notebooks environment\n",
    "import os\n",
    "iskaggle = os.environ.get('KAGGLE_KERNEL_RUN_TYPE', '')\n",
    "\n",
    "# Kaleido is used to convert Plotly to static png\n",
    "!pip install -Uqq kaleido\n",
    "!pip install -Uqq skq"
   ]
  },
  {
   "cell_type": "markdown",
   "metadata": {},
   "source": [
    "# Work in progress (WIP)"
   ]
  },
  {
   "cell_type": "markdown",
   "metadata": {},
   "source": [
    "- One of the simplest algorithms exhibiting quantum advantage.\n",
    "\n",
    "- Solves the parity problem in one pass, as opposed to classical algorithms that require at least two passes. The outcome is either constant or balanced.\n",
    "- One of the query algorithms along with **Deutsch-Josza**, **Grover** and **Shor** algorithms.\n",
    "- Phase kickback.\n",
    "\n",
    "\n",
    "$$ U_f \\vert x \\rangle \\vert y \\rangle = \\vert x \\rangle \\vert y \\oplus f(x) \\rangle $$\n",
    "\n",
    "- $0$ if $f$ is constant. $1$ if $f$ is balanced.\n",
    "\n",
    "- Balanced means $f(0) \\neq f(1)$. Constant means $f(0) = f(1)$.\n",
    "\n",
    "- No entanglement required.\n",
    "\n",
    "- Gates are Hadamard and a custom Unitary function (black-box) operator."
   ]
  },
  {
   "cell_type": "markdown",
   "metadata": {},
   "source": [
    "# Work in progress (WIP)"
   ]
  },
  {
   "cell_type": "markdown",
   "metadata": {},
   "source": [
    "## Deutsch"
   ]
  },
  {
   "cell_type": "markdown",
   "metadata": {},
   "source": [
    "## Deutsch-Josza"
   ]
  },
  {
   "cell_type": "markdown",
   "metadata": {},
   "source": [
    "- Very similar to Deutsch's algorithm.\n",
    "- Extends Deutsch's algorithm to $n \\geq 1$ bits.\n",
    "\n",
    "- $U_f$ has a so-called promise. This means that we have to make sure that the function $f$ is either constant or balanced, else the algorithm will not work and will give unpredictable results. \n",
    "\n",
    "- Balanced function: $f(x_1, \\ldots, x_n) = 1$ for exactly $2^{n-1}$ inputs and $f(x_1, \\ldots, x_n) = 0$ for the remaining $2^{n-1}$ inputs.\n",
    "- Constant function: $f(x_1, \\ldots, x_n) = 0$ for all inputs or $f(x_1, \\ldots, x_n) = 1$ for all inputs.\n",
    "\n",
    "- Deterministic classical algorithm requires $2^{n-1} + 1$ queries to determine if the function is constant or balanced. \n",
    "\n",
    "- A probabilistic classical algorithm requires a few queries.\n",
    "\n",
    "1. Choose $k$ input strings $x_1, \\ldots, x_k$ at random.\n",
    "2. If $f(x_i) = 1$ for all $i = 1, \\ldots, k$, then output constant, else balanced. If $f$ is constant algorithm is 100% correct. if $f$ is balanced, the algorithm is correct with probability $1 - 2^{-k+1}$.\n",
    "\n",
    "- Deutsch-Josza algorithm requires only $1$ query.\n",
    "\n",
    "- The same Deutsch-Josza algorithm can also solve the **Bernstein-Vazirani** problem. A recursive version of Bernstein-Vazirani was one of the first algorithms that gain a superpolynomial advantage over classical algorithms.\n",
    "\n",
    "# TODO Show both Deutsch-Josza and probabilistic classical algorithm.\n",
    "\n"
   ]
  },
  {
   "cell_type": "code",
   "execution_count": null,
   "metadata": {},
   "outputs": [],
   "source": []
  },
  {
   "cell_type": "markdown",
   "metadata": {},
   "source": [
    "# Work In Progress (WIP)"
   ]
  }
 ],
 "metadata": {
  "kernelspec": {
   "display_name": "q",
   "language": "python",
   "name": "python3"
  },
  "language_info": {
   "name": "python",
   "version": "3.12.4"
  }
 },
 "nbformat": 4,
 "nbformat_minor": 2
}
