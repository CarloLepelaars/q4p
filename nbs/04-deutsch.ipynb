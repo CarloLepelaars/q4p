{
 "cells": [
  {
   "cell_type": "markdown",
   "metadata": {},
   "source": [
    "# Work in progress (WIP)"
   ]
  },
  {
   "cell_type": "markdown",
   "metadata": {},
   "source": [
    "# 4. Deutsch's algorithm\n",
    "\n",
    "In this lesson you will learn:\n",
    "- What is a query algorithm?\n",
    "- Deutsch's algorithm, which provides a clear quantum advantage on recognizing parity of a function.\n",
    "- Deutsch-Josza algorithm, which generalizes Deutsch's algorithm more than 2 qubits.\n",
    "- BONUS: Bernstein-Vazirani algorithm"
   ]
  },
  {
   "cell_type": "code",
   "execution_count": 1,
   "metadata": {},
   "outputs": [],
   "source": [
    "# Specific install for Kaggle Notebooks environment\n",
    "import os\n",
    "iskaggle = os.environ.get('KAGGLE_KERNEL_RUN_TYPE', '')\n",
    "\n",
    "# Kaleido is used to convert Plotly to static png\n",
    "!pip install -Uqq kaleido\n",
    "!pip install -Uqq skq"
   ]
  },
  {
   "cell_type": "code",
   "execution_count": 2,
   "metadata": {},
   "outputs": [],
   "source": [
    "from skq.gates.qubit import H, I, Measure, DeutschJozsaOracle\n",
    "from skq.circuits import Concat, Circuit\n",
    "\n",
    "# Fix Plotly rendering in Jupyter forks.\n",
    "# If you are running this notebook locally you can comment this out.\n",
    "# This allows you to play with interactive Plotly plots.\n",
    "import plotly.io as pio\n",
    "pio.renderers.default = 'png'"
   ]
  },
  {
   "cell_type": "markdown",
   "metadata": {},
   "source": [
    "# Work in progress (WIP)"
   ]
  },
  {
   "cell_type": "markdown",
   "metadata": {},
   "source": [
    "- One of the simplest algorithms exhibiting quantum advantage.\n",
    "\n",
    "- Solves the parity problem in one pass, as opposed to classical algorithms that require at least two passes. The outcome is either constant or balanced.\n",
    "- One of the query algorithms along with **Deutsch-Josza**, **Grover** and **Shor** algorithms.\n",
    "- **Phase kickback** in **oracle**.\n",
    "\n",
    "\n",
    "$$ U_f \\vert x \\rangle \\vert y \\rangle = \\vert x \\rangle \\vert y \\oplus f(x) \\rangle $$\n",
    "\n",
    "- $0$ if $f$ is constant. $1$ if $f$ is balanced.\n",
    "\n",
    "- Balanced means $f(0) \\neq f(1)$. Constant means $f(0) = f(1)$.\n",
    "\n",
    "- No entanglement required."
   ]
  },
  {
   "cell_type": "markdown",
   "metadata": {},
   "source": [
    "## 2 qubits"
   ]
  },
  {
   "cell_type": "markdown",
   "metadata": {},
   "source": [
    "The only difference between the Deutsch and Deutsch-Josza algorithm is that Deutsch's algorithm is for a function with 1 bit ($f: \\{0,1\\} \\rightarrow \\{0,1\\}$), while Deutsch-Josza generalizes the algorithm to $n$ qubits ($f: \\{0,1\\}^n \\rightarrow \\{0,1\\}$). Therefore we will right away start with the Deutsch-Josza algorithm. The oracle will be different depending on whether the function is constant or balanced."
   ]
  },
  {
   "cell_type": "code",
   "execution_count": 60,
   "metadata": {},
   "outputs": [],
   "source": [
    "def create_deutsch_balanced():\n",
    "    def balanced_function(x):\n",
    "        \"\"\"f(0)=0, f(1)=0, f(2)=1, f(3)=1\"\"\"\n",
    "        return 1 if x >= 2 else 0\n",
    "\n",
    "    return Circuit([\n",
    "        Concat([H(), H()]),\n",
    "        DeutschJozsaOracle(balanced_function, n_bits=2),\n",
    "        Concat([H(), H()]),\n",
    "        Measure()\n",
    "    ])\n",
    "\n",
    "def create_deutsch_constant():\n",
    "    def constant_function(x):\n",
    "        \"\"\"Always 0: f(0)=0, f(1)=0, f(2)=0, f(3)=0\"\"\"\n",
    "        return 0\n",
    "    \n",
    "    return Circuit([\n",
    "        Concat([H(), H()]),\n",
    "        DeutschJozsaOracle(constant_function, n_bits=2),\n",
    "        Concat([H(), H()]),\n",
    "        Measure()\n",
    "    ])"
   ]
  },
  {
   "cell_type": "code",
   "execution_count": 61,
   "metadata": {},
   "outputs": [
    {
     "data": {
      "text/plain": [
       "array([0., 0., 1., 0.])"
      ]
     },
     "execution_count": 61,
     "metadata": {},
     "output_type": "execute_result"
    }
   ],
   "source": [
    "balanced_circuit = create_deutsch_balanced()\n",
    "balanced_circuit([1,0,0,0]).round(3)"
   ]
  },
  {
   "cell_type": "markdown",
   "metadata": {},
   "source": [
    "For balanced functions the probabilities the result is $|10⟩$. The first qubit is always $1$, so the function is balanced."
   ]
  },
  {
   "cell_type": "code",
   "execution_count": 62,
   "metadata": {},
   "outputs": [
    {
     "data": {
      "image/png": "[encoded data removed]",
      "text/plain": [
       "<Figure size 788.961x284.278 with 1 Axes>"
      ]
     },
     "execution_count": 62,
     "metadata": {},
     "output_type": "execute_result"
    }
   ],
   "source": [
    "balanced_circuit.draw(output='mpl')"
   ]
  },
  {
   "cell_type": "code",
   "execution_count": 63,
   "metadata": {},
   "outputs": [
    {
     "data": {
      "text/plain": [
       "DeutschJozsaOracle([[ 1.+0.j,  0.+0.j,  0.+0.j,  0.+0.j],\n",
       "                    [ 0.+0.j,  1.+0.j,  0.+0.j,  0.+0.j],\n",
       "                    [ 0.+0.j,  0.+0.j, -1.+0.j,  0.+0.j],\n",
       "                    [ 0.+0.j,  0.+0.j,  0.+0.j, -1.+0.j]])"
      ]
     },
     "execution_count": 63,
     "metadata": {},
     "output_type": "execute_result"
    }
   ],
   "source": [
    "balanced_circuit[1]"
   ]
  },
  {
   "cell_type": "code",
   "execution_count": 64,
   "metadata": {},
   "outputs": [
    {
     "data": {
      "text/plain": [
       "array([1., 0., 0., 0.])"
      ]
     },
     "execution_count": 64,
     "metadata": {},
     "output_type": "execute_result"
    }
   ],
   "source": [
    "constant_circuit = create_deutsch_constant()\n",
    "constant_circuit([1,0,0,0]).round(3)"
   ]
  },
  {
   "cell_type": "markdown",
   "metadata": {},
   "source": [
    "For constant functions the result is $|00⟩$. The first qubit is always $0$, so the function is constant."
   ]
  },
  {
   "cell_type": "code",
   "execution_count": 8,
   "metadata": {},
   "outputs": [
    {
     "data": {
      "text/plain": [
       "DeutschJozsaOracle([[1.+0.j, 0.+0.j, 0.+0.j, 0.+0.j],\n",
       "                    [0.+0.j, 1.+0.j, 0.+0.j, 0.+0.j],\n",
       "                    [0.+0.j, 0.+0.j, 1.+0.j, 0.+0.j],\n",
       "                    [0.+0.j, 0.+0.j, 0.+0.j, 1.+0.j]])"
      ]
     },
     "execution_count": 8,
     "metadata": {},
     "output_type": "execute_result"
    }
   ],
   "source": [
    "constant_circuit[1]"
   ]
  },
  {
   "cell_type": "markdown",
   "metadata": {},
   "source": [
    "# Work In Progress (WIP)"
   ]
  },
  {
   "cell_type": "markdown",
   "metadata": {},
   "source": [
    "- Deutsch-Josza algorithm is very similar to Deutsch's algorithm.\n",
    "- Extends Deutsch's algorithm to $n \\geq 1$ bits.\n",
    "\n",
    "- $U_f$ has a so-called **promise**. This means that we have to make sure that the function $f$ is either constant or balanced, else the algorithm will not work and will give unpredictable results. \n",
    "\n",
    "- Balanced function: $f(x_1, \\ldots, x_n) = 1$ for exactly $2^{n-1}$ inputs and $f(x_1, \\ldots, x_n) = 0$ for the remaining $2^{n-1}$ inputs.\n",
    "- Constant function: $f(x_1, \\ldots, x_n) = 0$ for all inputs or $f(x_1, \\ldots, x_n) = 1$ for all inputs.\n",
    "\n",
    "- Deterministic classical algorithm requires $2^{n-1} + 1$ queries to determine if the function is constant or balanced. \n",
    "\n",
    "- A probabilistic classical algorithm requires a few queries.\n",
    "\n",
    "1. Choose $k$ input strings $x_1, \\ldots, x_k$ at random.\n",
    "2. If $f(x_i) = 1$ for all $i = 1, \\ldots, k$, then output constant, else balanced. If $f$ is constant algorithm is 100% correct. if $f$ is balanced, the algorithm is correct with probability $1 - 2^{-k+1}$.\n",
    "\n",
    "- Deutsch-Josza algorithm requires only $1$ query.\n",
    "\n",
    "- The same Deutsch-Josza algorithm can also solve the **Bernstein-Vazirani** problem. A recursive version of Bernstein-Vazirani was one of the first algorithms that gain a superpolynomial advantage over classical algorithms.\n",
    "\n",
    "# TODO Show both Deutsch-Josza and probabilistic classical algorithm.\n",
    "\n"
   ]
  },
  {
   "cell_type": "code",
   "execution_count": 50,
   "metadata": {},
   "outputs": [],
   "source": [
    "def create_deutsch_josza_balanced():\n",
    "    def balanced_function(x):\n",
    "        \"\"\"Balanced function: f(0)=0, f(1)=0, f(2)=1, f(3)=1, \n",
    "                              f(4)=0, f(5)=0, f(6)=1, f(7)=1,\n",
    "                              f(8)=0, f(9)=0, f(10)=1, f(11)=1,\n",
    "                              f(12)=0, f(13)=0, f(14)=1, f(15)=1\"\"\"\n",
    "        return 1 if x >= 8 else 0  # Half of the states are 1\n",
    "\n",
    "    return Circuit([\n",
    "        Concat([H(), H(), H(), H()]),\n",
    "        DeutschJozsaOracle(balanced_function, n_bits=4),\n",
    "        Concat([H(), H(), H(), H()]),\n",
    "        Measure()\n",
    "    ])\n",
    "\n",
    "def create_deutsch_josza_constant():\n",
    "    def constant_function(x):\n",
    "        \"\"\"Always 0: f(x) = 0 for all x\"\"\"\n",
    "        return 0  # Always 0\n",
    "\n",
    "    return Circuit([\n",
    "        Concat([H(), H(), H(), H()]), \n",
    "        DeutschJozsaOracle(constant_function, n_bits=4),\n",
    "        Concat([H(), H(), H(), H()]),\n",
    "        Measure()\n",
    "    ])"
   ]
  },
  {
   "cell_type": "code",
   "execution_count": 55,
   "metadata": {},
   "outputs": [
    {
     "data": {
      "text/plain": [
       "array([0., 0., 0., 0., 0., 0., 0., 0., 1., 0., 0., 0., 0., 0., 0., 0.])"
      ]
     },
     "execution_count": 55,
     "metadata": {},
     "output_type": "execute_result"
    }
   ],
   "source": [
    "four_qubit_zero_state = [1]+[0]*15\n",
    "\n",
    "balanced_circuit = create_deutsch_josza_balanced()\n",
    "balanced_circuit(four_qubit_zero_state).round(3)"
   ]
  },
  {
   "cell_type": "code",
   "execution_count": 56,
   "metadata": {},
   "outputs": [
    {
     "data": {
      "image/png": "[encoded data removed]",
      "text/plain": [
       "<Figure size 956.385x451.5 with 1 Axes>"
      ]
     },
     "execution_count": 56,
     "metadata": {},
     "output_type": "execute_result"
    }
   ],
   "source": [
    "balanced_circuit.draw(output='mpl')"
   ]
  },
  {
   "cell_type": "code",
   "execution_count": 59,
   "metadata": {},
   "outputs": [
    {
     "data": {
      "text/plain": [
       "(16, 16)"
      ]
     },
     "execution_count": 59,
     "metadata": {},
     "output_type": "execute_result"
    }
   ],
   "source": [
    "balanced_circuit[1].shape"
   ]
  },
  {
   "cell_type": "code",
   "execution_count": 57,
   "metadata": {},
   "outputs": [
    {
     "data": {
      "text/plain": [
       "array([1., 0., 0., 0., 0., 0., 0., 0., 0., 0., 0., 0., 0., 0., 0., 0.])"
      ]
     },
     "execution_count": 57,
     "metadata": {},
     "output_type": "execute_result"
    }
   ],
   "source": [
    "constant_circuit = create_deutsch_josza_constant()\n",
    "constant_circuit(four_qubit_zero_state).round(3)"
   ]
  },
  {
   "cell_type": "markdown",
   "metadata": {},
   "source": [
    "# BONUS: Bernstein-Vazirani"
   ]
  },
  {
   "cell_type": "markdown",
   "metadata": {},
   "source": [
    "- In essence the same circuit as Deutsch-Josza.\n",
    "\n",
    "- Difference: Oracle encodes bitstring $s$, instead of a function $f$.\n",
    "\n"
   ]
  },
  {
   "cell_type": "markdown",
   "metadata": {},
   "source": [
    "# Work In Progress (WIP)"
   ]
  }
 ],
 "metadata": {
  "kernelspec": {
   "display_name": "q",
   "language": "python",
   "name": "python3"
  },
  "language_info": {
   "codemirror_mode": {
    "name": "ipython",
    "version": 3
   },
   "file_extension": ".py",
   "mimetype": "text/x-python",
   "name": "python",
   "nbconvert_exporter": "python",
   "pygments_lexer": "ipython3",
   "version": "3.12.4"
  }
 },
 "nbformat": 4,
 "nbformat_minor": 2
}
